{
 "cells": [
  {
   "cell_type": "markdown",
   "metadata": {},
   "source": [
    "### Vanderbei Exercise 17.1"
   ]
  },
  {
   "cell_type": "markdown",
   "metadata": {},
   "source": [
    "compute and graph the central trajectory for the following problem:\n",
    "$$\\text{max} \\quad -x_1 + x_2 \\\\ \\text{subject to} \\quad \\quad x_2 \\leq 1 \\\\ \n",
    "\\quad -x_1 \\quad \\leq -1 \\\\ \\quad x_1, x_2 \\geq 0$$"
   ]
  },
  {
   "cell_type": "markdown",
   "metadata": {},
   "source": []
  }
 ],
 "metadata": {
  "language_info": {
   "name": "python"
  }
 },
 "nbformat": 4,
 "nbformat_minor": 2
}
