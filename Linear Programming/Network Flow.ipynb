{
 "cells": [
  {
   "cell_type": "markdown",
   "metadata": {},
   "source": [
    "NetworkX and pandas\n",
    "NetworkXLinks to an external site. is a Python package for network analysis and pandasLinks to an external site. is a Python package for data analysis. How do we import, analyze and visualize a dataset using pandas? If our dataset includes nodes and edges for a network, how do we use NetworkX to construct the graph object? Find an interesting dataset related to a network and write a tutorial to show how to use these packages to perform network analysis.\n",
    "\n",
    "Maximum Flow\n",
    "The maximum flow problem computes the maximum flow from a source node to a target node in a network. Find network data and formulate the maximum flow problem as a linear programming problem. Use the functions scipy.optimize.linprog and networkx.maximum_flow to compute the solution and verify that they are the same. Visualize the maximum flow by using colors on the edges to indicate the value of the flow.\n",
    "\n",
    "Shortest Path\n",
    "The shortest path problem computes the shortest path from a source node to a target node in a network. Find network data and formulate the shortest path problem as a linear programming problem. Use the functions scipy.optimize.linprog and networkx.shortest_path to compute the solution and verify that they are the same. Visualize the shortest path by using colors on the edges to distinguish the shortest path.\n"
   ]
  }
 ],
 "metadata": {
  "language_info": {
   "name": "python"
  }
 },
 "nbformat": 4,
 "nbformat_minor": 2
}
