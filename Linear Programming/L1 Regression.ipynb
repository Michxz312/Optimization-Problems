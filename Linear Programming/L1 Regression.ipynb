{
 "cells": [
  {
   "cell_type": "code",
   "execution_count": 2,
   "metadata": {},
   "outputs": [],
   "source": [
    "import numpy as np\n",
    "from scipy.optimize import linprog\n",
    "import matplotlib.pyplot as plt"
   ]
  },
  {
   "cell_type": "markdown",
   "metadata": {},
   "source": [
    "## L1 Regression"
   ]
  },
  {
   "cell_type": "markdown",
   "metadata": {},
   "source": [
    "### $L^1$ norm (Manhattan distance)\n",
    "\n",
    "p-norm : $\\lVert x {\\rVert}_p$ = $(\\sum_{i=1}^n |x_i|^p)^{\\frac{1}{p}}$\n",
    "\n",
    "1-norm : $\\lVert x {\\rVert}_1$ = $\\sum_{i=1}^n |x_i|$"
   ]
  },
  {
   "cell_type": "markdown",
   "metadata": {},
   "source": [
    "#### Example of the format $\\mathbf{b} = \\mathbf{A} \\mathbf{x} + \\varepsilon$\n",
    "\n",
    "Generate a matrix $\\mathbf{A}, \\mathbf{b}$ and plot the error, $\\varepsilon$."
   ]
  },
  {
   "cell_type": "code",
   "execution_count": 10,
   "metadata": {},
   "outputs": [
    {
     "name": "stdout",
     "output_type": "stream",
     "text": [
      "[[1.         0.95777209]\n",
      " [1.         0.71579171]\n",
      " [1.         0.58719454]\n",
      " [1.         0.35776941]\n",
      " [1.         0.3338922 ]\n",
      " [1.         0.86217468]\n",
      " [1.         0.95802051]\n",
      " [1.         0.07823915]\n",
      " [1.         0.53316236]\n",
      " [1.         0.56999259]]\n",
      "[0.49784826 0.89349542 0.97001152 0.41249578 0.7526721  0.25492807\n",
      " 0.23615198 0.31095184 0.27803477 0.77483682]\n"
     ]
    }
   ],
   "source": [
    "# Generate matrix A and b\n",
    "N = 10 # we have 10 set of points\n",
    "x = np.random.random(10)\n",
    "# add column of 1's in front of the matrix to account for B0:\n",
    "A = np.vander(x, N=2, increasing=True) \n",
    "b = np.random.random(10)\n",
    "print(A)\n",
    "print(b)"
   ]
  },
  {
   "cell_type": "code",
   "execution_count": 3,
   "metadata": {},
   "outputs": [
    {
     "data": {
      "image/png": "[encoded data removed]",
      "text/plain": [
       "<Figure size 640x480 with 1 Axes>"
      ]
     },
     "metadata": {},
     "output_type": "display_data"
    }
   ],
   "source": [
    "b1,b0 = np.polyfit(x, b, 1)\n",
    "plt.scatter(x,b)\n",
    "plt.plot(x, b1*x+b0)\n",
    "plt.vlines(x, ymin = b, ymax = b1*x+b0, label = 'error', linestyle='dashed')\n",
    "plt.legend()\n",
    "plt.show()"
   ]
  },
  {
   "cell_type": "markdown",
   "metadata": {},
   "source": [
    "### $L^1$ - Regression"
   ]
  },
  {
   "cell_type": "markdown",
   "metadata": {},
   "source": [
    "* minimizing the sum of absolute deviations \n",
    "* less sensitive to outliers than least squares regression\n",
    "\n",
    "#### Transform to optimization problem: \n",
    "\n",
    "Objective function: $\\min \\varepsilon = \\displaystyle \\min_x \\|b-Ax|\\|_1$\n",
    "\n",
    "$L^1$ regression uses $L^1$-norm to find the vector $x$:\n",
    "$$\\displaystyle\\min_x \\|b-Ax|\\|_1 = \\min \\sum_{i=1}^n |b-Ax|$$\n",
    "\n",
    "which is equivalent to: \n",
    "$$\n",
    "\\begin{align*}\n",
    "\\displaystyle\\min \\sum_i t_i\\\\\n",
    "\\text{subject to} && t_i - |\\mathbf{b}-\\mathbf{Ax}| = 0 \n",
    "\\end{align*}\n",
    "$$\n",
    "and therefore we have:\n",
    "$$\n",
    "\\begin{align*}\n",
    "\\displaystyle\\min \\sum_i t_i\\\\\n",
    "\\text{subject to} && -\\mathbf{t}-\\mathbf{Ax} \\leq -\\mathbf{b} \\\\\n",
    "&& -\\mathbf{t} + \\mathbf{Ax} \\leq \\mathbf{b}\n",
    "\\end{align*}\n",
    "$$\n"
   ]
  },
  {
   "cell_type": "markdown",
   "metadata": {},
   "source": [
    "### Linear Algebra Review\n"
   ]
  },
  {
   "cell_type": "markdown",
   "metadata": {},
   "source": [
    "\n",
    "Let $Ax = b$ and A be a $m \\times n$\n",
    "\n",
    "* case 1: m = n (square matrix)\n",
    "    - unique solution: If matrix A is non-singular\n",
    "    - infinitely many solution: If matrix A is singular and b $\\in$ span(A)\n",
    "    - no solution: If matrix A is singular and b $\\notin$ span(A)\n",
    "* case 2: m < n (underdetermined)\n",
    "    - infinitely many solution: If matrix A is non-singular or matrix A is singular and b $\\in$ span(A)\n",
    "    - no solution: If matrix A is singular and b $\\notin$ span(A)\n",
    "* case 3: m > n (overdetermined)\n",
    "    - unique solution: If matrix A is non-singular and b $\\in$ span(A)\n",
    "    - infinitely many solution: If matrix A is non-singular and b $\\in$ span(A)\n",
    "    - no solution: If matrix A is non-singular and b $\\notin$ span(A) or If matrix A is singular and b $\\notin$ span(A)\n",
    "\n",
    "\n",
    "soure: MATH 307 notes\n",
    "\n",
    "For linear optimization, we also have overdetermined and underdetermined systems. \n",
    "\n",
    "**Overdetermined systems:**\n",
    "\n",
    "The matrix A has m > n, so there are more constraints than variables. This will most likely result in no solution, so there is little possibility that we have $\\mathbf{b}=\\mathbf{Ax}$. So, the goal is to minimize the error $\\varepsilon$ to get the best fit line. \n",
    "\n",
    "**Underdetermined systems:**\n",
    "\n",
    "The matrix has m < n, so there are more variables than constraints. It is likely to have infinitely many solutions. This is different than the previous explanations. The solution is unbounded if there are infinitely many solutions, so we need to have a way to select the feasible region to obtain an optimal solution instead of minimizing the error.\n",
    "\n",
    "source: Math 441 notes"
   ]
  },
  {
   "cell_type": "markdown",
   "metadata": {},
   "source": [
    "### $L^1$ regression application: Real estate price prediction\n",
    "\n",
    "The dataset can be found from: https://statso.io/real-estate-prediction-case-study/\n",
    "\n",
    "**1. Define the problem**"
   ]
  },
  {
   "cell_type": "code",
   "execution_count": 3,
   "metadata": {},
   "outputs": [
    {
     "data": {
      "text/html": [
       "<div>\n",
       "<style scoped>\n",
       "    .dataframe tbody tr th:only-of-type {\n",
       "        vertical-align: middle;\n",
       "    }\n",
       "\n",
       "    .dataframe tbody tr th {\n",
       "        vertical-align: top;\n",
       "    }\n",
       "\n",
       "    .dataframe thead th {\n",
       "        text-align: right;\n",
       "    }\n",
       "</style>\n",
       "<table border=\"1\" class=\"dataframe\">\n",
       "  <thead>\n",
       "    <tr style=\"text-align: right;\">\n",
       "      <th></th>\n",
       "      <th>Transaction date</th>\n",
       "      <th>House age</th>\n",
       "      <th>Distance to the nearest MRT station</th>\n",
       "      <th>Number of convenience stores</th>\n",
       "      <th>Latitude</th>\n",
       "      <th>Longitude</th>\n",
       "      <th>House price of unit area</th>\n",
       "    </tr>\n",
       "  </thead>\n",
       "  <tbody>\n",
       "    <tr>\n",
       "      <th>0</th>\n",
       "      <td>2012-09-02 16:42:30.519336</td>\n",
       "      <td>13.3</td>\n",
       "      <td>4082.0150</td>\n",
       "      <td>8</td>\n",
       "      <td>25.007059</td>\n",
       "      <td>121.561694</td>\n",
       "      <td>6.488673</td>\n",
       "    </tr>\n",
       "    <tr>\n",
       "      <th>1</th>\n",
       "      <td>2012-09-04 22:52:29.919544</td>\n",
       "      <td>35.5</td>\n",
       "      <td>274.0144</td>\n",
       "      <td>2</td>\n",
       "      <td>25.012148</td>\n",
       "      <td>121.546990</td>\n",
       "      <td>24.970725</td>\n",
       "    </tr>\n",
       "    <tr>\n",
       "      <th>2</th>\n",
       "      <td>2012-09-05 01:10:52.349449</td>\n",
       "      <td>1.1</td>\n",
       "      <td>1978.6710</td>\n",
       "      <td>10</td>\n",
       "      <td>25.003850</td>\n",
       "      <td>121.528336</td>\n",
       "      <td>26.694267</td>\n",
       "    </tr>\n",
       "    <tr>\n",
       "      <th>3</th>\n",
       "      <td>2012-09-05 13:26:01.189083</td>\n",
       "      <td>22.2</td>\n",
       "      <td>1055.0670</td>\n",
       "      <td>5</td>\n",
       "      <td>24.962887</td>\n",
       "      <td>121.482178</td>\n",
       "      <td>38.091638</td>\n",
       "    </tr>\n",
       "    <tr>\n",
       "      <th>4</th>\n",
       "      <td>2012-09-06 08:29:47.910523</td>\n",
       "      <td>8.5</td>\n",
       "      <td>967.4000</td>\n",
       "      <td>6</td>\n",
       "      <td>25.011037</td>\n",
       "      <td>121.479946</td>\n",
       "      <td>21.654710</td>\n",
       "    </tr>\n",
       "  </tbody>\n",
       "</table>\n",
       "</div>"
      ],
      "text/plain": [
       "             Transaction date  House age  Distance to the nearest MRT station  \\\n",
       "0  2012-09-02 16:42:30.519336       13.3                            4082.0150   \n",
       "1  2012-09-04 22:52:29.919544       35.5                             274.0144   \n",
       "2  2012-09-05 01:10:52.349449        1.1                            1978.6710   \n",
       "3  2012-09-05 13:26:01.189083       22.2                            1055.0670   \n",
       "4  2012-09-06 08:29:47.910523        8.5                             967.4000   \n",
       "\n",
       "   Number of convenience stores   Latitude   Longitude  \\\n",
       "0                             8  25.007059  121.561694   \n",
       "1                             2  25.012148  121.546990   \n",
       "2                            10  25.003850  121.528336   \n",
       "3                             5  24.962887  121.482178   \n",
       "4                             6  25.011037  121.479946   \n",
       "\n",
       "   House price of unit area  \n",
       "0                  6.488673  \n",
       "1                 24.970725  \n",
       "2                 26.694267  \n",
       "3                 38.091638  \n",
       "4                 21.654710  "
      ]
     },
     "execution_count": 3,
     "metadata": {},
     "output_type": "execute_result"
    }
   ],
   "source": [
    "import pandas as pd\n",
    "\n",
    "data = pd.read_csv('Real_Estate.csv')\n",
    "data.head()"
   ]
  },
  {
   "cell_type": "code",
   "execution_count": 4,
   "metadata": {},
   "outputs": [
    {
     "data": {
      "image/png": "[encoded data removed]",
      "text/plain": [
       "<Figure size 1000x700 with 6 Axes>"
      ]
     },
     "metadata": {},
     "output_type": "display_data"
    }
   ],
   "source": [
    "# plot data \n",
    "\n",
    "df1 = data[['House age','House price of unit area']].copy()\n",
    "df2 = data[['Distance to the nearest MRT station','House price of unit area']].copy()\n",
    "df3 = data[['Number of convenience stores','House price of unit area']].copy()\n",
    "df4 = data[['Latitude','House price of unit area']].copy()\n",
    "df5 = data[['Longitude','House price of unit area']].copy()\n",
    "\n",
    "fig, axs = plt.subplots(2, 3, figsize=(10,7))\n",
    "\n",
    "df1.plot.scatter(x= 'House age', y = 'House price of unit area', ax=axs[0,0])\n",
    "df2.plot.scatter(x = 'Distance to the nearest MRT station', y = 'House price of unit area', ax=axs[0,1])\n",
    "df3.plot.scatter(x = 'Number of convenience stores', y = 'House price of unit area', ax=axs[0,2])\n",
    "df4.plot.scatter(x = 'Latitude', y = 'House price of unit area', ax=axs[1,0])\n",
    "df5.plot.scatter(x = 'Longitude', y = 'House price of unit area', ax=axs[1,1])\n",
    "\n",
    "axs[1,2].axis('off')\n",
    "plt.subplots_adjust(bottom=0.5, wspace = 0.4, hspace = 0.7)\n",
    "plt.show()"
   ]
  },
  {
   "cell_type": "code",
   "execution_count": 5,
   "metadata": {},
   "outputs": [],
   "source": [
    "# removing outliers so it doesn't affect the l1 regression \n",
    "data = data.drop(data.columns[0], axis = 1) # drop first column\n",
    "Q1 = data.quantile(0.25)\n",
    "Q3 = data.quantile(0.75)\n",
    "IQR = Q3 - Q1\n",
    "lb = Q1 - 1.5 * IQR\n",
    "ub = Q3 + 1.5 * IQR\n",
    "# new data\n",
    "data = data[-((data < lb) | (data > ub)).any(axis = 1)]"
   ]
  },
  {
   "cell_type": "markdown",
   "metadata": {},
   "source": [
    "Problem : Given the house age, distance to the MRT station, number of convenience stores, latitude, and longitude, find the best-fit line to get the approximate house price per unit area. "
   ]
  },
  {
   "cell_type": "markdown",
   "metadata": {},
   "source": [
    "**2. Identify the variables and parameters**"
   ]
  },
  {
   "cell_type": "markdown",
   "metadata": {},
   "source": [
    "Variables: \n",
    "\n",
    "1. $x_1$: house age\n",
    "2. $x_2$: distance to the nearest MRT station\n",
    "3. $x_3$: nearest convenience stores\n",
    "4. $x_4$: latitude\n",
    "5. $x_5$: longitude\n",
    "6. b = house price of unit area"
   ]
  },
  {
   "cell_type": "markdown",
   "metadata": {},
   "source": [
    "Multiple Linear Regression:\n",
    "$$\n",
    "\\mathbf{b} = Ax+ \\varepsilon \\\\\n",
    "\\mathbf{b} = \\beta_0 + \\beta_1 \\mathbf{x_1} + \\beta_2 \\mathbf{x_2} + \\beta_3 \\mathbf{x_3} + \\beta_4 \\mathbf{x_4} + \\beta_5 \\mathbf{x_5}+ \\varepsilon \\\\\n",
    "$$"
   ]
  },
  {
   "cell_type": "markdown",
   "metadata": {},
   "source": [
    "**3. State the assumptions and constraints:**\n",
    "\n",
    "Assumptions:\n",
    "\n",
    "- let the data be divided into training and testing data by 0.8 and 0.2\n",
    "- let the constant be 30\n"
   ]
  },
  {
   "cell_type": "markdown",
   "metadata": {},
   "source": [
    "constraints:\n",
    "$$-\\mathbf{t}-\\mathbf{Ax} \\leq -\\mathbf{b} \\\\\n",
    "-\\mathbf{t} + \\mathbf{Ax} \\leq \\mathbf{b} \\\\\n",
    "x \\geq 0$$\n"
   ]
  },
  {
   "cell_type": "markdown",
   "metadata": {},
   "source": [
    "**4. Build the solution** (using scipy.linprog)"
   ]
  },
  {
   "cell_type": "markdown",
   "metadata": {},
   "source": [
    "To find the coeefficient of each variables, we can form the matrix:\n",
    "\n",
    "$$\n",
    "\\begin{bmatrix}\n",
    "-\\mathbf{A} & -\\mathbf{I} \\\\\n",
    "\\mathbf{A} & -\\mathbf{I} \\\\\n",
    "\\end{bmatrix}\n",
    "\n",
    "\\begin{bmatrix}\n",
    "\\mathbf{x} \\\\\n",
    "\\mathbf{t} \\\\\n",
    "\\end{bmatrix}\n",
    "=\n",
    "\\begin{bmatrix}\n",
    "-\\mathbf{y} \\\\\n",
    "\\mathbf{y} \\\\\n",
    "\\end{bmatrix}\n",
    "\n",
    "$$\n",
    "\n",
    "The above is equivalent to computing $-\\mathbf{Ax} -\\mathbf{t} \\leq -\\mathbf{b} \\text{ and } \\mathbf{Ax} -\\mathbf{t} \\leq \\mathbf{b}$. Then, using linear optimization solver, we can find the minimum $\\sum_i t_i$ subject to the constraints. Obtaining the result.x (since I am using scipy.linprog), we can obtain a single array of the coefficients of the variables and the slack variables. "
   ]
  },
  {
   "cell_type": "code",
   "execution_count": 6,
   "metadata": {},
   "outputs": [],
   "source": [
    "### add constant 30 \n",
    "data['constant'] = 60"
   ]
  },
  {
   "cell_type": "code",
   "execution_count": 7,
   "metadata": {},
   "outputs": [
    {
     "name": "stdout",
     "output_type": "stream",
     "text": [
      "304\n"
     ]
    }
   ],
   "source": [
    "### Identifying the features and the target of the data\n",
    "from sklearn.model_selection import train_test_split\n",
    "\n",
    "x = data[['constant', 'House age', 'Distance to the nearest MRT station', 'Number of convenience stores', 'Latitude', 'Longitude']]\n",
    "y = data['House price of unit area']\n",
    "\n",
    "x_train, x_test, y_train, y_test = train_test_split(x, y, test_size=0.2, random_state=42)\n",
    "\n",
    "print(len(x_train))"
   ]
  },
  {
   "cell_type": "markdown",
   "metadata": {},
   "source": [
    "Since the units of the variables are different, we need to normalize it."
   ]
  },
  {
   "cell_type": "code",
   "execution_count": 8,
   "metadata": {},
   "outputs": [],
   "source": [
    "from sklearn.preprocessing import MinMaxScaler\n",
    "\n",
    "scaler = MinMaxScaler()\n",
    "x_train_scaled = scaler.fit_transform(x_train)\n",
    "x_test_scaled = scaler.transform(x_test)"
   ]
  },
  {
   "cell_type": "markdown",
   "metadata": {},
   "source": [
    "$\\text{L}^1$ regression of overdetermined system. \n",
    "\n",
    "\n",
    "Since we have five variables and 331 slack variables (from having 331 equations), then there should be 5 + 331 = 336 columns and 331*2 = 662 rows.\n",
    "\n",
    "$$\n",
    "\n",
    "\\begin{bmatrix}\n",
    "\n",
    "-a_{1,1} & \\cdots & -a_{1,5} & -t_{1} & 0 & 0 & 0 \\\\\n",
    "-a_{2,1} & \\cdots & -a_{2,5} & \\vdots & -t_{2} & 0 & 0 \\\\\n",
    "\\vdots & \\vdots & \\vdots & \\vdots & \\vdots & \\ddots & 0 \\\\\n",
    "-a_{331,1} & \\cdots & -a_{331,5} & 0 & \\cdots & 0 & -t_{331}\\\\\n",
    "a_{334,1} & \\cdots & a_{334,5} & -t_{1} & 0 & 0 & 0 \\\\\n",
    "a_{335,1} & \\cdots & a_{335,5} & \\vdots & -t_{2} & 0 & 0 \\\\\n",
    "\\vdots & \\vdots & \\vdots & \\vdots & \\vdots & \\ddots & 0 \\\\\n",
    "a_{662,1} & \\cdots & a_{551,5} & 0 & \\cdots & 0 & -t_{331}\\\\\n",
    "\n",
    "\\end{bmatrix} \n",
    "\n",
    "$$"
   ]
  },
  {
   "cell_type": "code",
   "execution_count": 9,
   "metadata": {},
   "outputs": [
    {
     "name": "stdout",
     "output_type": "stream",
     "text": [
      "(304, 6)\n",
      "(608, 310)\n"
     ]
    }
   ],
   "source": [
    "A = np.array(x_train_scaled)\n",
    "print(A.shape)\n",
    "N = len(x_train_scaled) # number of slack variables\n",
    "y = np.array(y_train)\n",
    "\n",
    "# set the matrix for the constraints:\n",
    "A = np.block([[-A,-np.eye(N)],[A,-np.eye(N)]])\n",
    "print(A.shape)"
   ]
  },
  {
   "cell_type": "code",
   "execution_count": 162,
   "metadata": {},
   "outputs": [
    {
     "name": "stdout",
     "output_type": "stream",
     "text": [
      "[ 0.000e+00  5.490e+00 -1.686e+01  3.166e+01  2.401e+01  9.350e+00\n",
      "  1.137e+01  1.060e+00  4.260e+00  2.660e+00  2.780e+00  1.771e+01\n",
      "  7.610e+00  6.710e+00  5.340e+00  7.590e+00  5.400e+00  3.260e+01\n",
      "  3.211e+01  1.757e+01  3.990e+00  1.799e+01  8.380e+00  1.319e+01\n",
      "  2.744e+01  1.500e+00  1.954e+01  1.029e+01  2.330e+00  5.900e+00\n",
      "  1.214e+01  3.730e+00  1.780e+00  1.708e+01  1.460e+00  3.100e-01\n",
      "  4.840e+00 -0.000e+00  0.000e+00  5.490e+00  9.410e+00  1.199e+01\n",
      "  0.000e+00  2.552e+01  2.107e+01  2.617e+01  7.080e+00  1.704e+01\n",
      "  9.640e+00  5.120e+00  1.477e+01  2.126e+01  1.388e+01  1.495e+01\n",
      "  2.374e+01  3.570e+00  6.480e+00  1.050e+00  1.340e+00  6.140e+00\n",
      "  1.760e+00  1.629e+01  5.260e+00  1.421e+01  5.910e+00  1.894e+01\n",
      "  2.597e+01  9.950e+00  1.812e+01  3.030e+00  2.116e+01  2.487e+01\n",
      "  1.514e+01  1.292e+01  1.124e+01  1.307e+01  2.248e+01  1.095e+01\n",
      "  1.217e+01  1.280e+00  5.300e-01  1.616e+01  4.610e+00  9.210e+00\n",
      "  1.420e+01  5.490e+00  2.680e+00  2.266e+01  1.060e+01  3.890e+00\n",
      "  4.295e+01  2.248e+01  1.335e+01  1.384e+01  2.830e+01 -0.000e+00\n",
      "  3.373e+01  2.732e+01  2.750e+00  9.850e+00  3.720e+00  5.300e+00\n",
      "  6.390e+00  1.255e+01  2.023e+01 -0.000e+00  5.490e+00  1.292e+01\n",
      "  8.690e+00  4.770e+00  1.379e+01  1.890e+01  1.128e+01  3.004e+01\n",
      "  1.362e+01  2.293e+01  1.888e+01  2.300e-01  1.537e+01  5.690e+00\n",
      "  1.096e+01  8.050e+00  2.050e+00  1.177e+01  9.870e+00  2.163e+01\n",
      "  3.890e+00  1.789e+01  1.171e+01  1.080e+00  4.510e+00  1.100e+00\n",
      "  5.380e+00  1.161e+01  1.135e+01  1.346e+01  8.210e+00  1.781e+01\n",
      "  2.645e+01  1.922e+01  1.860e+01  1.512e+01  8.740e+00  1.649e+01\n",
      "  8.650e+00  9.950e+00  4.670e+00  1.718e+01  2.591e+01  9.820e+00\n",
      "  7.490e+00  6.320e+00  1.810e+00  1.907e+01  8.710e+00  3.570e+00\n",
      "  8.820e+00  1.250e+00  4.600e-01  3.050e+00  1.146e+01  2.323e+01\n",
      "  1.518e+01  1.500e+00  3.270e+00  2.149e+01  1.770e+01  1.326e+01\n",
      "  1.670e+00  5.120e+00  2.698e+01  1.025e+01  1.073e+01  1.728e+01\n",
      "  1.523e+01  1.437e+01  1.257e+01  2.700e+00  8.650e+00  3.290e+00\n",
      "  4.550e+00  9.990e+00  3.100e-01  2.620e+00  3.627e+01  2.950e+00\n",
      "  8.130e+00  1.498e+01  2.233e+01  1.033e+01  1.090e+00  9.400e+00\n",
      "  1.639e+01  1.080e+01  7.900e+00  4.840e+00  6.430e+00  1.118e+01\n",
      "  2.688e+01  6.100e-01  1.219e+01  1.187e+01  1.900e+00  9.060e+00\n",
      "  3.170e+00  2.360e+00  1.581e+01  8.580e+00  8.510e+00  3.310e+00\n",
      "  2.376e+01  3.840e+00  2.828e+01  2.415e+01  2.900e+00  5.810e+00\n",
      "  4.410e+00  3.767e+01  3.200e-01  1.150e+00  4.560e+00  3.190e+00\n",
      "  8.300e-01  1.360e+01  3.390e+00  2.170e+00  8.280e+00  2.030e+00\n",
      "  2.080e+00  1.323e+01  7.170e+00  2.129e+01  1.565e+01  7.700e+00\n",
      "  1.279e+01  4.990e+00  5.000e+00  1.478e+01  3.004e+01  3.100e+01\n",
      "  1.960e+00  6.690e+00  1.660e+00  7.390e+00  1.170e+00  9.390e+00\n",
      "  4.160e+00  4.000e-02  1.399e+01  2.520e+01  2.109e+01  1.303e+01\n",
      "  1.486e+01  1.400e+00  2.300e+00  1.570e+01  1.620e+00  4.820e+00\n",
      "  5.200e-01  2.400e-01  1.550e+01  3.180e+00  1.059e+01  1.054e+01\n",
      "  2.398e+01  9.470e+00  8.760e+00  2.321e+01  9.830e+00  1.154e+01\n",
      "  2.198e+01  1.137e+01  6.080e+00  2.059e+01  1.603e+01  1.467e+01\n",
      "  1.415e+01  1.886e+01  1.234e+01  2.117e+01  1.500e-01  3.219e+01\n",
      "  1.329e+01  2.485e+01  2.447e+01  2.452e+01  6.970e+00  2.057e+01\n",
      "  3.700e-01  1.900e-01  5.440e+00  1.209e+01  1.016e+01  2.763e+01\n",
      "  1.986e+01  2.087e+01  2.041e+01  1.447e+01  1.551e+01  4.930e+00\n",
      "  1.120e+00  5.030e+00  5.970e+00  2.954e+01  4.038e+01  3.400e-01\n",
      "  1.427e+01  2.060e+00  3.330e+00  2.120e+01]\n",
      "[  0.      5.486 -16.858  31.659  24.014   9.346]\n"
     ]
    }
   ],
   "source": [
    "# set the y matrix\n",
    "y = np.hstack([-y,y]).reshape((2*N,1)) # reshape to 662 rows and 1 column\n",
    "\n",
    "# set the objective function\n",
    "t = np.ones(N)\n",
    "# The sum of the slack variables and the number of variables\n",
    "obj = np.hstack([np.zeros(6), t]).reshape((N+6))\n",
    "\n",
    "# Since only the slack variables are bounded, then we have to define the bounds:\n",
    "# There is no upper or lower bound for the x variables\n",
    "bounds = [(None, None) for _ in range(6)] + [(0,None) for _ in range(N)]\n",
    "\n",
    "# use scipy.linprog to solve\n",
    "result = linprog(obj, A_ub = A, b_ub = y, bounds = bounds)\n",
    "\n",
    "print(np.round(result.x,2))\n",
    "\n",
    "# We only want the result of the first 5 result.x because the rest are\n",
    "# the coefficients of the slack variables\n",
    "print(np.round(result.x[:6],3))"
   ]
  },
  {
   "cell_type": "code",
   "execution_count": 155,
   "metadata": {},
   "outputs": [
    {
     "name": "stdout",
     "output_type": "stream",
     "text": [
      "True\n"
     ]
    }
   ],
   "source": [
    "# check if the slack variables follow the bounds\n",
    "check = True\n",
    "for t in result.x[5:]:\n",
    "    if (t < 0): check = False\n",
    "\n",
    "print(True)"
   ]
  },
  {
   "cell_type": "markdown",
   "metadata": {},
   "source": [
    "Since the slack variables follow the bound, then the answers make sense. Next, we will interpret the results of the coefficients of result.x[:6].\n",
    "\n",
    "x = \\['House age', 'Distance to the nearest MRT station', 'Number of convenience stores', 'Latitude', 'Longitude'\\]\n",
    "\n",
    "The five elements of the array are supposed to represent each of the x, but we have a constant, the constant should be 0. Then the coefficient of house age is 5.801. The coefficient of the distance to the nearest MRT station is 0, and so on..."
   ]
  },
  {
   "cell_type": "markdown",
   "metadata": {},
   "source": [
    "**5.Evaluation**"
   ]
  },
  {
   "cell_type": "code",
   "execution_count": 82,
   "metadata": {},
   "outputs": [
    {
     "name": "stdout",
     "output_type": "stream",
     "text": [
      "[ 0.          0.         15.19894552  7.24946876  0.        ]\n"
     ]
    }
   ],
   "source": [
    "from sklearn.linear_model import Lasso\n",
    "\n",
    "lasso = Lasso(alpha=0.2, positive=True)  # Set alpha as needed\n",
    "lasso.fit(x_train_scaled, y_train)\n",
    "coefficients = lasso.coef_\n",
    "\n",
    "print(coefficients)"
   ]
  },
  {
   "cell_type": "markdown",
   "metadata": {},
   "source": [
    "Using Lasso method from sklearn, we determined that only features 3 and 4 impact the house price. The other features doesn't affect house prices a lot. "
   ]
  },
  {
   "cell_type": "markdown",
   "metadata": {},
   "source": [
    "**6. Conclusion**"
   ]
  },
  {
   "cell_type": "markdown",
   "metadata": {},
   "source": [
    "### Comparison of L1 and L2 regression"
   ]
  },
  {
   "cell_type": "markdown",
   "metadata": {},
   "source": [
    "#### $\\text{L}^2$ Regression"
   ]
  },
  {
   "cell_type": "code",
   "execution_count": 157,
   "metadata": {},
   "outputs": [
    {
     "name": "stdout",
     "output_type": "stream",
     "text": [
      "                               OLS Regression Results                               \n",
      "====================================================================================\n",
      "Dep. Variable:     House price of unit area   R-squared:                       0.413\n",
      "Model:                                  OLS   Adj. R-squared:                  0.403\n",
      "Method:                       Least Squares   F-statistic:                     41.95\n",
      "Date:                      Fri, 05 Apr 2024   Prob (F-statistic):           1.22e-32\n",
      "Time:                              02:46:58   Log-Likelihood:                -1167.3\n",
      "No. Observations:                       304   AIC:                             2347.\n",
      "Df Residuals:                           298   BIC:                             2369.\n",
      "Df Model:                                 5                                         \n",
      "Covariance Type:                  nonrobust                                         \n",
      "==============================================================================\n",
      "                 coef    std err          t      P>|t|      [0.025      0.975]\n",
      "------------------------------------------------------------------------------\n",
      "const         29.5657      2.207     13.395      0.000      25.222      33.909\n",
      "x1         -1.041e-14   1.01e-15    -10.333      0.000   -1.24e-14   -8.43e-15\n",
      "x2            -1.2592      2.392     -0.526      0.599      -5.967       3.448\n",
      "x3           -31.1439      2.828    -11.013      0.000     -36.709     -25.579\n",
      "x4            18.6241      2.276      8.183      0.000      14.145      23.103\n",
      "x5             8.0902      2.301      3.515      0.001       3.561      12.619\n",
      "x6            -4.3144      2.278     -1.894      0.059      -8.798       0.169\n",
      "==============================================================================\n",
      "Omnibus:                       88.742   Durbin-Watson:                   1.939\n",
      "Prob(Omnibus):                  0.000   Jarque-Bera (JB):               15.283\n",
      "Skew:                           0.065   Prob(JB):                     0.000480\n",
      "Kurtosis:                       1.909   Cond. No.                     2.38e+17\n",
      "==============================================================================\n",
      "\n",
      "Notes:\n",
      "[1] Standard Errors assume that the covariance matrix of the errors is correctly specified.\n",
      "[2] The smallest eigenvalue is 1.05e-32. This might indicate that there are\n",
      "strong multicollinearity problems or that the design matrix is singular.\n"
     ]
    }
   ],
   "source": [
    "import statsmodels.api as sm\n",
    "\n",
    "X = sm.add_constant(x_train_scaled)\n",
    "reg = sm.OLS(y_train, X).fit()\n",
    "summary_table = reg.summary()\n",
    "print(summary_table)"
   ]
  },
  {
   "cell_type": "markdown",
   "metadata": {},
   "source": [
    "References:\n",
    "- Statso. (n.d.). Real Estate Prediction Case Study. Retrieved from https://statso.io/real-estate-prediction-case-study/\n",
    "- Abdelmalek, Nabih N. “Linear L 1 Approximation for a Discrete Point Set and L 1 Solutions of Overdetermined Linear Equations.” Journal of the Association for Computing Machinery, vol. 18, no. 1, 1 Jan. 1971, pp. 41–47, https://doi.org/10.1145/321623.321628\n"
   ]
  }
 ],
 "metadata": {
  "kernelspec": {
   "display_name": "comet",
   "language": "python",
   "name": "python3"
  },
  "language_info": {
   "codemirror_mode": {
    "name": "ipython",
    "version": 3
   },
   "file_extension": ".py",
   "mimetype": "text/x-python",
   "name": "python",
   "nbconvert_exporter": "python",
   "pygments_lexer": "ipython3",
   "version": "3.11.5"
  }
 },
 "nbformat": 4,
 "nbformat_minor": 2
}
