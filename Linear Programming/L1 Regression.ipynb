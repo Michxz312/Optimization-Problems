{
 "cells": [
  {
   "cell_type": "code",
   "execution_count": 2,
   "metadata": {},
   "outputs": [],
   "source": [
    "import numpy as np\n",
    "from scipy.optimize import linprog\n",
    "import matplotlib.pyplot as plt"
   ]
  },
  {
   "cell_type": "markdown",
   "metadata": {},
   "source": [
    "## L1 Regression\n",
    "\n",
    "### $L^1$ norm (Manhattan distance)\n",
    "\n",
    "p-norm : $\\lVert x {\\rVert}_p$ = $(\\sum_{i=1}^n |x_i|^p)^{\\frac{1}{p}}$\n",
    "\n",
    "1-norm : $\\lVert x {\\rVert}_1$ = $\\sum_{i=1}^n |x_i|$\n",
    "\n",
    "### Linear Regression\n",
    "\n",
    "The main objective for linear regression is finding the best-fit line expressed as $b = Ax+ \\varepsilon$, where:$\\\\$\n",
    "* $A$ is the matrix with $i^{th}$ row of control variables for $j^{th}$ variables $\\\\$\n",
    "* b is the observation variables $\\\\$\n",
    "* $\\varepsilon$ is the error\n",
    "\n",
    "We can find the best-fit line through finding the vector x that explains the observation b and minimizes the error $\\varepsilon$\n",
    "\n",
    "Ideally, $\\varepsilon = 0$, which means when we plot $Ax$ against $b$, we have a line that goes through every point.\n",
    "\n",
    "Vanderbei, R. J. (2014). Linear Programming: Foundations and Extensions (Chapter 12)."
   ]
  },
  {
   "cell_type": "markdown",
   "metadata": {},
   "source": [
    "$$\n",
    "\\mathbf{b} = Ax+ \\varepsilon \\\\\n",
    "\\mathbf{b} = \\beta_0 + \\beta_1 \\mathbf{x} + \\varepsilon \\\\\n",
    "\\mathbf{b} = \n",
    "\\begin{bmatrix}\n",
    "1 & x_{11}\\\\\n",
    "1 & x_{21} \\\\\n",
    "\\vdots & \\vdots \\\\\n",
    "1 & x_{n1}\n",
    "\\end{bmatrix}\n",
    "\n",
    "\\begin{bmatrix}\n",
    "\\beta_0 \\\\\n",
    "\\beta_1\n",
    "\\end{bmatrix}\n",
    "+ \\varepsilon\n",
    "$$"
   ]
  },
  {
   "cell_type": "markdown",
   "metadata": {},
   "source": [
    "### Example of the format $\\mathbf{b} = \\mathbf{A} \\mathbf{x} + \\varepsilon$\n",
    "\n",
    "Generate a matrix $\\mathbf{A}, \\mathbf{b}$ and plot the error, $\\varepsilon$."
   ]
  },
  {
   "cell_type": "code",
   "execution_count": 16,
   "metadata": {},
   "outputs": [
    {
     "name": "stdout",
     "output_type": "stream",
     "text": [
      "[[1.         0.91460795]\n",
      " [1.         0.74603743]\n",
      " [1.         0.82107179]\n",
      " [1.         0.06959553]\n",
      " [1.         0.47943099]\n",
      " [1.         0.52899333]\n",
      " [1.         0.08561969]\n",
      " [1.         0.22260806]\n",
      " [1.         0.72258053]\n",
      " [1.         0.74723599]]\n",
      "[0.92385402 0.53059788 0.08124271 0.13751881 0.01910463 0.21648811\n",
      " 0.33566346 0.26917799 0.54224904 0.59435833]\n"
     ]
    }
   ],
   "source": [
    "# Generate matrix A and b\n",
    "N = 10 # we have 10 set of points\n",
    "x = np.random.random(10)\n",
    "A = np.vander(x, N=2, increasing=True) \n",
    "b = np.random.random(10)\n",
    "print(A)\n",
    "print(b)"
   ]
  },
  {
   "cell_type": "code",
   "execution_count": 19,
   "metadata": {},
   "outputs": [
    {
     "data": {
      "image/png": "[encoded data removed]",
      "text/plain": [
       "<Figure size 640x480 with 1 Axes>"
      ]
     },
     "metadata": {},
     "output_type": "display_data"
    }
   ],
   "source": [
    "b1,b0 = np.polyfit(x, b, 1)\n",
    "plt.scatter(x,b)\n",
    "plt.plot(x, b1*x+b0)\n",
    "plt.vlines(x, ymin = b, ymax = b1*x+b0, label = 'error', linestyle='dashed')\n",
    "plt.legend()\n",
    "plt.show()"
   ]
  },
  {
   "cell_type": "markdown",
   "metadata": {},
   "source": [
    "### $L^1 - Regression$\n",
    "* less sensitive to outliers than least squares regression\n",
    "\n",
    "The L1 regression uses $L^1$ norm for regularization.\n",
    "\n",
    "#### Transform to optimization problem: \n",
    "\n",
    "Objective function: $\\min \\varepsilon = \\displaystyle \\min_x b-Ax$\n",
    "\n",
    "$L^1$ regression uses $L^1$-norm to find the vector $x$:\n",
    "$$\\displaystyle\\min_x \\|b-Ax|\\|_1 = \\min (\\sum_{i=1}^n |b-Ax|)$$\n",
    "\n",
    "which is equivalent to: \n",
    "$$\n",
    "\\begin{align*}\n",
    "\\displaystyle\\min \\sum_i t_i\\\\\n",
    "\\text{subject to} && t_i - |\\mathbf{b}-\\mathbf{Ax}| = 0 \n",
    "\\end{align*}\n",
    "$$\n",
    "and therefore we have:\n",
    "$$\n",
    "\\begin{align*}\n",
    "\\displaystyle\\min \\sum_i t_i\\\\\n",
    "\\text{subject to} && -\\mathbf{t}-\\mathbf{Ax} \\leq -\\mathbf{b} \\\\\n",
    "&& -\\mathbf{t} + \\mathbf{Ax} \\leq \\mathbf{b}\n",
    "\\end{align*}\n",
    "$$\n"
   ]
  },
  {
   "cell_type": "markdown",
   "metadata": {},
   "source": [
    "### Linear Algebra Review\n",
    "\n",
    "Let $Ax = b$ and A be a $m \\times n$\n",
    "\n",
    "* case 1: m = n (square matrix)\n",
    "    - unique solution: If matrix A is non-singular\n",
    "    - infinitely many solution: If matrix A is singular and b $\\in$ span(A)\n",
    "    - no solution: If matrix A is singular and b $\\notin$ span(A)\n",
    "* case 2: m < n (underdetermined)\n",
    "    - infinitely many solution: If matrix A is non-singular or matrix A is singular and b $\\in$ span(A)\n",
    "    - no solution: If matrix A is singular and b $\\notin$ span(A)\n",
    "* case 3: m > n (overdetermined)\n",
    "    - unique solution: If matrix A is non-singular and b $\\in$ span(A)\n",
    "    - infinitely many solution: If matrix A is non-singular and b $\\in$ span(A)\n",
    "    - no solution: If matrix A is non-singular and b $\\notin$ span(A) or If matrix A is singular and b $\\notin$ span(A)\n",
    "\n",
    "\n",
    "soure: MATH 307 notes\n",
    "\n",
    "For linear optimization, we also have overdetermined and underdetermined systems. \n",
    "\n",
    "**Overdetermined systems:**\n",
    "\n",
    "The matrix A has m > n, so there are more constraints than variables. This will most likely result in no solution, so there is little possibility that we have $\\mathbf{b}=\\mathbf{Ax}$. So, the goal is to minimize the error $\\varepsilon$ to get the best fit line. \n",
    "\n",
    "**Underdetermined systems:**\n",
    "\n",
    "The matrix has m < n, so there are more variables than constraints. It is likely to have infinitely many solutions. This is different than the previous explanations. The solution is unbounded if there are infinitely many solutions, so we need to have a way to select the feasible region to obtain an optimal solution instead of minimizing the error.\n",
    "\n",
    "source: Math 441 notes"
   ]
  },
  {
   "cell_type": "markdown",
   "metadata": {},
   "source": [
    "### $L^1$ regression application: Real estate price prediction\n",
    "\n",
    "The dataset can be found from: https://statso.io/real-estate-prediction-case-study/\n",
    "\n",
    "**1. Define the problem**"
   ]
  },
  {
   "cell_type": "code",
   "execution_count": 22,
   "metadata": {},
   "outputs": [
    {
     "data": {
      "text/html": [
       "<div>\n",
       "<style scoped>\n",
       "    .dataframe tbody tr th:only-of-type {\n",
       "        vertical-align: middle;\n",
       "    }\n",
       "\n",
       "    .dataframe tbody tr th {\n",
       "        vertical-align: top;\n",
       "    }\n",
       "\n",
       "    .dataframe thead th {\n",
       "        text-align: right;\n",
       "    }\n",
       "</style>\n",
       "<table border=\"1\" class=\"dataframe\">\n",
       "  <thead>\n",
       "    <tr style=\"text-align: right;\">\n",
       "      <th></th>\n",
       "      <th>Transaction date</th>\n",
       "      <th>House age</th>\n",
       "      <th>Distance to the nearest MRT station</th>\n",
       "      <th>Number of convenience stores</th>\n",
       "      <th>Latitude</th>\n",
       "      <th>Longitude</th>\n",
       "      <th>House price of unit area</th>\n",
       "    </tr>\n",
       "  </thead>\n",
       "  <tbody>\n",
       "    <tr>\n",
       "      <th>0</th>\n",
       "      <td>2012-09-02 16:42:30.519336</td>\n",
       "      <td>13.3</td>\n",
       "      <td>4082.0150</td>\n",
       "      <td>8</td>\n",
       "      <td>25.007059</td>\n",
       "      <td>121.561694</td>\n",
       "      <td>6.488673</td>\n",
       "    </tr>\n",
       "    <tr>\n",
       "      <th>1</th>\n",
       "      <td>2012-09-04 22:52:29.919544</td>\n",
       "      <td>35.5</td>\n",
       "      <td>274.0144</td>\n",
       "      <td>2</td>\n",
       "      <td>25.012148</td>\n",
       "      <td>121.546990</td>\n",
       "      <td>24.970725</td>\n",
       "    </tr>\n",
       "    <tr>\n",
       "      <th>2</th>\n",
       "      <td>2012-09-05 01:10:52.349449</td>\n",
       "      <td>1.1</td>\n",
       "      <td>1978.6710</td>\n",
       "      <td>10</td>\n",
       "      <td>25.003850</td>\n",
       "      <td>121.528336</td>\n",
       "      <td>26.694267</td>\n",
       "    </tr>\n",
       "    <tr>\n",
       "      <th>3</th>\n",
       "      <td>2012-09-05 13:26:01.189083</td>\n",
       "      <td>22.2</td>\n",
       "      <td>1055.0670</td>\n",
       "      <td>5</td>\n",
       "      <td>24.962887</td>\n",
       "      <td>121.482178</td>\n",
       "      <td>38.091638</td>\n",
       "    </tr>\n",
       "    <tr>\n",
       "      <th>4</th>\n",
       "      <td>2012-09-06 08:29:47.910523</td>\n",
       "      <td>8.5</td>\n",
       "      <td>967.4000</td>\n",
       "      <td>6</td>\n",
       "      <td>25.011037</td>\n",
       "      <td>121.479946</td>\n",
       "      <td>21.654710</td>\n",
       "    </tr>\n",
       "  </tbody>\n",
       "</table>\n",
       "</div>"
      ],
      "text/plain": [
       "             Transaction date  House age  Distance to the nearest MRT station  \\\n",
       "0  2012-09-02 16:42:30.519336       13.3                            4082.0150   \n",
       "1  2012-09-04 22:52:29.919544       35.5                             274.0144   \n",
       "2  2012-09-05 01:10:52.349449        1.1                            1978.6710   \n",
       "3  2012-09-05 13:26:01.189083       22.2                            1055.0670   \n",
       "4  2012-09-06 08:29:47.910523        8.5                             967.4000   \n",
       "\n",
       "   Number of convenience stores   Latitude   Longitude  \\\n",
       "0                             8  25.007059  121.561694   \n",
       "1                             2  25.012148  121.546990   \n",
       "2                            10  25.003850  121.528336   \n",
       "3                             5  24.962887  121.482178   \n",
       "4                             6  25.011037  121.479946   \n",
       "\n",
       "   House price of unit area  \n",
       "0                  6.488673  \n",
       "1                 24.970725  \n",
       "2                 26.694267  \n",
       "3                 38.091638  \n",
       "4                 21.654710  "
      ]
     },
     "execution_count": 22,
     "metadata": {},
     "output_type": "execute_result"
    }
   ],
   "source": [
    "import pandas as pd\n",
    "\n",
    "data = pd.read_csv('Real_Estate.csv')\n",
    "data.head()"
   ]
  },
  {
   "cell_type": "markdown",
   "metadata": {},
   "source": [
    "Given the house age, distance to the MRT station, number of convenience stores, latitude, and longitude, find the best-fit line to get the approximate house price per unit area. "
   ]
  },
  {
   "cell_type": "markdown",
   "metadata": {},
   "source": [
    "**2. Identify the variables and parameters**"
   ]
  },
  {
   "cell_type": "markdown",
   "metadata": {},
   "source": [
    "Variables: \n",
    "\n",
    "1. $x_1$: house age\n",
    "2. $x_2$: distance to the nearest MRT station\n",
    "3. $x_3$: nearest convenience stores\n",
    "4. $x_4$: latitude\n",
    "5. $x_5$: longitude\n",
    "6. b = house price of unit area"
   ]
  },
  {
   "cell_type": "markdown",
   "metadata": {},
   "source": [
    "Multiple Linear Regression:\n",
    "$$\n",
    "\\mathbf{b} = Ax+ \\varepsilon \\\\\n",
    "\\mathbf{b} = \\beta_0 + \\beta_1 \\mathbf{x_1} + \\beta_2 \\mathbf{x_2} + \\beta_3 \\mathbf{x_3} + \\beta_4 \\mathbf{x_4} + \\beta_5 \\mathbf{x_5}+ \\varepsilon \\\\\n",
    "\\mathbf{b} = \n",
    "\\begin{bmatrix}\n",
    "1 & x_{11} & x_{12} & x_{13} & x_{14} & x_{15} \\\\\n",
    "1 & x_{21} & x_{22} & x_{23} & x_{24} & x_{25} \\\\\n",
    "1 & x_{31} & x_{32} & x_{33} & x_{34} & x_{35} \\\\\n",
    "1 & x_{41} & x_{42} & x_{43} & x_{44} & x_{45} \\\\\n",
    "1 & x_{51} & x_{52} & x_{53} & x_{54} & x_{55} \\\\\n",
    "\\vdots & \\vdots \\\\\n",
    "1 & x_{n1} & x_{n2} & x_{n3} & x_{n4} & x_{n5} \\\\\n",
    "\\end{bmatrix}\n",
    "\n",
    "\\begin{bmatrix}\n",
    "\\beta_0 \\\\\n",
    "\\beta_1 \\\\\n",
    "\\beta_2 \\\\\n",
    "\\beta_3 \\\\\n",
    "\\beta_4 \\\\\n",
    "\\beta_5 \\\\\n",
    "\\end{bmatrix}\n",
    "+ \\varepsilon\n",
    "$$"
   ]
  },
  {
   "cell_type": "code",
   "execution_count": null,
   "metadata": {},
   "outputs": [],
   "source": []
  },
  {
   "cell_type": "markdown",
   "metadata": {},
   "source": [
    "**3. State the assumptions and constraints:**\n",
    "\n",
    "Assumptions:\n",
    "\n",
    "- let the data be divided into training and testing data by 0.8 and 0.2"
   ]
  },
  {
   "cell_type": "code",
   "execution_count": null,
   "metadata": {},
   "outputs": [],
   "source": []
  },
  {
   "cell_type": "markdown",
   "metadata": {},
   "source": []
  },
  {
   "cell_type": "markdown",
   "metadata": {},
   "source": [
    "**5.Evaluation**\n",
    "\n",
    "compare to least squares regression"
   ]
  },
  {
   "cell_type": "markdown",
   "metadata": {},
   "source": []
  }
 ],
 "metadata": {
  "kernelspec": {
   "display_name": "comet",
   "language": "python",
   "name": "python3"
  },
  "language_info": {
   "codemirror_mode": {
    "name": "ipython",
    "version": 3
   },
   "file_extension": ".py",
   "mimetype": "text/x-python",
   "name": "python",
   "nbconvert_exporter": "python",
   "pygments_lexer": "ipython3",
   "version": "3.11.5"
  }
 },
 "nbformat": 4,
 "nbformat_minor": 2
}
