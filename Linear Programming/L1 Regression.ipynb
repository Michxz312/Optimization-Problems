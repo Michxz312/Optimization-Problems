{
 "cells": [
  {
   "cell_type": "code",
   "execution_count": 2,
   "metadata": {},
   "outputs": [],
   "source": [
    "import numpy as np\n",
    "from scipy.optimize import linprog\n",
    "import matplotlib.pyplot as plt"
   ]
  },
  {
   "cell_type": "markdown",
   "metadata": {},
   "source": [
    "## L1 Regression\n",
    "\n",
    "### $L^1$ norm (Manhattan distance)\n",
    "\n",
    "p-norm : $\\lVert x {\\rVert}_p$ = $(\\sum_{i=1}^n |x_i|^p)^{\\frac{1}{p}}$\n",
    "\n",
    "1-norm : $\\lVert x {\\rVert}_1$ = $\\sum_{i=1}^n |x_i|$\n",
    "\n",
    "### Linear Regression\n",
    "\n",
    "The main objective for linear regression is finding the best-fit line expressed as $b = Ax+ \\varepsilon$, where:\n",
    "\n",
    "* $A$ is the matrix with $i^{th}$ row of control variables for $j^{th}$ variables\n",
    "* b is the observation variables \n",
    "* $\\varepsilon$ is the error\n",
    "\n",
    "We can find the best-fit line through finding the vector x that explains the observation b and minimizes the error $\\varepsilon$\n",
    "\n",
    "Ideally, $\\varepsilon = 0$, which means when we plot $Ax$ against $b$, we have a line that goes through every point.\n",
    "\n",
    "Vanderbei, R. J. (2014). Linear Programming: Foundations and Extensions (Chapter 12)."
   ]
  },
  {
   "cell_type": "markdown",
   "metadata": {},
   "source": [
    "$$\n",
    "\\mathbf{b} = Ax+ \\varepsilon \\\\\n",
    "\\mathbf{b} = \\beta_0 + \\beta_1 \\mathbf{x} + \\varepsilon \\\\\n",
    "\\mathbf{b} = \n",
    "\\begin{bmatrix}\n",
    "1 & x_{11}\\\\\n",
    "1 & x_{21} \\\\\n",
    "\\vdots & \\vdots \\\\\n",
    "1 & x_{n1}\n",
    "\\end{bmatrix}\n",
    "\n",
    "\\begin{bmatrix}\n",
    "\\beta_0 \\\\\n",
    "\\beta_1\n",
    "\\end{bmatrix}\n",
    "+ \\varepsilon\n",
    "$$"
   ]
  },
  {
   "cell_type": "markdown",
   "metadata": {},
   "source": [
    "### Example of the format $\\mathbf{b} = \\mathbf{A} \\mathbf{x} + \\varepsilon$\n",
    "\n",
    "Generate a matrix $\\mathbf{A}, \\mathbf{b}$ and plot the error, $\\varepsilon$."
   ]
  },
  {
   "cell_type": "code",
   "execution_count": 5,
   "metadata": {},
   "outputs": [
    {
     "name": "stdout",
     "output_type": "stream",
     "text": [
      "[[1.         0.68016609]\n",
      " [1.         0.95587078]\n",
      " [1.         0.02431588]\n",
      " [1.         0.11567606]\n",
      " [1.         0.72376249]\n",
      " [1.         0.73959842]\n",
      " [1.         0.26014375]\n",
      " [1.         0.38909566]\n",
      " [1.         0.59283742]\n",
      " [1.         0.66021911]]\n",
      "[0.4645659  0.05049616 0.85143111 0.55902176 0.48242373 0.22104922\n",
      " 0.25828698 0.92839507 0.37391613 0.16756283]\n"
     ]
    }
   ],
   "source": [
    "# Generate matrix A and b\n",
    "N = 10 # we have 10 set of points\n",
    "x = np.random.random(10)\n",
    "# add column of 1's in front of the matrix to account for B0:\n",
    "A = np.vander(x, N=2, increasing=True) \n",
    "b = np.random.random(10)\n",
    "print(A)\n",
    "print(b)"
   ]
  },
  {
   "cell_type": "code",
   "execution_count": 6,
   "metadata": {},
   "outputs": [
    {
     "data": {
      "image/png": "[encoded data removed]",
      "text/plain": [
       "<Figure size 640x480 with 1 Axes>"
      ]
     },
     "metadata": {},
     "output_type": "display_data"
    }
   ],
   "source": [
    "b1,b0 = np.polyfit(x, b, 1)\n",
    "plt.scatter(x,b)\n",
    "plt.plot(x, b1*x+b0)\n",
    "plt.vlines(x, ymin = b, ymax = b1*x+b0, label = 'error', linestyle='dashed')\n",
    "plt.legend()\n",
    "plt.show()"
   ]
  },
  {
   "cell_type": "markdown",
   "metadata": {},
   "source": [
    "### $L^1 - Regression$\n",
    "* less sensitive to outliers than least squares regression\n",
    "\n",
    "The L1 regression uses $L^1$ norm for regularization.\n",
    "\n",
    "#### Transform to optimization problem: \n",
    "\n",
    "Objective function: $\\min \\varepsilon = \\displaystyle \\min_x b-Ax$\n",
    "\n",
    "$L^1$ regression uses $L^1$-norm to find the vector $x$:\n",
    "$$\\displaystyle\\min_x \\|b-Ax|\\|_1 = \\min (\\sum_{i=1}^n |b-Ax|)$$\n",
    "\n",
    "which is equivalent to: \n",
    "$$\n",
    "\\begin{align*}\n",
    "\\displaystyle\\min \\sum_i t_i\\\\\n",
    "\\text{subject to} && t_i - |\\mathbf{b}-\\mathbf{Ax}| = 0 \n",
    "\\end{align*}\n",
    "$$\n",
    "and therefore we have:\n",
    "$$\n",
    "\\begin{align*}\n",
    "\\displaystyle\\min \\sum_i t_i\\\\\n",
    "\\text{subject to} && -\\mathbf{t}-\\mathbf{Ax} \\leq -\\mathbf{b} \\\\\n",
    "&& -\\mathbf{t} + \\mathbf{Ax} \\leq \\mathbf{b}\n",
    "\\end{align*}\n",
    "$$\n"
   ]
  },
  {
   "cell_type": "markdown",
   "metadata": {},
   "source": [
    "### Linear Algebra Review\n",
    "\n",
    "Let $Ax = b$ and A be a $m \\times n$\n",
    "\n",
    "* case 1: m = n (square matrix)\n",
    "    - unique solution: If matrix A is non-singular\n",
    "    - infinitely many solution: If matrix A is singular and b $\\in$ span(A)\n",
    "    - no solution: If matrix A is singular and b $\\notin$ span(A)\n",
    "* case 2: m < n (underdetermined)\n",
    "    - infinitely many solution: If matrix A is non-singular or matrix A is singular and b $\\in$ span(A)\n",
    "    - no solution: If matrix A is singular and b $\\notin$ span(A)\n",
    "* case 3: m > n (overdetermined)\n",
    "    - unique solution: If matrix A is non-singular and b $\\in$ span(A)\n",
    "    - infinitely many solution: If matrix A is non-singular and b $\\in$ span(A)\n",
    "    - no solution: If matrix A is non-singular and b $\\notin$ span(A) or If matrix A is singular and b $\\notin$ span(A)\n",
    "\n",
    "\n",
    "soure: MATH 307 notes\n",
    "\n",
    "For linear optimization, we also have overdetermined and underdetermined systems. \n",
    "\n",
    "**Overdetermined systems:**\n",
    "\n",
    "The matrix A has m > n, so there are more constraints than variables. This will most likely result in no solution, so there is little possibility that we have $\\mathbf{b}=\\mathbf{Ax}$. So, the goal is to minimize the error $\\varepsilon$ to get the best fit line. \n",
    "\n",
    "**Underdetermined systems:**\n",
    "\n",
    "The matrix has m < n, so there are more variables than constraints. It is likely to have infinitely many solutions. This is different than the previous explanations. The solution is unbounded if there are infinitely many solutions, so we need to have a way to select the feasible region to obtain an optimal solution instead of minimizing the error.\n",
    "\n",
    "source: Math 441 notes"
   ]
  },
  {
   "cell_type": "markdown",
   "metadata": {},
   "source": [
    "### $L^1$ regression application: Real estate price prediction\n",
    "\n",
    "The dataset can be found from: https://statso.io/real-estate-prediction-case-study/\n",
    "\n",
    "**1. Define the problem**"
   ]
  },
  {
   "cell_type": "code",
   "execution_count": 57,
   "metadata": {},
   "outputs": [
    {
     "data": {
      "text/html": [
       "<div>\n",
       "<style scoped>\n",
       "    .dataframe tbody tr th:only-of-type {\n",
       "        vertical-align: middle;\n",
       "    }\n",
       "\n",
       "    .dataframe tbody tr th {\n",
       "        vertical-align: top;\n",
       "    }\n",
       "\n",
       "    .dataframe thead th {\n",
       "        text-align: right;\n",
       "    }\n",
       "</style>\n",
       "<table border=\"1\" class=\"dataframe\">\n",
       "  <thead>\n",
       "    <tr style=\"text-align: right;\">\n",
       "      <th></th>\n",
       "      <th>Transaction date</th>\n",
       "      <th>House age</th>\n",
       "      <th>Distance to the nearest MRT station</th>\n",
       "      <th>Number of convenience stores</th>\n",
       "      <th>Latitude</th>\n",
       "      <th>Longitude</th>\n",
       "      <th>House price of unit area</th>\n",
       "    </tr>\n",
       "  </thead>\n",
       "  <tbody>\n",
       "    <tr>\n",
       "      <th>0</th>\n",
       "      <td>2012-09-02 16:42:30.519336</td>\n",
       "      <td>13.3</td>\n",
       "      <td>4082.0150</td>\n",
       "      <td>8</td>\n",
       "      <td>25.007059</td>\n",
       "      <td>121.561694</td>\n",
       "      <td>6.488673</td>\n",
       "    </tr>\n",
       "    <tr>\n",
       "      <th>1</th>\n",
       "      <td>2012-09-04 22:52:29.919544</td>\n",
       "      <td>35.5</td>\n",
       "      <td>274.0144</td>\n",
       "      <td>2</td>\n",
       "      <td>25.012148</td>\n",
       "      <td>121.546990</td>\n",
       "      <td>24.970725</td>\n",
       "    </tr>\n",
       "    <tr>\n",
       "      <th>2</th>\n",
       "      <td>2012-09-05 01:10:52.349449</td>\n",
       "      <td>1.1</td>\n",
       "      <td>1978.6710</td>\n",
       "      <td>10</td>\n",
       "      <td>25.003850</td>\n",
       "      <td>121.528336</td>\n",
       "      <td>26.694267</td>\n",
       "    </tr>\n",
       "    <tr>\n",
       "      <th>3</th>\n",
       "      <td>2012-09-05 13:26:01.189083</td>\n",
       "      <td>22.2</td>\n",
       "      <td>1055.0670</td>\n",
       "      <td>5</td>\n",
       "      <td>24.962887</td>\n",
       "      <td>121.482178</td>\n",
       "      <td>38.091638</td>\n",
       "    </tr>\n",
       "    <tr>\n",
       "      <th>4</th>\n",
       "      <td>2012-09-06 08:29:47.910523</td>\n",
       "      <td>8.5</td>\n",
       "      <td>967.4000</td>\n",
       "      <td>6</td>\n",
       "      <td>25.011037</td>\n",
       "      <td>121.479946</td>\n",
       "      <td>21.654710</td>\n",
       "    </tr>\n",
       "  </tbody>\n",
       "</table>\n",
       "</div>"
      ],
      "text/plain": [
       "             Transaction date  House age  Distance to the nearest MRT station  \\\n",
       "0  2012-09-02 16:42:30.519336       13.3                            4082.0150   \n",
       "1  2012-09-04 22:52:29.919544       35.5                             274.0144   \n",
       "2  2012-09-05 01:10:52.349449        1.1                            1978.6710   \n",
       "3  2012-09-05 13:26:01.189083       22.2                            1055.0670   \n",
       "4  2012-09-06 08:29:47.910523        8.5                             967.4000   \n",
       "\n",
       "   Number of convenience stores   Latitude   Longitude  \\\n",
       "0                             8  25.007059  121.561694   \n",
       "1                             2  25.012148  121.546990   \n",
       "2                            10  25.003850  121.528336   \n",
       "3                             5  24.962887  121.482178   \n",
       "4                             6  25.011037  121.479946   \n",
       "\n",
       "   House price of unit area  \n",
       "0                  6.488673  \n",
       "1                 24.970725  \n",
       "2                 26.694267  \n",
       "3                 38.091638  \n",
       "4                 21.654710  "
      ]
     },
     "execution_count": 57,
     "metadata": {},
     "output_type": "execute_result"
    }
   ],
   "source": [
    "import pandas as pd\n",
    "\n",
    "data = pd.read_csv('Real_Estate.csv')\n",
    "data.head()"
   ]
  },
  {
   "cell_type": "markdown",
   "metadata": {},
   "source": [
    "Given the house age, distance to the MRT station, number of convenience stores, latitude, and longitude, find the best-fit line to get the approximate house price per unit area. "
   ]
  },
  {
   "cell_type": "markdown",
   "metadata": {},
   "source": [
    "**2. Identify the variables and parameters**"
   ]
  },
  {
   "cell_type": "markdown",
   "metadata": {},
   "source": [
    "Variables: \n",
    "\n",
    "1. $x_1$: house age\n",
    "2. $x_2$: distance to the nearest MRT station\n",
    "3. $x_3$: nearest convenience stores\n",
    "4. $x_4$: latitude\n",
    "5. $x_5$: longitude\n",
    "6. b = house price of unit area"
   ]
  },
  {
   "cell_type": "markdown",
   "metadata": {},
   "source": [
    "Multiple Linear Regression:\n",
    "$$\n",
    "\\mathbf{b} = Ax+ \\varepsilon \\\\\n",
    "\\mathbf{b} = \\beta_0 + \\beta_1 \\mathbf{x_1} + \\beta_2 \\mathbf{x_2} + \\beta_3 \\mathbf{x_3} + \\beta_4 \\mathbf{x_4} + \\beta_5 \\mathbf{x_5}+ \\varepsilon \\\\\n",
    "$$"
   ]
  },
  {
   "cell_type": "markdown",
   "metadata": {},
   "source": [
    "**3. State the assumptions and constraints:**\n",
    "\n",
    "Assumptions:\n",
    "\n",
    "- let the data be divided into training and testing data by 0.8 and 0.2\n"
   ]
  },
  {
   "cell_type": "code",
   "execution_count": 58,
   "metadata": {},
   "outputs": [],
   "source": [
    "x = data[['House age','Distance to the nearest MRT station','Number of convenience stores',\t'Latitude',\t'Longitude']]\n",
    "y = data['House price of unit area']\n",
    "\n",
    "from sklearn.model_selection import train_test_split\n",
    "x_train, x_test, y_train, y_test = train_test_split(x, y, test_size=0.2, random_state=42)"
   ]
  },
  {
   "cell_type": "markdown",
   "metadata": {},
   "source": [
    "constraints:\n",
    "$$-\\mathbf{t}-\\mathbf{Ax} \\leq -\\mathbf{b} \\\\\n",
    "-\\mathbf{t} + \\mathbf{Ax} \\leq \\mathbf{b}$$\n"
   ]
  },
  {
   "cell_type": "markdown",
   "metadata": {},
   "source": [
    "**4. Build the solution** (using scipy.linprog)"
   ]
  },
  {
   "cell_type": "markdown",
   "metadata": {},
   "source": [
    "To find the coeefficient of each variables, we can form the matrix:\n",
    "\n",
    "$$\n",
    "\\begin{bmatrix}\n",
    "-\\mathbf{A} & -\\mathbf{I} \\\\\n",
    "\\mathbf{A} & -\\mathbf{I} \\\\\n",
    "\\end{bmatrix}\n",
    "\n",
    "\\begin{bmatrix}\n",
    "\\mathbf{x} \\\\\n",
    "\\mathbf{t} \\\\\n",
    "\\end{bmatrix}\n",
    "=\n",
    "\\begin{bmatrix}\n",
    "-\\mathbf{y} \\\\\n",
    "\\mathbf{y} \\\\\n",
    "\\end{bmatrix}\n",
    "\n",
    "$$\n",
    "\n",
    "The above is equivalent to computing $-\\mathbf{Ax} -\\mathbf{t} \\leq -\\mathbf{b} \\text{ and } \\mathbf{Ax} -\\mathbf{t} \\leq \\mathbf{b}$. Then, using linear optimization solver, we can find the minimum $\\sum_i t_i$ subject to the constraints. Obtaining the result.x (since I am using scipy.linprog), we can obtain a single array of the coefficients of the variables and the slack variables. "
   ]
  },
  {
   "cell_type": "code",
   "execution_count": 69,
   "metadata": {},
   "outputs": [
    {
     "name": "stdout",
     "output_type": "stream",
     "text": [
      "331\n"
     ]
    }
   ],
   "source": [
    "### Identifying the features and the target of the data\n",
    "\n",
    "x = data[['House age', 'Distance to the nearest MRT station', 'Number of convenience stores', 'Latitude', 'Longitude']]\n",
    "y = data['House price of unit area']\n",
    "\n",
    "x_train, x_test, y_train, y_test = train_test_split(x, y, test_size=0.2, random_state=42)\n",
    "\n",
    "print(len(x_train))"
   ]
  },
  {
   "cell_type": "markdown",
   "metadata": {},
   "source": [
    "Since we have five variables and 331 slack variables (from having 331 equations), then there should be 5 + 331 = 336 columns and 331*2 = 662 rows.\n",
    "\n",
    "$$\n",
    "\n",
    "\\begin{bmatrix}\n",
    "\n",
    "-a_{1,1} & \\cdots & -a_{1,5} & -t_{1} & 0 & 0 & 0 \\\\\n",
    "-a_{2,1} & \\cdots & -a_{2,5} & \\vdots & -t_{2} & 0 & 0 \\\\\n",
    "\\vdots & \\vdots & \\vdots & \\vdots & \\vdots & \\ddots & 0 \\\\\n",
    "-a_{331,1} & \\cdots & -a_{331,5} & 0 & \\cdots & 0 & -t_{331}\\\\\n",
    "a_{334,1} & \\cdots & a_{334,5} & -t_{1} & 0 & 0 & 0 \\\\\n",
    "a_{335,1} & \\cdots & a_{335,5} & \\vdots & -t_{2} & 0 & 0 \\\\\n",
    "\\vdots & \\vdots & \\vdots & \\vdots & \\vdots & \\ddots & 0 \\\\\n",
    "a_{662,1} & \\cdots & a_{551,5} & 0 & \\cdots & 0 & -t_{331}\\\\\n",
    "\n",
    "\\end{bmatrix} \n",
    "\n",
    "$$"
   ]
  },
  {
   "cell_type": "code",
   "execution_count": 60,
   "metadata": {},
   "outputs": [
    {
     "name": "stdout",
     "output_type": "stream",
     "text": [
      "(662, 336)\n"
     ]
    }
   ],
   "source": [
    "A = np.array(x_train)\n",
    "N = len(x_train) # number of slack variables\n",
    "y = np.array(y_train)\n",
    "\n",
    "# set the matrix for the constraints:\n",
    "eq1 = np.hstack((-A,-np.eye(N)))\n",
    "eq2 = np.hstack((A,-np.eye(N)))\n",
    "A = np.block([[eq1],[eq2]])\n",
    "print(A.shape)"
   ]
  },
  {
   "cell_type": "code",
   "execution_count": 61,
   "metadata": {},
   "outputs": [
    {
     "name": "stdout",
     "output_type": "stream",
     "text": [
      "[ 2.5000e-02 -8.0000e-03  1.6250e+00  8.2637e+01 -1.6735e+01]\n"
     ]
    }
   ],
   "source": [
    "# set the y matrix\n",
    "y = np.hstack([-y,y]).reshape((2*N,1)) # reshape to 662 rows and 1 column\n",
    "\n",
    "# set the objective function\n",
    "t = np.ones(N)\n",
    "# The sum of the slack variables and the number of variables\n",
    "obj = np.hstack([np.zeros(5), t]).reshape((N+5))\n",
    "\n",
    "# Since only the slack variables are bounded, then we have to define the bounds:\n",
    "# There is no upper or lower bound for the x variables\n",
    "bounds = [(None,None) for _ in range(5)] + [(0,None) for _ in range(N)]\n",
    "\n",
    "# use scipy.linprog to solve\n",
    "result = linprog(obj, A_ub = A, b_ub = y, bounds = bounds)\n",
    "\n",
    "# We only want the result of the first 5 result.x because the rest are\n",
    "# the coefficients of the slack variables\n",
    "print(np.round(result.x[:5],3))"
   ]
  },
  {
   "cell_type": "code",
   "execution_count": 62,
   "metadata": {},
   "outputs": [
    {
     "name": "stdout",
     "output_type": "stream",
     "text": [
      "True\n"
     ]
    }
   ],
   "source": [
    "# check if the slack variables follow the bounds\n",
    "check = True\n",
    "for t in result.x[5:]:\n",
    "    if (t < 0): check = False\n",
    "\n",
    "print(True)"
   ]
  },
  {
   "cell_type": "markdown",
   "metadata": {},
   "source": [
    "Since the slack variables follow the bound, then the answers make sense. Next, we will interpret the results of the coefficients of result.x[:5].\n",
    "\n",
    "x = \\['House age', 'Distance to the nearest MRT station', 'Number of convenience stores', 'Latitude', 'Longitude'\\]\n",
    "\n",
    "The five elements of the array are supposed to represent each of the x, so coefficient of house age is 0.025. The coefficient of the distance to the nearest MRT station is -0.0080, and so on..."
   ]
  },
  {
   "cell_type": "markdown",
   "metadata": {},
   "source": [
    "We can compare the coefficients with other methods of computing such as using statsmodel.api to produce linear regression using least squares. "
   ]
  },
  {
   "cell_type": "code",
   "execution_count": 63,
   "metadata": {},
   "outputs": [
    {
     "name": "stdout",
     "output_type": "stream",
     "text": [
      "                               OLS Regression Results                               \n",
      "====================================================================================\n",
      "Dep. Variable:     House price of unit area   R-squared:                       0.521\n",
      "Model:                                  OLS   Adj. R-squared:                  0.516\n",
      "Method:                       Least Squares   F-statistic:                     88.91\n",
      "Date:                      Tue, 12 Mar 2024   Prob (F-statistic):           4.26e-63\n",
      "Time:                              22:43:12   Log-Likelihood:                -1575.7\n",
      "No. Observations:                       414   AIC:                             3163.\n",
      "Df Residuals:                           408   BIC:                             3188.\n",
      "Df Model:                                 5                                         \n",
      "Covariance Type:                  nonrobust                                         \n",
      "=======================================================================================================\n",
      "                                          coef    std err          t      P>|t|      [0.025      0.975]\n",
      "-------------------------------------------------------------------------------------------------------\n",
      "const                                3008.0738   2499.237      1.204      0.229   -1904.914    7921.062\n",
      "House age                              -0.0165      0.046     -0.356      0.722      -0.107       0.074\n",
      "Distance to the nearest MRT station    -0.0087      0.000    -19.108      0.000      -0.010      -0.008\n",
      "Number of convenience stores            1.7522      0.188      9.303      0.000       1.382       2.122\n",
      "Latitude                               53.4154     22.543      2.370      0.018       9.101      97.730\n",
      "Longitude                             -35.4748     20.042     -1.770      0.077     -74.873       3.923\n",
      "==============================================================================\n",
      "Omnibus:                      117.633   Durbin-Watson:                   1.932\n",
      "Prob(Omnibus):                  0.000   Jarque-Bera (JB):               19.951\n",
      "Skew:                           0.028   Prob(JB):                     4.65e-05\n",
      "Kurtosis:                       1.926   Cond. No.                     7.43e+06\n",
      "==============================================================================\n",
      "\n",
      "Notes:\n",
      "[1] Standard Errors assume that the covariance matrix of the errors is correctly specified.\n",
      "[2] The condition number is large, 7.43e+06. This might indicate that there are\n",
      "strong multicollinearity or other numerical problems.\n"
     ]
    }
   ],
   "source": [
    "import statsmodels.api as sm\n",
    "\n",
    "X = sm.add_constant(x)\n",
    "Y = data['House price of unit area']\n",
    "reg = sm.OLS(Y,X).fit()\n",
    "summary_table = reg.summary()\n",
    "print(summary_table)"
   ]
  },
  {
   "cell_type": "markdown",
   "metadata": {},
   "source": [
    "**5.Evaluation**"
   ]
  },
  {
   "cell_type": "markdown",
   "metadata": {},
   "source": [
    "The coefficients seem to differ greatly using statsmodels.api. This might be because according to the summary_table, the value of the constant is very large and we haven't considered the constant in the previous constraint matrix. In order to take into account of the constant, we need to add column of 1's in front of the matrix A and add an additional variable. Then, the shape of the matrix should be (662,337)"
   ]
  },
  {
   "cell_type": "code",
   "execution_count": 71,
   "metadata": {},
   "outputs": [
    {
     "name": "stdout",
     "output_type": "stream",
     "text": [
      "(662, 337)\n"
     ]
    }
   ],
   "source": [
    "A = np.array(x_train)\n",
    "N = len(x_train) # number of slack variables\n",
    "y = np.array(y_train)\n",
    "\n",
    "# set the matrix for the constraints:\n",
    "eq1 = np.hstack((-A,-np.eye(N)))\n",
    "eq2 = np.hstack((A,-np.eye(N)))\n",
    "A = np.block([[eq1],[eq2]])\n",
    "one = np.ones(N*2).reshape((2*N,1))\n",
    "A = np.hstack((one, A))\n",
    "print(A.shape)"
   ]
  },
  {
   "cell_type": "markdown",
   "metadata": {},
   "source": [
    "Then, we can edit the previous code to set up the linprog problem:"
   ]
  },
  {
   "cell_type": "code",
   "execution_count": 72,
   "metadata": {},
   "outputs": [
    {
     "name": "stdout",
     "output_type": "stream",
     "text": [
      "[-65.57171606   0.           0.           0.           0.\n",
      "   0.        ]\n"
     ]
    }
   ],
   "source": [
    "# set the y matrix\n",
    "y = np.hstack([-y,y]).reshape((2*N,1)) # reshape to 662 rows and 1 column\n",
    "\n",
    "# set the objective function\n",
    "t = np.ones(N)\n",
    "# The sum of the slack variables and the number of variables\n",
    "obj = np.hstack([np.zeros(6), t]).reshape((N+6))\n",
    "\n",
    "# Since only the slack variables are bounded, then we have to define the bounds:\n",
    "# There is no upper or lower bound for the x variables\n",
    "bounds = [(None,None) for _ in range(6)] + [(0,None) for _ in range(N)]\n",
    "\n",
    "# use scipy.linprog to solve\n",
    "result = linprog(obj, A_ub = A, b_ub = y, bounds = bounds)\n",
    "\n",
    "# We only want the result of the first 5 result.x because the rest are\n",
    "# the coefficients of the slack variables\n",
    "print(result.x[:6])"
   ]
  },
  {
   "cell_type": "markdown",
   "metadata": {},
   "source": []
  }
 ],
 "metadata": {
  "kernelspec": {
   "display_name": "comet",
   "language": "python",
   "name": "python3"
  },
  "language_info": {
   "codemirror_mode": {
    "name": "ipython",
    "version": 3
   },
   "file_extension": ".py",
   "mimetype": "text/x-python",
   "name": "python",
   "nbconvert_exporter": "python",
   "pygments_lexer": "ipython3",
   "version": "3.11.5"
  }
 },
 "nbformat": 4,
 "nbformat_minor": 2
}
