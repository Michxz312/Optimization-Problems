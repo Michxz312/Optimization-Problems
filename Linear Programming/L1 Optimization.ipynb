{
 "cells": [
  {
   "cell_type": "markdown",
   "metadata": {},
   "source": [
    "## L1 Optimization\n",
    "\n",
    "### Overdetermined Systems\n",
    "tba\n",
    "### Underdetermined Systems\n",
    "tba\n"
   ]
  }
 ],
 "metadata": {
  "language_info": {
   "name": "python"
  }
 },
 "nbformat": 4,
 "nbformat_minor": 2
}
