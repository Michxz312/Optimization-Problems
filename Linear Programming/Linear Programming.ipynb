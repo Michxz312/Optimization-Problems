{
 "cells": [
  {
   "cell_type": "markdown",
   "metadata": {},
   "source": [
    "Fundamental Theorem of Linear Programming\n",
    "find and summarize one ir several proofs of fundamental theorem \n",
    "\n",
    "Enumerating Vertices\n",
    "An optimal solution of a linear programming problem occurs at a vertex of the convex polytope of feasible solutions. The simplex method is a very efficient algorithm for traversing the vertices towards an optimal solution. A brute force method would be to just find all vertices and compute values of the objective function at the vertices to find the optimal value. Write a Python program to find all vertices of the convex polytope of feasible solutions of a linear programming problem in standard form. Use this program to write a function which computes a solution of a LP problem. Do some computational experiments to see how the computing time of this brute force algorithm increases with the size of the problem.\n",
    "\n",
    "Pivot Operation\n",
    "The pivot operation in a tableau/dictionary is the essential step in the simplex method. How do we choose entering and leaving variables? When does the algorithm stop? How/why does the optimal value of the objective function appear in the tableau/dictionary? Explain how the pivot operation works and how to interpret the tableau/dictionary matrix."
   ]
  }
 ],
 "metadata": {
  "language_info": {
   "name": "python"
  }
 },
 "nbformat": 4,
 "nbformat_minor": 2
}
