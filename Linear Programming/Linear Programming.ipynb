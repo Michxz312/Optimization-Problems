{
 "cells": [
  {
   "cell_type": "markdown",
   "metadata": {},
   "source": [
    "### Linear Programming\n",
    "\n",
    "Linear programming is a method to achieve the best outcome (maximum profit/minimum profit) in a mathematical model. The objective function is to optimize a linear objective function, subject to non-negative, linear equality and inequality constraints.\n",
    "\n",
    "#### key terms\n",
    "\n",
    "1. Decision variables: variables that decision-makers control to optimize the objective function\n",
    "2. Objective function: The mathematical expression representing the quantity to be maximized or minimized\n",
    "3. Constraints: The restrictions/limitations on the decision variables. Constraints can be represented as linear inequalities or equalities\n",
    "4. Feasible region: the set of all possible solutions that satisfy the constraints\n",
    "5. Optimal solution: the solution that maximizes or minimizes the objective function within the feasible region\n",
    "\n",
    "### standard form\n",
    "- For a vector $\\mathbf{x}$\n",
    "- Linear function to be maximized $\\mathbf{c^T}\\mathbf{x}$\n",
    "- problem constraint $\\mathrm{A}\\mathbf{x} \\leq \\mathrm{b}$ and\n",
    "- Non-negative variables $\\mathbf{x} \\geq \\mathbf{0}$\n",
    "\n",
    "$$\n",
    "\\begin{array}{rc}\n",
    "\\text{maximize:} & c_0x_0 + \\cdots + c_{n-1}x_{n-1} \\\\\n",
    "\\text{subject to:} & a_{0,0}x_0 + \\cdots + a_{0,n-1}x_{n-1} \\leq b_0 \\\\\n",
    "& a_{1,0}x_0 + \\cdots + a_{1,n-1}x_{n-1} \\leq b_1 \\\\\n",
    "& \\vdots \\\\\n",
    "& a_{m-1,0}x_0 + \\cdots + a_{m-1,n-1}x_{n-1} \\leq b_{m-1} \\\\\n",
    "& x_0 \\geq 0, \\dots , x_{n-1} \\geq 0\n",
    "\\end{array}\n",
    "$$\n",
    "\n",
    "(Walls, 2024, lecture5)\n",
    "\n",
    "### Finding the number of vertices\n",
    "- linear inequalities are represented by half-space which satisfies all the points in a boundary or line\n",
    "- The intersection of half-space creates a polytope (feasible region)\n",
    "- Let n bet the total number of decision variables (non-basic variables)\n",
    "- Let m be the number of constraints (non-basic variables)\n",
    "- We can find the total number of vertices in a polytope by choosing n elements from a set of n+m elements (total variables) $\\begin{pmatrix} n+m \\\\ n \\end{pmatrix}$\n",
    "\n",
    "### Finding optimal solution\n",
    "In general, it is possible to find all vertices of the feasible region and evaluate the objective function $\\mathrm{C}^T\\mathbf{x}$ at each vertex to find the optimal solution. However, if there are many vertices, it will be time-consuming to compute the optimal solution at every vertices.\n",
    "\n",
    "The objective function defines a hyperplane that passes through orthogonally to the vertex of the polytope, and therefore can contain non-optimal solution. The optimal solution corresponds to the point where the objective function hyperplane is orthogonal to the half-spaces created by the inequalities. Therefore, we need to compute the objective function at each point of the vertex. \n"
   ]
  },
  {
   "cell_type": "markdown",
   "metadata": {},
   "source": [
    "### Enumerating Vertices for 2-D problem\n",
    "\n",
    "There are only 2 decision variables in a 2-d problem. In general, the feasible region would look like a triangle or quadrilateral in a graph.\n",
    "\n",
    "**Step 1: Defining the problem**\n",
    "\n",
    "Suppose a winemaker is deciding how many barrels of red wine or white wine to produce. The profit in making red wine is \\$ 5 and the profit in making white wine is \\$ 7. Red wine needs 65 litres of grape juice, while white wine needs 55 litres of grape juice. The winemaker only have 1200 liters of grape juice. It takes 25 sqft and 35 sqft to store red wine and white wine respectively. The maximum capacity is 355 sqft. \n",
    "\n",
    "**Step 2: Identifying the objective functions decision variables, and constraints**\n",
    "\n",
    "Decision Variables:\n",
    "* $a$ : red wine\n",
    "* $b$ : white wine\n",
    "\n",
    "Objective function: Maximize $5b + 7b$\n",
    "\n",
    "Constraints: \n",
    "- $65a + 55b \\leq 1200$ ingredient capacity\n",
    "- $25a + 35b \\leq 600$ warehouse capacity\n",
    "- $ a \\geq 0, b \\geq 0$\n",
    "\n",
    "**Step 3: Stating the assumptions**\n",
    "no assumptions\n",
    "\n",
    "**Step 4: Building the solution**"
   ]
  },
  {
   "cell_type": "code",
   "execution_count": 1,
   "metadata": {},
   "outputs": [
    {
     "data": {
      "text/plain": [
       "Text(0, 0.5, 'b')"
      ]
     },
     "execution_count": 1,
     "metadata": {},
     "output_type": "execute_result"
    },
    {
     "data": {
      "image/png": "[encoded data removed]",
      "text/plain": [
       "<Figure size 640x480 with 1 Axes>"
      ]
     },
     "metadata": {},
     "output_type": "display_data"
    }
   ],
   "source": [
    "# plotting a graph\n",
    "import math\n",
    "import numpy as np\n",
    "import matplotlib.pyplot as plt\n",
    "\n",
    "d = np.linspace(0, 30, 1000)\n",
    "x, y = np.meshgrid(d,d)\n",
    "plt.imshow(((65*x+55*y<=1200) & (25*x+35*y<=600)).astype(int), \n",
    "    extent=(x.min(), x.max(), y.min(), y.max()), origin=\"lower\", cmap=\"Greys\", alpha = 0.3)\n",
    "\n",
    "x = np.linspace(0,30,1000)\n",
    "y1 = (1200-(65*x))/55\n",
    "y2 = (600-(25*x))/35\n",
    "\n",
    "# plot\n",
    "plt.plot(x, y1, label=\"$65x+55y \\leq 1200$\")\n",
    "plt.plot(x, y2, label=\"$25a + 35b \\leq 600$\")\n",
    "plt.xlim(0,30)\n",
    "plt.ylim(0,25)\n",
    "plt.legend()\n",
    "plt.xlabel(r'a')\n",
    "plt.ylabel(r'b')"
   ]
  },
  {
   "cell_type": "markdown",
   "metadata": {},
   "source": [
    "There are 2 decision variables and 2 constraints, so we have ${n+m \\choose n} = {2+2 \\choose 2} = 4$ vertices\n",
    "\n",
    "There are 4 vertices:\n",
    "- (0,0)\n",
    "- intersection through axis y\n",
    "- intersection of the two plot lines\n",
    "- intersection through axis x"
   ]
  },
  {
   "cell_type": "code",
   "execution_count": 2,
   "metadata": {},
   "outputs": [
    {
     "name": "stdout",
     "output_type": "stream",
     "text": [
      "The coordinate is: (0, 17.142857142857142 )\n"
     ]
    }
   ],
   "source": [
    "# The point of intersection through axis y\n",
    "a = (600-25*0)/35\n",
    "print('The coordinate is: (0,', a, ')')"
   ]
  },
  {
   "cell_type": "markdown",
   "metadata": {},
   "source": [
    "#### Using linear algebra to solve the intersection"
   ]
  },
  {
   "cell_type": "code",
   "execution_count": 3,
   "metadata": {},
   "outputs": [
    {
     "name": "stdout",
     "output_type": "stream",
     "text": [
      "[[55.  1.]\n",
      " [35.  0.]]\n"
     ]
    }
   ],
   "source": [
    "import scipy.linalg as la\n",
    "\n",
    "# transforming the equation into Ax + wI = b\n",
    "A = np.array([[65,55],[25,35]])\n",
    "I = np.eye(2) # since there are two constraints\n",
    "T = np.hstack([A,I])\n",
    "b = np.array([[1200],[600]])\n",
    "print(T[:,[1,2]])"
   ]
  },
  {
   "cell_type": "markdown",
   "metadata": {},
   "source": [
    "Then, we have:\n",
    "\n",
    "$\n",
    "\\begin{bmatrix}\n",
    "55 & 1 \\\\\n",
    "35 & 0 \n",
    "\\end{bmatrix}$\n",
    "\\=\n",
    "$\n",
    "\\begin{bmatrix}\n",
    "1200 \\\\\n",
    "600\n",
    "\\end{bmatrix}\n",
    "$\n",
    "\n",
    "Thus, we are actually calculating 600/35."
   ]
  },
  {
   "cell_type": "code",
   "execution_count": 4,
   "metadata": {},
   "outputs": [
    {
     "name": "stdout",
     "output_type": "stream",
     "text": [
      "The coordinate is [[ 17.14285714]\n",
      " [257.14285714]]\n"
     ]
    }
   ],
   "source": [
    "y_intersection = la.solve(T[:,[1,2]],b)\n",
    "print('The coordinate is', y_intersection)"
   ]
  },
  {
   "cell_type": "code",
   "execution_count": 5,
   "metadata": {},
   "outputs": [
    {
     "name": "stdout",
     "output_type": "stream",
     "text": [
      "The coordinate is: (0, 17.142857142857142 )\n"
     ]
    }
   ],
   "source": [
    "# The point of intersection through axis y\n",
    "a = (600-25*0)/35\n",
    "print('The coordinate is: (0,', a, ')')"
   ]
  },
  {
   "cell_type": "code",
   "execution_count": 6,
   "metadata": {},
   "outputs": [
    {
     "name": "stdout",
     "output_type": "stream",
     "text": [
      "The coordinate is [[10.]\n",
      " [10.]]\n",
      "Using linalg, the coordinate is [[10.]\n",
      " [10.]]\n",
      "The coordinate is: ( 18.46153846153846 , 0)\n",
      "[[65.  0.]\n",
      " [25.  1.]]\n",
      "The coordinate is [[ 18.46153846]\n",
      " [138.46153846]]\n"
     ]
    }
   ],
   "source": [
    "# coordinate of intersection of the two plot lines\n",
    "intersection = la.solve(A,b)\n",
    "print('The coordinate is', intersection)\n",
    "\n",
    "# using linalg\n",
    "intersection = la.solve(T[:,[0,1]],b)\n",
    "print('Using linalg, the coordinate is', intersection)\n",
    "\n",
    "# The point of intersection through axis x\n",
    "x = (1200-(55*0))/65\n",
    "print('The coordinate is: (', x , ', 0)')\n",
    "\n",
    "print(T[:,[0,3]])\n",
    "# calculating 1200/65\n",
    "x_intersection = la.solve(T[:,[0,3]], b)\n",
    "print('The coordinate is', x_intersection)"
   ]
  },
  {
   "cell_type": "markdown",
   "metadata": {},
   "source": [
    "### Python program to find vertices of bounded LP Problem\n",
    "**Assumptions:**\n",
    "* The LP is a maximization problem\n",
    "* The LP is a less than or equal to linear inequality problem"
   ]
  },
  {
   "cell_type": "markdown",
   "metadata": {},
   "source": [
    "Steps:\n",
    "\n",
    "1. Define a function that takes in an array A and array b that conforms to the standard LP problem\n",
    "2. Add slack variables to transform into an equality constraint"
   ]
  },
  {
   "cell_type": "code",
   "execution_count": 7,
   "metadata": {},
   "outputs": [],
   "source": [
    "def addSlack(A):\n",
    "    #find how many constraints A have\n",
    "    m = len(A)\n",
    "    #add slack variables\n",
    "    I = np.eye(m)\n",
    "    T = np.hstack([A,I]) \n",
    "    return T"
   ]
  },
  {
   "cell_type": "markdown",
   "metadata": {},
   "source": [
    "3. Create a function that checks if there are negative numbers in the array ()\n",
    "4. Loop through each vertices combination\n",
    "    - solve Ax + wI = b\n",
    "    - print basic variables\n",
    "    - check if matrix is singular\n",
    "    - check for negatives\n",
    "    - print the vertex"
   ]
  },
  {
   "cell_type": "markdown",
   "metadata": {},
   "source": [
    "* check for negatives: we cannot have negative values in the objective function coefficients because $x \\geq 0$\n",
    "* check if matrix is non-singular: there is a unique solution and we can check by making sure there is no zero row entry in the matrix\n",
    "\\begin{bmatrix}\n",
    "\\ddots & \\ddots & \\ddots\\\\\n",
    "\\vdots & \\vdots &  \\vdots\\\\\n",
    "0 & 0 & 0\n",
    "\\end{bmatrix}"
   ]
  },
  {
   "cell_type": "code",
   "execution_count": 8,
   "metadata": {},
   "outputs": [],
   "source": [
    "import itertools\n",
    "\n",
    "def checkNegative(array):\n",
    "    return np.any(array < 0)\n",
    "\n",
    "def checkZero(array):\n",
    "    return np.any(np.all(array==0,axis=1))\n",
    "\n",
    "def getVertex(A,b):\n",
    "    T = addSlack(A)\n",
    "    n = T.shape[1] # number of columns in matrix\n",
    "    # Generate combinations\n",
    "    basic = itertools.combinations(range(n),len(A)) \n",
    "    v = []\n",
    "    for c in basic:\n",
    "        if (checkZero(T[:,c])): pass\n",
    "        else: \n",
    "            s = la.solve(T[:,c],b)\n",
    "            # skip negative because all variables should be greater or equal to 0\n",
    "            if (checkNegative(s)): pass\n",
    "            else: \n",
    "                x = np.zeros(n)\n",
    "                x[list(c)] = s.flatten()\n",
    "                v.append(x[:len(c)])\n",
    "    return v"
   ]
  },
  {
   "cell_type": "markdown",
   "metadata": {},
   "source": [
    "5. Define a function that loop through the vertices"
   ]
  },
  {
   "cell_type": "code",
   "execution_count": 9,
   "metadata": {},
   "outputs": [],
   "source": [
    "def findMax(A, b, c):\n",
    "    # c is the coefficient of the objective function\n",
    "    max = -10000\n",
    "    vertices = getVertex(A,b)\n",
    "    for vertex in vertices:\n",
    "        sum = np.dot(vertex, c)\n",
    "        if (sum > max):\n",
    "            max = sum\n",
    "    return max"
   ]
  },
  {
   "cell_type": "markdown",
   "metadata": {},
   "source": [
    "### Example: Diet Problem\n",
    "A = \n",
    "$\\begin{bmatrix}\n",
    "-90 & -120 & -106 & -97 & -130 & -180 \\\\\n",
    "4 & 8 & 7 & 1.3 & 8 & 9.2 \\\\\n",
    "-15 & -11.7 & -0.4 & -22.6 & 0 & -17 \\\\\n",
    "-1 & -5 & -9 & -0.1 & -7 & -1\\\\\n",
    "0 & 0 & 0 & 0 & -1 & 0 \\\\\n",
    "0 & 1 & 0 & 0 & 0 & 0 \\\\\n",
    "\\end{bmatrix}$\n",
    "b = \n",
    "$\\begin{bmatrix}\n",
    "-300 \\\\\n",
    "10 \\\\\n",
    "-10 \\\\\n",
    "-8 \\\\\n",
    "-0.5 \\\\\n",
    "1\n",
    "\\end{bmatrix}$\n",
    "c = \n",
    "$\\begin{bmatrix}\n",
    "-2 \\\\\n",
    "-3.5 \\\\ \n",
    "-8 \\\\ \n",
    "-1.5 \\\\ \n",
    "-11 \\\\ \n",
    "-1 \\\\\n",
    "\\end{bmatrix}$\n",
    "\n",
    "SAS Institute Inc. (2022). SAS/OR(R) 14.2 User's Guide: Mathematical Programming Examples. Cary, NC: SAS Institute Inc. Available online: https://documentation.sas.com/doc/en/orcdc/14.2/ormpug/ormpug_lpsolver_examples01.htm"
   ]
  },
  {
   "cell_type": "code",
   "execution_count": 10,
   "metadata": {},
   "outputs": [
    {
     "name": "stdout",
     "output_type": "stream",
     "text": [
      "[-12.08133788]\n"
     ]
    },
    {
     "name": "stderr",
     "output_type": "stream",
     "text": [
      "C:\\Users\\Owner\\AppData\\Local\\Temp\\ipykernel_18544\\2977854686.py:18: LinAlgWarning: Ill-conditioned matrix (rcond=1.05076e-20): result may not be accurate.\n",
      "  s = la.solve(T[:,c],b)\n"
     ]
    }
   ],
   "source": [
    "A = np.array([[-90,-120,-106, -97, -130, -180],[4,8,7,1.3,8,9.2],[-15,-11.7,-0.4,-22.6,0,-17],[-1,-5,-9,-0.1,-7,-1],[0,0,0,0,-1,0],[0,1,0,0,0,0]])\n",
    "b = np.array([[-300],[10],[-10],[-8],[-0.5],[1]])\n",
    "c = np.array([[-2],[-3.5],[-8],[-1.5],[-11],[-1]])\n",
    "\n",
    "print(findMax(A,b,c))"
   ]
  },
  {
   "cell_type": "markdown",
   "metadata": {},
   "source": [
    "From the SAS Institute Inc. (2022), the solution of the objective value is 12.08133788. The output is negative because I converted the problem to fit into the standard form for the function to work properly. Thus, from $\\min \\sum_i c_i x_i$ it becomes $\\max -\\sum_i c_i x_i$. Thus, the minimum objective value is 12.08133788, so we have found the right answer."
   ]
  },
  {
   "cell_type": "markdown",
   "metadata": {},
   "source": [
    "### Compare to python library methods\n",
    "\n",
    "Softwares to calculate linear programming\n",
    "1. SciPy.optimize using linprog\n",
    "2. CVXPY\n",
    "3. puLP \n",
    "4. Google OR-Tools"
   ]
  },
  {
   "cell_type": "code",
   "execution_count": 11,
   "metadata": {},
   "outputs": [
    {
     "name": "stdout",
     "output_type": "stream",
     "text": [
      "(CVXPY) Feb 29 12:04:50 AM: Encountered unexpected exception importing solver GLOP:\n",
      "RuntimeError('Unrecognized new version of ortools (9.8.3296). Expected < 9.8.0. Please open a feature request on cvxpy to enable support for this version.')\n",
      "(CVXPY) Feb 29 12:04:50 AM: Encountered unexpected exception importing solver PDLP:\n",
      "RuntimeError('Unrecognized new version of ortools (9.8.3296). Expected < 9.8.0. Please open a feature request on cvxpy to enable support for this version.')\n"
     ]
    }
   ],
   "source": [
    "from scipy.optimize import linprog\n",
    "import cvxpy as cp\n",
    "from pulp import *\n",
    "from ortools.linear_solver import pywraplp"
   ]
  },
  {
   "cell_type": "markdown",
   "metadata": {},
   "source": [
    "**Create dataframe to record time for each software computation time**"
   ]
  },
  {
   "cell_type": "code",
   "execution_count": 12,
   "metadata": {},
   "outputs": [],
   "source": [
    "import pandas as pd\n",
    "from timeit import default_timer as timer\n",
    "\n",
    "df = pd.DataFrame({'findMax':[], 'scipy':[], 'CVXPY':[], 'puLP':[], 'ortools':[]})"
   ]
  },
  {
   "cell_type": "markdown",
   "metadata": {},
   "source": [
    "#### Create random matrix (5 decision variables and 5 constraints)\n",
    "\n",
    "${n+m \\choose n} = {5+5 \\choose 5} = 252$ vertices"
   ]
  },
  {
   "cell_type": "code",
   "execution_count": 13,
   "metadata": {},
   "outputs": [],
   "source": [
    "A = np.random.randint(0, 250, size=(5,5))\n",
    "b = np.random.randint(0, 250,size=(1,5)).flatten()\n",
    "c = np.random.randint(0, 250,size=(1,5)).flatten()"
   ]
  },
  {
   "cell_type": "markdown",
   "metadata": {},
   "source": [
    "**Compute time for each method using timer() function**"
   ]
  },
  {
   "cell_type": "code",
   "execution_count": 14,
   "metadata": {},
   "outputs": [
    {
     "name": "stdout",
     "output_type": "stream",
     "text": [
      "229.37704231252619\n",
      "-229.37704231252624\n",
      "229.3770425749111\n",
      "229.37704707999998\n",
      "229.37704231252616\n"
     ]
    },
    {
     "name": "stderr",
     "output_type": "stream",
     "text": [
      "c:\\Users\\Owner\\miniconda3\\envs\\comet\\Lib\\site-packages\\cvxpy\\reductions\\solvers\\solving_chain.py:336: FutureWarning: \n",
      "    Your problem is being solved with the ECOS solver by default. Starting in \n",
      "    CVXPY 1.5.0, Clarabel will be used as the default solver instead. To continue \n",
      "    using ECOS, specify the ECOS solver explicitly using the ``solver=cp.ECOS`` \n",
      "    argument to the ``problem.solve`` method.\n",
      "    \n",
      "  warnings.warn(ECOS_DEPRECATION_MSG, FutureWarning)\n"
     ]
    }
   ],
   "source": [
    "#compute time for function\n",
    "start = timer()\n",
    "lp = findMax(A,b,c)\n",
    "end = timer()\n",
    "df.loc[0, 'findMax'] = end - start\n",
    "print(lp)\n",
    "\n",
    "#compute time for linprog\n",
    "start = timer()\n",
    "lp = linprog(-c, A_ub = A, b_ub = b)\n",
    "end = timer()\n",
    "df.loc[0, 'scipy'] = end - start\n",
    "print(lp.fun)\n",
    "\n",
    "#compute time for CVXPY\n",
    "x = cp.Variable(5)\n",
    "problem = cp.Problem(cp.Maximize(c@x), [A@x <= b, x >= 0])\n",
    "start = timer()\n",
    "problem.solve()\n",
    "end = timer()\n",
    "df.loc[0, 'CVXPY'] = end - start\n",
    "print(problem.value)\n",
    "\n",
    "# transform matrix to fit pulp\n",
    "problem = LpProblem(\"random\", LpMaximize)\n",
    "n = 5\n",
    "m = 5\n",
    "# decision variables\n",
    "x = LpVariable.dicts(\"x\", range(n), lowBound=0, cat=LpContinuous)\n",
    "# objective function\n",
    "problem += lpSum([c[i] * x[i] for i in range(n)])\n",
    "# constraints\n",
    "for i in range(m):\n",
    "    problem += lpSum([A[i][j] * x[j] for j in range(n)]) <= b[i]\n",
    "# compute time for pulp\n",
    "start = timer()\n",
    "problem.solve()\n",
    "end = timer()\n",
    "df.loc[0, 'puLP'] = end - start\n",
    "print(value(problem.objective))\n",
    "\n",
    "#transform the matrix to fit ortools\n",
    "data = {}\n",
    "data[\"constraint_coeffs\"] = A.tolist()\n",
    "data[\"bounds\"] = b.tolist()\n",
    "data[\"obj_coeffs\"] = c.tolist()\n",
    "data[\"num_vars\"] = 5\n",
    "data[\"num_constraints\"] = 5\n",
    "\n",
    "solver = pywraplp.Solver.CreateSolver(\"GLOP\")\n",
    "infinity = solver.infinity()\n",
    "x = {}\n",
    "for j in range(data[\"num_vars\"]):\n",
    "    x[j] = solver.IntVar(0, infinity, \"x[%i]\" % j)\n",
    "\n",
    "for i in range(data['num_constraints']):\n",
    "    constraint_expr = \\\n",
    "    [data['constraint_coeffs'][i][j] * x[j] for j in range(data['num_vars'])]\n",
    "    solver.Add(sum(constraint_expr) <= data['bounds'][i])\n",
    "\n",
    "objective = solver.Objective()\n",
    "obj_expr = [data['obj_coeffs'][j] * x[j] for j in range(data['num_vars'])]\n",
    "solver.Maximize(solver.Sum(obj_expr))\n",
    "\n",
    "#compute time for ortools\n",
    "start = timer()\n",
    "status = solver.Solve()\n",
    "end = timer()\n",
    "df.loc[0, 'ortools'] = end - start\n",
    "print(solver.Objective().Value())"
   ]
  },
  {
   "cell_type": "markdown",
   "metadata": {},
   "source": [
    "**code for ortools are taken from \n",
    "Google. OR-Tools: Mixed-Integer Programming (MIP) Variable Arrays. https://developers.google.com/optimization/mip/mip_var_array"
   ]
  },
  {
   "cell_type": "markdown",
   "metadata": {},
   "source": [
    "### Create random matrix (10 decision variables and 10 constraints)\n",
    "\n",
    "${n+m \\choose n} = {20\\choose 10} = 184,756$ vertices\n",
    "\n",
    "**Compute time for 10 decision variables and 10 constraints**"
   ]
  },
  {
   "cell_type": "code",
   "execution_count": 15,
   "metadata": {},
   "outputs": [],
   "source": [
    "A = np.random.randint(0, 250, size=(10,10))\n",
    "b = np.random.randint(0, 250,size=(1,10)).flatten()\n",
    "c = np.random.randint(0, 250,size=(1,10)).flatten()"
   ]
  },
  {
   "cell_type": "code",
   "execution_count": 16,
   "metadata": {},
   "outputs": [
    {
     "name": "stdout",
     "output_type": "stream",
     "text": [
      "42.61756929033477\n",
      "-42.61756929033477\n",
      "42.61756929283318\n",
      "42.617569304999996\n",
      "42.61756929033477\n"
     ]
    }
   ],
   "source": [
    "#compute time for function\n",
    "start = timer()\n",
    "lp = findMax(A,b,c)\n",
    "end = timer()\n",
    "df.loc[1, 'findMax'] = end - start\n",
    "print(lp)\n",
    "\n",
    "#compute time for linprog\n",
    "start = timer()\n",
    "lp = linprog(-c, A_ub = A, b_ub = b)\n",
    "end = timer()\n",
    "df.loc[1, 'scipy'] = end - start\n",
    "print(lp.fun)\n",
    "\n",
    "#compute time for CVXPY\n",
    "x = cp.Variable(10)\n",
    "problem = cp.Problem(cp.Maximize(c@x), [A@x <= b, x >= 0])\n",
    "start = timer()\n",
    "problem.solve()\n",
    "end = timer()\n",
    "df.loc[1, 'CVXPY'] = end - start\n",
    "print(problem.value)\n",
    "\n",
    "# transform matrix to fit pulp\n",
    "problem = LpProblem(\"random\", LpMaximize)\n",
    "n = 10\n",
    "m = 10\n",
    "# decision variables\n",
    "x = LpVariable.dicts(\"x\", range(n), lowBound=0, cat=LpContinuous)\n",
    "# objective function\n",
    "problem += lpSum([c[i] * x[i] for i in range(n)])\n",
    "# constraints\n",
    "for i in range(m):\n",
    "    problem += lpSum([A[i][j] * x[j] for j in range(n)]) <= b[i]\n",
    "# compute time for pulp\n",
    "start = timer()\n",
    "problem.solve()\n",
    "end = timer()\n",
    "df.loc[1, 'puLP'] = end - start\n",
    "print(value(problem.objective))\n",
    "\n",
    "#transform the matrix to fit ortools\n",
    "data = {}\n",
    "data[\"constraint_coeffs\"] = A.tolist()\n",
    "data[\"bounds\"] = b.tolist()\n",
    "data[\"obj_coeffs\"] = c.tolist()\n",
    "data[\"num_vars\"] = 10\n",
    "data[\"num_constraints\"] = 10\n",
    "\n",
    "solver = pywraplp.Solver.CreateSolver(\"GLOP\")\n",
    "infinity = solver.infinity()\n",
    "x = {}\n",
    "for j in range(data[\"num_vars\"]):\n",
    "    x[j] = solver.IntVar(0, infinity, \"x[%i]\" % j)\n",
    "\n",
    "for i in range(data['num_constraints']):\n",
    "    constraint_expr = \\\n",
    "    [data['constraint_coeffs'][i][j] * x[j] for j in range(data['num_vars'])]\n",
    "    solver.Add(sum(constraint_expr) <= data['bounds'][i])\n",
    "\n",
    "objective = solver.Objective()\n",
    "obj_expr = [data['obj_coeffs'][j] * x[j] for j in range(data['num_vars'])]\n",
    "solver.Maximize(solver.Sum(obj_expr))\n",
    "\n",
    "#compute time for ortools\n",
    "start = timer()\n",
    "status = solver.Solve()\n",
    "end = timer()\n",
    "df.loc[1, 'ortools'] = end - start\n",
    "print(solver.Objective().Value())"
   ]
  },
  {
   "cell_type": "markdown",
   "metadata": {},
   "source": [
    "**Note: The function written may not work sometimes because the matrix generated does not have an optimal solution (unbounded lp problem). Generate another matrix to compute the time."
   ]
  },
  {
   "cell_type": "markdown",
   "metadata": {},
   "source": [
    "### Create random matrix (12 decision variables and 12 constraints)\n",
    "\n",
    "${n+m \\choose n} = {24\\choose 12} = 2,704,156$"
   ]
  },
  {
   "cell_type": "markdown",
   "metadata": {},
   "source": [
    "**Compute time for 12 decision variables and 12 constraints**"
   ]
  },
  {
   "cell_type": "code",
   "execution_count": 19,
   "metadata": {},
   "outputs": [],
   "source": [
    "A = np.random.randint(0, 250, size=(12,12)) # 12 constraints with 12 decision variables\n",
    "b = np.random.randint(0, 1000,size=(1,12)).flatten()\n",
    "c = np.random.randint(0, 250,size=(1,12)).flatten()"
   ]
  },
  {
   "cell_type": "code",
   "execution_count": 23,
   "metadata": {},
   "outputs": [
    {
     "name": "stdout",
     "output_type": "stream",
     "text": [
      "242.2555638675892\n",
      "-242.25556386758925\n",
      "242.25556389988276\n",
      "242.255564029\n",
      "242.2555638675893\n"
     ]
    },
    {
     "name": "stderr",
     "output_type": "stream",
     "text": [
      "c:\\Users\\Owner\\miniconda3\\envs\\comet\\Lib\\site-packages\\cvxpy\\reductions\\solvers\\solving_chain.py:336: FutureWarning: \n",
      "    Your problem is being solved with the ECOS solver by default. Starting in \n",
      "    CVXPY 1.5.0, Clarabel will be used as the default solver instead. To continue \n",
      "    using ECOS, specify the ECOS solver explicitly using the ``solver=cp.ECOS`` \n",
      "    argument to the ``problem.solve`` method.\n",
      "    \n",
      "  warnings.warn(ECOS_DEPRECATION_MSG, FutureWarning)\n"
     ]
    }
   ],
   "source": [
    "#compute time for function\n",
    "start = timer()\n",
    "lp = findMax(A,b,c)\n",
    "end = timer()\n",
    "df.loc[2, 'findMax'] = end - start\n",
    "print(lp)\n",
    "\n",
    "#compute time for linprog\n",
    "start = timer()\n",
    "lp = linprog(-c, A_ub = A, b_ub = b)\n",
    "end = timer()\n",
    "df.loc[2, 'scipy'] = end - start\n",
    "print(lp.fun)\n",
    "\n",
    "#compute time for CVXPY\n",
    "x = cp.Variable(12)\n",
    "problem = cp.Problem(cp.Maximize(c@x), [A@x <= b, x >= 0])\n",
    "start = timer()\n",
    "problem.solve()\n",
    "end = timer()\n",
    "df.loc[2, 'CVXPY'] = end - start\n",
    "print(problem.value)\n",
    "\n",
    "# transform matrix to fit pulp\n",
    "problem = LpProblem(\"random\", LpMaximize)\n",
    "n = 12\n",
    "m = 12\n",
    "# decision variables\n",
    "x = LpVariable.dicts(\"x\", range(n), lowBound=0, cat=LpContinuous)\n",
    "# objective function\n",
    "problem += lpSum([c[i] * x[i] for i in range(n)])\n",
    "# constraints\n",
    "for i in range(m):\n",
    "    problem += lpSum([A[i][j] * x[j] for j in range(n)]) <= b[i]\n",
    "# compute time for pulp\n",
    "start = timer()\n",
    "problem.solve()\n",
    "end = timer()\n",
    "df.loc[2, 'puLP'] = end - start\n",
    "print(value(problem.objective))\n",
    "\n",
    "#transform the matrix to fit ortools\n",
    "data = {}\n",
    "data[\"constraint_coeffs\"] = A.tolist()\n",
    "data[\"bounds\"] = b.tolist()\n",
    "data[\"obj_coeffs\"] = c.tolist()\n",
    "data[\"num_vars\"] = 12\n",
    "data[\"num_constraints\"] = 12\n",
    "\n",
    "solver = pywraplp.Solver.CreateSolver(\"GLOP\")\n",
    "infinity = solver.infinity()\n",
    "x = {}\n",
    "for j in range(data[\"num_vars\"]):\n",
    "    x[j] = solver.IntVar(0, infinity, \"x[%i]\" % j)\n",
    "\n",
    "for i in range(data['num_constraints']):\n",
    "    constraint_expr = \\\n",
    "    [data['constraint_coeffs'][i][j] * x[j] for j in range(data['num_vars'])]\n",
    "    solver.Add(sum(constraint_expr) <= data['bounds'][i])\n",
    "\n",
    "objective = solver.Objective()\n",
    "obj_expr = [data['obj_coeffs'][j] * x[j] for j in range(data['num_vars'])]\n",
    "solver.Maximize(solver.Sum(obj_expr))\n",
    "\n",
    "#compute time for ortools\n",
    "start = timer()\n",
    "status = solver.Solve()\n",
    "end = timer()\n",
    "df.loc[2, 'ortools'] = end - start\n",
    "print(solver.Objective().Value())"
   ]
  },
  {
   "cell_type": "markdown",
   "metadata": {},
   "source": [
    "### Create random matrix (13 decision variables and 13 constraints)\n",
    "\n",
    "${n+m \\choose n} = {26\\choose 13} = 10,400,600$ vertices\n",
    "\n",
    "**Compute time for 13 decision variables and 13 constraints**"
   ]
  },
  {
   "cell_type": "code",
   "execution_count": 31,
   "metadata": {},
   "outputs": [],
   "source": [
    "A = np.random.randint(0, 250, size=(13,13)) # 13 constraints with 13 decision variables\n",
    "b = np.random.randint(0, 1000,size=(1,13)).flatten()\n",
    "c = np.random.randint(0, 250,size=(1,13)).flatten()"
   ]
  },
  {
   "cell_type": "code",
   "execution_count": 33,
   "metadata": {},
   "outputs": [
    {
     "name": "stdout",
     "output_type": "stream",
     "text": [
      "233.81081081081058\n",
      "-233.81081081081123\n",
      "233.8108110640155\n",
      "233.81080909999997\n",
      "233.81081081081086\n"
     ]
    },
    {
     "name": "stderr",
     "output_type": "stream",
     "text": [
      "C:\\Users\\Owner\\AppData\\Local\\Temp\\ipykernel_18544\\2977854686.py:18: LinAlgWarning: Ill-conditioned matrix (rcond=3.58519e-22): result may not be accurate.\n",
      "  s = la.solve(T[:,c],b)\n",
      "c:\\Users\\Owner\\miniconda3\\envs\\comet\\Lib\\site-packages\\cvxpy\\reductions\\solvers\\solving_chain.py:336: FutureWarning: \n",
      "    Your problem is being solved with the ECOS solver by default. Starting in \n",
      "    CVXPY 1.5.0, Clarabel will be used as the default solver instead. To continue \n",
      "    using ECOS, specify the ECOS solver explicitly using the ``solver=cp.ECOS`` \n",
      "    argument to the ``problem.solve`` method.\n",
      "    \n",
      "  warnings.warn(ECOS_DEPRECATION_MSG, FutureWarning)\n"
     ]
    }
   ],
   "source": [
    "#compute time for function\n",
    "start = timer()\n",
    "lp = findMax(A,b,c)\n",
    "end = timer()\n",
    "df.loc[3, 'findMax'] = end - start\n",
    "print(lp)\n",
    "\n",
    "#compute time for linprog\n",
    "start = timer()\n",
    "lp = linprog(-c, A_ub = A, b_ub = b)\n",
    "end = timer()\n",
    "df.loc[3, 'scipy'] = end - start\n",
    "print(lp.fun)\n",
    "\n",
    "#compute time for CVXPY\n",
    "x = cp.Variable(13)\n",
    "problem = cp.Problem(cp.Maximize(c@x), [A@x <= b, x >= 0])\n",
    "start = timer()\n",
    "problem.solve()\n",
    "end = timer()\n",
    "df.loc[3, 'CVXPY'] = end - start\n",
    "print(problem.value)\n",
    "\n",
    "# transform matrix to fit pulp\n",
    "problem = LpProblem(\"random\", LpMaximize)\n",
    "n = 13\n",
    "m = 13\n",
    "# decision variables\n",
    "x = LpVariable.dicts(\"x\", range(n), lowBound=0, cat=LpContinuous)\n",
    "# objective function\n",
    "problem += lpSum([c[i] * x[i] for i in range(n)])\n",
    "# constraints\n",
    "for i in range(m):\n",
    "    problem += lpSum([A[i][j] * x[j] for j in range(n)]) <= b[i]\n",
    "# compute time for pulp\n",
    "start = timer()\n",
    "problem.solve()\n",
    "end = timer()\n",
    "df.loc[3, 'puLP'] = end - start\n",
    "print(value(problem.objective))\n",
    "\n",
    "#transform the matrix to fit ortools\n",
    "data = {}\n",
    "data[\"constraint_coeffs\"] = A.tolist()\n",
    "data[\"bounds\"] = b.tolist()\n",
    "data[\"obj_coeffs\"] = c.tolist()\n",
    "data[\"num_vars\"] = 13\n",
    "data[\"num_constraints\"] = 13\n",
    "\n",
    "solver = pywraplp.Solver.CreateSolver(\"GLOP\")\n",
    "infinity = solver.infinity()\n",
    "x = {}\n",
    "for j in range(data[\"num_vars\"]):\n",
    "    x[j] = solver.IntVar(0, infinity, \"x[%i]\" % j)\n",
    "\n",
    "for i in range(data['num_constraints']):\n",
    "    constraint_expr = \\\n",
    "    [data['constraint_coeffs'][i][j] * x[j] for j in range(data['num_vars'])]\n",
    "    solver.Add(sum(constraint_expr) <= data['bounds'][i])\n",
    "\n",
    "objective = solver.Objective()\n",
    "obj_expr = [data['obj_coeffs'][j] * x[j] for j in range(data['num_vars'])]\n",
    "solver.Maximize(solver.Sum(obj_expr))\n",
    "\n",
    "#compute time for ortools\n",
    "start = timer()\n",
    "status = solver.Solve()\n",
    "end = timer()\n",
    "df.loc[3, 'ortools'] = end - start\n",
    "print(solver.Objective().Value())"
   ]
  },
  {
   "cell_type": "markdown",
   "metadata": {},
   "source": [
    "### Create random matrix (15 decision variables and 20 constraints)\n",
    "\n",
    "${n+m \\choose n} = {35\\choose 15} = 3,247,943,160$ vertices\n",
    "\n",
    "**Compute time for 15 decision variables and 20 constraints**"
   ]
  },
  {
   "cell_type": "code",
   "execution_count": 40,
   "metadata": {},
   "outputs": [],
   "source": [
    "A = np.random.randint(0, 250, size=(20,15)) # 20 constraints with 15 decision variables\n",
    "b = np.random.randint(0, 1000,size=(1,20)).flatten()\n",
    "c = np.random.randint(0, 250,size=(1,15)).flatten()"
   ]
  },
  {
   "cell_type": "code",
   "execution_count": 41,
   "metadata": {},
   "outputs": [
    {
     "name": "stdout",
     "output_type": "stream",
     "text": [
      "-18.940620782726047\n",
      "18.940620818323573\n",
      "18.940620812000002\n",
      "18.940620782726043\n"
     ]
    },
    {
     "name": "stderr",
     "output_type": "stream",
     "text": [
      "c:\\Users\\Owner\\miniconda3\\envs\\comet\\Lib\\site-packages\\cvxpy\\reductions\\solvers\\solving_chain.py:336: FutureWarning: \n",
      "    Your problem is being solved with the ECOS solver by default. Starting in \n",
      "    CVXPY 1.5.0, Clarabel will be used as the default solver instead. To continue \n",
      "    using ECOS, specify the ECOS solver explicitly using the ``solver=cp.ECOS`` \n",
      "    argument to the ``problem.solve`` method.\n",
      "    \n",
      "  warnings.warn(ECOS_DEPRECATION_MSG, FutureWarning)\n"
     ]
    }
   ],
   "source": [
    "#compute time for linprog\n",
    "start = timer()\n",
    "lp = linprog(-c, A_ub = A, b_ub = b)\n",
    "end = timer()\n",
    "df.loc[4, 'scipy'] = end - start\n",
    "print(lp.fun)\n",
    "\n",
    "#compute time for CVXPY\n",
    "x = cp.Variable(15)\n",
    "problem = cp.Problem(cp.Maximize(c@x), [A@x <= b, x >= 0])\n",
    "start = timer()\n",
    "problem.solve()\n",
    "end = timer()\n",
    "df.loc[4, 'CVXPY'] = end - start\n",
    "print(problem.value)\n",
    "\n",
    "# transform matrix to fit pulp\n",
    "problem = LpProblem(\"random\", LpMaximize)\n",
    "n = 15\n",
    "m = 20\n",
    "# decision variables\n",
    "x = LpVariable.dicts(\"x\", range(n), lowBound=0, cat=LpContinuous)\n",
    "# objective function\n",
    "problem += lpSum([c[i] * x[i] for i in range(n)])\n",
    "# constraints\n",
    "for i in range(m):\n",
    "    problem += lpSum([A[i][j] * x[j] for j in range(n)]) <= b[i]\n",
    "# compute time for pulp\n",
    "start = timer()\n",
    "problem.solve()\n",
    "end = timer()\n",
    "df.loc[4, 'puLP'] = end - start\n",
    "print(value(problem.objective))\n",
    "\n",
    "#transform the matrix to fit ortools\n",
    "data = {}\n",
    "data[\"constraint_coeffs\"] = A.tolist()\n",
    "data[\"bounds\"] = b.tolist()\n",
    "data[\"obj_coeffs\"] = c.tolist()\n",
    "data[\"num_vars\"] = 15\n",
    "data[\"num_constraints\"] = 20\n",
    "\n",
    "solver = pywraplp.Solver.CreateSolver(\"GLOP\")\n",
    "infinity = solver.infinity()\n",
    "x = {}\n",
    "for j in range(data[\"num_vars\"]):\n",
    "    x[j] = solver.IntVar(0, infinity, \"x[%i]\" % j)\n",
    "\n",
    "for i in range(data['num_constraints']):\n",
    "    constraint_expr = \\\n",
    "    [data['constraint_coeffs'][i][j] * x[j] for j in range(data['num_vars'])]\n",
    "    solver.Add(sum(constraint_expr) <= data['bounds'][i])\n",
    "\n",
    "objective = solver.Objective()\n",
    "obj_expr = [data['obj_coeffs'][j] * x[j] for j in range(data['num_vars'])]\n",
    "solver.Maximize(solver.Sum(obj_expr))\n",
    "\n",
    "#compute time for ortools\n",
    "start = timer()\n",
    "status = solver.Solve()\n",
    "end = timer()\n",
    "df.loc[4, 'ortools'] = end - start\n",
    "print(solver.Objective().Value())"
   ]
  },
  {
   "cell_type": "markdown",
   "metadata": {},
   "source": [
    "### Evaluation"
   ]
  },
  {
   "cell_type": "code",
   "execution_count": 42,
   "metadata": {},
   "outputs": [
    {
     "data": {
      "text/html": [
       "<div>\n",
       "<style scoped>\n",
       "    .dataframe tbody tr th:only-of-type {\n",
       "        vertical-align: middle;\n",
       "    }\n",
       "\n",
       "    .dataframe tbody tr th {\n",
       "        vertical-align: top;\n",
       "    }\n",
       "\n",
       "    .dataframe thead th {\n",
       "        text-align: right;\n",
       "    }\n",
       "</style>\n",
       "<table border=\"1\" class=\"dataframe\">\n",
       "  <thead>\n",
       "    <tr style=\"text-align: right;\">\n",
       "      <th></th>\n",
       "      <th>findMax</th>\n",
       "      <th>scipy</th>\n",
       "      <th>CVXPY</th>\n",
       "      <th>puLP</th>\n",
       "      <th>ortools</th>\n",
       "    </tr>\n",
       "  </thead>\n",
       "  <tbody>\n",
       "    <tr>\n",
       "      <th>0</th>\n",
       "      <td>0.043979</td>\n",
       "      <td>0.005997</td>\n",
       "      <td>0.012691</td>\n",
       "      <td>0.050850</td>\n",
       "      <td>0.001479</td>\n",
       "    </tr>\n",
       "    <tr>\n",
       "      <th>1</th>\n",
       "      <td>38.094567</td>\n",
       "      <td>0.006756</td>\n",
       "      <td>0.022669</td>\n",
       "      <td>0.092829</td>\n",
       "      <td>0.000671</td>\n",
       "    </tr>\n",
       "    <tr>\n",
       "      <th>2</th>\n",
       "      <td>180.584801</td>\n",
       "      <td>0.001469</td>\n",
       "      <td>0.013525</td>\n",
       "      <td>0.133072</td>\n",
       "      <td>0.002755</td>\n",
       "    </tr>\n",
       "    <tr>\n",
       "      <th>3</th>\n",
       "      <td>624.502433</td>\n",
       "      <td>0.001313</td>\n",
       "      <td>0.004420</td>\n",
       "      <td>0.036083</td>\n",
       "      <td>0.000240</td>\n",
       "    </tr>\n",
       "    <tr>\n",
       "      <th>4</th>\n",
       "      <td>NaN</td>\n",
       "      <td>0.001742</td>\n",
       "      <td>0.004788</td>\n",
       "      <td>0.035933</td>\n",
       "      <td>0.000548</td>\n",
       "    </tr>\n",
       "  </tbody>\n",
       "</table>\n",
       "</div>"
      ],
      "text/plain": [
       "      findMax     scipy     CVXPY      puLP   ortools\n",
       "0    0.043979  0.005997  0.012691  0.050850  0.001479\n",
       "1   38.094567  0.006756  0.022669  0.092829  0.000671\n",
       "2  180.584801  0.001469  0.013525  0.133072  0.002755\n",
       "3  624.502433  0.001313  0.004420  0.036083  0.000240\n",
       "4         NaN  0.001742  0.004788  0.035933  0.000548"
      ]
     },
     "execution_count": 42,
     "metadata": {},
     "output_type": "execute_result"
    }
   ],
   "source": [
    "df"
   ]
  },
  {
   "cell_type": "markdown",
   "metadata": {},
   "source": [
    "**Plot running time for each method against the number of vertices**\n",
    "\n",
    "* x- vertices\n",
    "* y- running time"
   ]
  },
  {
   "cell_type": "code",
   "execution_count": 48,
   "metadata": {},
   "outputs": [
    {
     "data": {
      "image/png": "[encoded data removed]",
      "text/plain": [
       "<Figure size 640x480 with 1 Axes>"
      ]
     },
     "metadata": {},
     "output_type": "display_data"
    }
   ],
   "source": [
    "x = [252, 184756, 2704156, 10400600, 3247943160]\n",
    "y0 = [df.loc[0, 'findMax'], df.loc[1, 'findMax'], df.loc[2, 'findMax'], df.loc[3, 'findMax'], df.loc[4, 'findMax']]\n",
    "y1 = [df.loc[0, 'scipy'], df.loc[1, 'scipy'], df.loc[2, 'scipy'], df.loc[3, 'scipy'], df.loc[4, 'scipy']]\n",
    "y2 = [df.loc[0, 'CVXPY'], df.loc[1, 'CVXPY'], df.loc[2, 'CVXPY'], df.loc[3, 'CVXPY'], df.loc[4, 'CVXPY']]\n",
    "y3 = [df.loc[0, 'puLP'], df.loc[1, 'puLP'], df.loc[2, 'puLP'], df.loc[3, 'puLP'], df.loc[4, 'puLP']]\n",
    "y4 = [df.loc[0, 'ortools'], df.loc[1, 'ortools'], df.loc[2, 'ortools'], df.loc[3, 'ortools'], df.loc[4, 'ortools']]\n",
    "\n",
    "plt.plot(x, y0, label = \"findMax\")\n",
    "plt.plot(x, y1, label = \"scipy\")\n",
    "plt.plot(x, y2, label = \"CVXPY\")\n",
    "plt.plot(x, y3, label = \"puLP\")\n",
    "plt.plot(x, y4, label = \"ortools\")\n",
    "plt.legend()\n",
    "plt.show()"
   ]
  },
  {
   "cell_type": "markdown",
   "metadata": {},
   "source": [
    "As we expect, the brute force method of computing each vertices and checking for the maximum objective function is the worst. As the number of vertices become larger, it seems to grow exponentially. "
   ]
  },
  {
   "cell_type": "code",
   "execution_count": 50,
   "metadata": {},
   "outputs": [
    {
     "data": {
      "image/png": "[encoded data removed]",
      "text/plain": [
       "<Figure size 640x480 with 1 Axes>"
      ]
     },
     "metadata": {},
     "output_type": "display_data"
    }
   ],
   "source": [
    "plt.plot(x, y0, label = \"findMax\")\n",
    "plt.plot(x, y1, label = \"scipy\")\n",
    "plt.plot(x, y2, label = \"CVXPY\")\n",
    "plt.plot(x, y3, label = \"puLP\")\n",
    "plt.plot(x, y4, label = \"ortools\")\n",
    "plt.legend()\n",
    "plt.xscale('log')\n",
    "plt.yscale('log')\n",
    "plt.show()"
   ]
  },
  {
   "cell_type": "markdown",
   "metadata": {},
   "source": [
    "The second worse method is using puLP. It is also the only method that does worse than the brute force initially. However, it never computes more than 1 second. After puLP library, the third slowest is CVXPY. The fastest overall seems to be google ortools although it might be slower than scipy linprog once. \n",
    "\n",
    "Instead of checking each vertices, the simplex method does it in a way such that we aim to increase the objective function every time we choose a new vertices. This will save time by skipping other vertices and we don't need to run a for loop for 3,247,943,160 times."
   ]
  },
  {
   "cell_type": "markdown",
   "metadata": {},
   "source": [
    "### What I learned:\n",
    "- formulating the function by trying a simple lp problem\n",
    "- solving linear programming problem by computing each vertices\n",
    "- the requirements to make sure the matrix is computable for finding objective function at each vertices\n",
    "    - checking if the objective function contain negative coefficients (x $\\geq$ 0)\n",
    "    - the matrix is non-singular, so it has a unique solution (can be improved by calculating the determinant = 0)\n",
    "- Applying a real-world problem to solve the lp method through brute force\n",
    "- how to use different python libraries and finding the best python library to solve linear programming problem "
   ]
  },
  {
   "cell_type": "markdown",
   "metadata": {},
   "source": []
  }
 ],
 "metadata": {
  "kernelspec": {
   "display_name": "comet",
   "language": "python",
   "name": "python3"
  },
  "language_info": {
   "codemirror_mode": {
    "name": "ipython",
    "version": 3
   },
   "file_extension": ".py",
   "mimetype": "text/x-python",
   "name": "python",
   "nbconvert_exporter": "python",
   "pygments_lexer": "ipython3",
   "version": "3.11.5"
  }
 },
 "nbformat": 4,
 "nbformat_minor": 2
}
