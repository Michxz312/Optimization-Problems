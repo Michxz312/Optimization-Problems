{
 "cells": [
  {
   "cell_type": "markdown",
   "metadata": {},
   "source": [
    "### Linear Programming\n",
    "\n",
    "Linear programming is a method to achieve the best outcome (maximum profit/minimum profit) in a mathematical model. The objective function is to optimize a linear objective function, subject to non-negative, linear equality and inequality constraints.\n",
    "\n",
    "#### key terms\n",
    "\n",
    "1. Decision variables: variables that decision-makers control to optimize the objective function\n",
    "2. Objective function: The mathematical expression representing the quantity to be maximized or minimized\n",
    "3. Constraints: The restrictions/limitations on the decision variables. Constraints can be represented as linear inequalities or equalities\n",
    "4. Feasible region: the set of all possible solutions that satisfy the constraints\n",
    "5. Optimal solution: the solution that maximizes or minimizes the objective function within the feasible region\n",
    "\n",
    "### standard form\n",
    "- For a vector $\\mathbf{x}$\n",
    "- Linear function to be maximized $\\mathbf{c^T}\\mathbf{x}$\n",
    "- problem constraint $\\mathrm{A}\\mathbf{x} \\leq \\mathrm{b}$ and\n",
    "- Non-negative variables $\\mathbf{x} \\geq \\mathbf{0}$\n",
    "\n",
    "$$\n",
    "\\begin{array}{rc}\n",
    "\\text{maximize:} & c_0x_0 + \\cdots + c_{n-1}x_{n-1} \\\\\n",
    "\\text{subject to:} & a_{0,0}x_0 + \\cdots + a_{0,n-1}x_{n-1} \\leq b_0 \\\\\n",
    "& a_{1,0}x_0 + \\cdots + a_{1,n-1}x_{n-1} \\leq b_1 \\\\\n",
    "& \\vdots \\\\\n",
    "& a_{m-1,0}x_0 + \\cdots + a_{m-1,n-1}x_{n-1} \\leq b_{m-1} \\\\\n",
    "& x_0 \\geq 0, \\dots , x_{n-1} \\geq 0\n",
    "\\end{array}\n",
    "$$\n",
    "\n",
    "\n",
    "### Finding the number of vertices\n",
    "- linear inequalities are represented by half-space which satisfies all the points in a boundary or line\n",
    "- The intersection of half-space creates a polytope (feasible region)\n",
    "- Let n bet the total number of decision variables (non-basic variables)\n",
    "- Let m be the number of constraints (non-basic variables)\n",
    "- We can find the total number of vertices in a polytope by choosing n elements from a set of n+m elements (total variables) $\\begin{pmatrix} n+m \\\\ n \\end{pmatrix}$\n",
    "\n",
    "### Finding optimal solution\n",
    "In general, it is possible to find all vertices of the feasible region and evaluate the objective function $\\mathrm{C}^T\\mathbf{x}$ at each vertex to find the optimal solution. However, if there are many vertices, it will be time-consuming to compute the optimal solution at every vertices.\n",
    "\n",
    "The objective function defines a hyperplane that passes through orthogonally to the vertex of the polytope, and therefore can contain non-optimal solution. The optimal solution corresponds to the point where the objective function hyperplane is orthogonal to the half-spaces created by the inequalities.\n"
   ]
  },
  {
   "cell_type": "markdown",
   "metadata": {},
   "source": [
    "tba"
   ]
  },
  {
   "cell_type": "markdown",
   "metadata": {},
   "source": []
  },
  {
   "cell_type": "code",
   "execution_count": null,
   "metadata": {
    "vscode": {
     "languageId": "plaintext"
    }
   },
   "outputs": [],
   "source": [
    "# Define the problem \n"
   ]
  },
  {
   "cell_type": "code",
   "execution_count": null,
   "metadata": {
    "vscode": {
     "languageId": "plaintext"
    }
   },
   "outputs": [],
   "source": []
  }
 ],
 "metadata": {
  "language_info": {
   "name": "python"
  }
 },
 "nbformat": 4,
 "nbformat_minor": 2
}
