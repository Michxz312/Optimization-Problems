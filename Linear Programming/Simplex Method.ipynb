{
 "cells": [
  {
   "cell_type": "markdown",
   "metadata": {},
   "source": [
    "### Simplex Method\n",
    "An efficient way of finding the optimal solution is to use the simplex method, which is an algorithm that adjusts the values of non-basic variables to move from one vertex to an adjacent vertex. It uses pivot operation (recall matrix operations) and exchange a non-basic variable to increase the objective function with a basic variable, changing the current vertex of the polytope.\n",
    "* The method is different than the brute force method of finding all vertices because it focuses on optimizing the objective function\n",
    "\n",
    "Key terms:\n",
    "1. dictionary/tableau: representation of the linear programming problem\n",
    "$$\n",
    "T =\n",
    "\\begin{bmatrix}\n",
    "A & I & \\mathbf{b} \\\\\n",
    "\\mathbf{c}^T & 0 & 0\n",
    "\\end{bmatrix}\n",
    "$$\n",
    "2. slack variables: introduced to convert inequalities into equalitites in the constraints.\n",
    "3. Basic variables: variables whose valueus are determined by the system\n",
    "4. Non-basic variables:variables that are typically set to zero in the current basic feasible solution\n",
    "5. convex polytope: intersection of half-spaces defined by linear constraints\n",
    "\n",
    "#### Slack Variables\n",
    "\n",
    "$$\n",
    "\\begin{array}{rc}\n",
    "\\text{maximize:} & c_0x_0 + \\cdots + c_{n-1}x_{n-1} \\\\\n",
    "\\text{subject to:} & a_{0,0}x_0 + \\cdots + a_{0,n-1}x_{n-1} + w_0 = b_0 \\\\\n",
    "& a_{1,0}x_0 + \\cdots + a_{1,n-1}x_{n-1} + w_1 = b_1 \\\\\n",
    "& \\vdots \\\\\n",
    "& a_{m-1,0}x_0 + \\cdots + a_{m-1,n-1}x_{n-1} + w_{m-1} = b_{m-1} \\\\\n",
    "& x_0 \\geq 0, \\dots , x_{n-1} \\geq 0, w_0 \\geq 0, \\dots , w_{m-1} \\geq 0\n",
    "\\end{array}\n",
    "$$\n",
    "\n",
    "$$\n",
    "[ \\ A \\ I \\ ] \\begin{bmatrix} \\mathbf{x} \\\\ \\mathbf{w} \\end{bmatrix} = \\mathbf{b}\n",
    "$$\n",
    "\n",
    "* The equation $x_j$ = 0 defines a hyperplane in\n",
    "\n",
    "\n",
    "The following is a matrix used in simplex method for solving linear programming problems.\n",
    "$$\n",
    "T =\n",
    "\\begin{bmatrix}\n",
    "A & I & \\mathbf{b} \\\\\n",
    "\\mathbf{c}^T & 0 & 0\n",
    "\\end{bmatrix}\n",
    "$$\n",
    "\n",
    "* $\\mathbf{A}$ : represents the coefficient matrix of the constraints\n",
    "* $\\mathbf{I}$ : used to identify basic variables\n",
    "* $\\mathrm{b}$ : right-hand side value of the constraints\n",
    "* $\\mathbf{A}$ and $\\mathbf{I}$ form the matrix of the coefficients for the basic and non-basic variables\n",
    "* ($\\mathrm{c}^T$, 0, 0) : serves to track the current objective function value\n",
    "\n",
    "\n",
    "\n",
    "Questions to answer: \n",
    "- What are basic feasible solutions?\n",
    "- How do we find an initial feasible dictionary?\n",
    "- When do we know if a problem is unbounded?\n",
    "- How do basic feasible solutions correspond to vertices on the convex polytope of feasible solutions?"
   ]
  },
  {
   "cell_type": "markdown",
   "metadata": {},
   "source": [
    "### Pivot Operation in Simplex Method\n",
    "\n",
    "- How do we choose entering and leaving variables? \n",
    "- When does the algorithm stop? \n",
    "- How/why does the optimal value of the objective function appear in the tableau/dictionary? \n",
    "- Explain how the pivot operation works and how to interpret the tableau/dictionary matrix."
   ]
  },
  {
   "cell_type": "markdown",
   "metadata": {},
   "source": []
  }
 ],
 "metadata": {
  "language_info": {
   "name": "python"
  }
 },
 "nbformat": 4,
 "nbformat_minor": 2
}
