{
 "cells": [
  {
   "cell_type": "code",
   "execution_count": 2,
   "metadata": {},
   "outputs": [],
   "source": [
    "import numpy as np"
   ]
  },
  {
   "cell_type": "markdown",
   "metadata": {},
   "source": [
    "### Simplex Method\n",
    "An efficient way of finding the optimal solution is to use the simplex method, which is an algorithm that adjusts the values of non-basic variables to move from one vertex to an adjacent vertex. It uses pivot operation (recall matrix operations) and exchange a non-basic variable to increase the objective function with a basic variable, changing the current vertex of the polytope.\n",
    "* The method is different than the brute force method of finding all vertices because it focuses on optimizing the objective function\n",
    "\n",
    "Key terms:\n",
    "1. dictionary/tableau: representation of the linear programming problem\n",
    "$$\n",
    "T =\n",
    "\\begin{bmatrix}\n",
    "A & I & \\mathbf{b} \\\\\n",
    "\\mathbf{c}^T & 0 & 0\n",
    "\\end{bmatrix}\n",
    "$$\n",
    "2. slack variables: introduced to convert inequalities into equalitites in the constraints.\n",
    "3. Basic variables: variables whose values are determined by the system\n",
    "4. Non-basic variables: variables that are typically set to zero in the current basic feasible solution\n",
    "5. convex polytope: intersection of half-spaces defined by linear constraints\n",
    "\n",
    "#### Slack Variables\n",
    "\n",
    "$$\n",
    "\\begin{array}{rc}\n",
    "\\text{maximize:} & c_0x_0 + \\cdots + c_{n-1}x_{n-1} \\\\\n",
    "\\text{subject to:} & a_{0,0}x_0 + \\cdots + a_{0,n-1}x_{n-1} + w_0 = b_0 \\\\\n",
    "& a_{1,0}x_0 + \\cdots + a_{1,n-1}x_{n-1} + w_1 = b_1 \\\\\n",
    "& \\vdots \\\\\n",
    "& a_{m-1,0}x_0 + \\cdots + a_{m-1,n-1}x_{n-1} + w_{m-1} = b_{m-1} \\\\\n",
    "& x_0 \\geq 0, \\dots , x_{n-1} \\geq 0, w_0 \\geq 0, \\dots , w_{m-1} \\geq 0\n",
    "\\end{array}\n",
    "$$\n",
    "\n",
    "$$\n",
    "[ \\ A \\ I \\ ] \\begin{bmatrix} \\mathbf{x} \\\\ \\mathbf{w} \\end{bmatrix} = \\mathbf{b}\n",
    "$$\n",
    "\n",
    "\n",
    "The following is a matrix used in simplex method for solving linear programming problems.\n",
    "$$\n",
    "T =\n",
    "\\begin{bmatrix}\n",
    "A & I & \\mathbf{b} \\\\\n",
    "\\mathbf{c}^T & 0 & 0\n",
    "\\end{bmatrix}\n",
    "$$\n",
    "\n",
    "* $\\mathbf{A}$ : represents the coefficient matrix of the constraints\n",
    "* $\\mathbf{I}$ : used to identify basic variables\n",
    "* $\\mathrm{b}$ : right-hand side value of the constraints\n",
    "* $\\mathbf{A}$ and $\\mathbf{I}$ form the matrix of the coefficients for the basic and non-basic variables\n",
    "* ($\\mathrm{c}^T$, 0, 0) : serves to track the current objective function value"
   ]
  },
  {
   "cell_type": "markdown",
   "metadata": {},
   "source": [
    "### Pivot Operation in Simplex Method"
   ]
  },
  {
   "cell_type": "markdown",
   "metadata": {},
   "source": [
    "Vanderbei exercise 2.3\n",
    "\n",
    "maximize $2x_1 - 6x_2\\\\$\n",
    "subject to $-x_1 - x_2 -x_3 \\leq -2\\\\$\n",
    "$\\qquad \\qquad 2x_1 - x_2 + x_3\\leq 1\\\\$\n",
    "$\\qquad \\qquad x_1, x_2, x_3\\geq 0$"
   ]
  },
  {
   "cell_type": "markdown",
   "metadata": {},
   "source": [
    "The auxiliary problem is \n",
    "\n",
    "maximize $-x_0\\\\$\n",
    "subject to $-x_1 - x_2 -x_3 - x_0 \\leq -2\\\\$\n",
    "$\\qquad \\qquad 2x_1 - x_2 + x_3 -x_0\\leq 1\\\\$\n",
    "$\\qquad \\qquad x_0, x_1, x_2, x_3\\geq 0$"
   ]
  },
  {
   "cell_type": "markdown",
   "metadata": {},
   "source": [
    "From the initial dictionary, we have:\n",
    "\n",
    "$\\zeta = -x_0\\\\$\n",
    "$w_1 = -2 + x_1 + x_2 + x_3 + x_0\\\\$\n",
    "$w_2 = 1 - 2x_1 + x_2 - x_3 + x_0\\\\$\n",
    "\n",
    "We only have $x_0$ to be the entering variable and the most infeasible variable is $w_1$ leaving the basis variable:\n",
    "\n",
    "$\\zeta = - 2 - w_1 + x_1 + x_2 + x_3\\\\$\n",
    "$x_0 = 2 + w_1 -x_1 - x_2 - x_3\\\\$\n",
    "$w_2 = 1 - 2x_1 + x_2 - x_3 \\\\$\n",
    "\n",
    "Rearranging the dictionary, we rewrite in standard form, letting $w_1$ and $w_2$ be $w_1$ and $w_2$ respectively:\n",
    "\n",
    "$\\zeta = - 2 + x_1 + x_2 + x_3 - x_4\\\\$\n",
    "$x_0 + x_1 + x_2 + x_3 - x_4 \\quad = 2\\\\$\n",
    "$2x_1 - x_2 + x_3 \\quad + x_5 = 1\\\\$\n"
   ]
  },
  {
   "cell_type": "markdown",
   "metadata": {},
   "source": [
    "We consider $x_0$ as decision variable instead of slack variable.\n",
    "\n",
    "$\\mathbf{A} =\n",
    "\\begin{bmatrix}\n",
    "1 & 1 & 1 & 1 \\\\\n",
    "0 & 2 & -1 & 1 \\\\\n",
    "\\end{bmatrix}$\n",
    "$\\mathbf{I} =\n",
    "\\begin{bmatrix}\n",
    "-1 & 0\\\\\n",
    "0 & 1\n",
    "\\end{bmatrix}$\n",
    "$\\mathbf{b} =\n",
    "\\begin{bmatrix}\n",
    "2\\\\\n",
    "1\n",
    "\\end{bmatrix}$\n",
    "\n",
    "$\\mathbf{c}^T = \\begin{bmatrix}\n",
    "0 & 1 & 1 & 1 & -1 & 0 & -2\n",
    "\\end{bmatrix}$\n",
    "\n",
    "$$\n",
    "T =\n",
    "\\begin{bmatrix}\n",
    "1 & 1 & 1 & 1 & -1 & 0 & 2\\\\\n",
    "0 & 2 & -1 & 1 & 0 & 1 & 1\\\\\n",
    "0 & 1 & 1 & 1 & -1 & 0 & -2\n",
    "\\end{bmatrix}\n",
    "$$"
   ]
  },
  {
   "cell_type": "markdown",
   "metadata": {},
   "source": [
    "### Pivot Operation"
   ]
  },
  {
   "cell_type": "markdown",
   "metadata": {},
   "source": [
    "The basic feasible solution is the solution obtained by setting the non-basic variables to zero. From the initial dictionary, the basic feasible solution is -2 because we set $x_1$, $x_2$, $x_3$ and $x_4$, the non-basic variables, to 0. Since we want to maximize the objective function, we need to choose the entering variable, from non-basic variable to the basic. Among the non-basic variable, $x_1$, $x_2$, and $x_3$ find the highest coefficient, otherwise find the smallest subscript. So, $x_1$ is the entering variable.\n",
    "\n",
    "By increasing $x_1$ by one unit, we have the following by setting $x_2$, $x_3$ and $x_4$ to 0:\n",
    "$$x_0 = 2 - x_1 \\geq 0 \\qquad x_5 = 1 - 2x_1 \\geq 0$$\n",
    "and thus,\n",
    "$$x_1 \\leq 2 \\qquad x_1 \\leq 1/2$$\n",
    "\n",
    "Since all the constraints need to be satisfied, $x_1$ cannot be larger than $\\frac{1}{2}$. Thus, the formula for choosing the leaving variable is picking i from:\n",
    "$$x_k = \\text{min}_{i \\in B: a_{ik} > 0} b_i/a_{ik}$$\n",
    "\n",
    "Thus, the leaving variable is $x_5$. "
   ]
  },
  {
   "cell_type": "markdown",
   "metadata": {},
   "source": []
  },
  {
   "cell_type": "code",
   "execution_count": 3,
   "metadata": {},
   "outputs": [
    {
     "name": "stdout",
     "output_type": "stream",
     "text": [
      "[[ 1  1  1  1 -1  0  2]\n",
      " [ 0  2 -1  1  0  1  1]\n",
      " [ 0  1  1  1 -1  0 -2]]\n"
     ]
    }
   ],
   "source": [
    "A = np.array([[1, 1, 1, 1], [0, 2, -1, 1]])\n",
    "m,n = A.shape\n",
    "I = np.array([[-1, 0], [0, 1]])\n",
    "b = np.array([2, 1])\n",
    "c = np.array([0, 1, 1, 1, -1, 0, -2])\n",
    "T = np.vstack([np.hstack([A, I, b.reshape((m, 1))]), c])\n",
    "print(T)"
   ]
  },
  {
   "cell_type": "code",
   "execution_count": 4,
   "metadata": {},
   "outputs": [],
   "source": [
    "def pivot(T,k,l):\n",
    "    E = np.eye(T.shape[0])\n",
    "    E[:,l] = -T[:,k]/T[l,k]\n",
    "    E[l,l] = 1/T[l,k]\n",
    "    return E@T"
   ]
  },
  {
   "cell_type": "markdown",
   "metadata": {},
   "source": [
    "We see that column $k = 1$ has the largest positive entry and the minimum subscript. \n",
    "\n",
    "$\\frac{T_{0, 6}}{T_{0, 1}}= 2/1$\n",
    "\n",
    "$\\frac{T_{1, 6}}{T_{1, 1}}= 1/2$\n",
    "\n",
    "Since the ratio for $i=1$ is positive and minimal we choose $\\ell=1$."
   ]
  },
  {
   "cell_type": "code",
   "execution_count": 5,
   "metadata": {},
   "outputs": [
    {
     "name": "stdout",
     "output_type": "stream",
     "text": [
      "[[ 1.   0.   1.5  0.5 -1.  -0.5  1.5]\n",
      " [ 0.   1.  -0.5  0.5  0.   0.5  0.5]\n",
      " [ 0.   0.   1.5  0.5 -1.  -0.5 -2.5]]\n"
     ]
    }
   ],
   "source": [
    "T1 = pivot(T, 1, 1)\n",
    "print(T1)"
   ]
  },
  {
   "cell_type": "markdown",
   "metadata": {},
   "source": [
    "We see that column $k = 2$ has the largest positive entry.\n",
    "\n",
    "$\\frac{T_{0, 6}}{T_{0, 2}}= 1.5/1.5$\n",
    "\n",
    "$\\frac{T_{1, 6}}{T_{1, 2}}= 0.5/-0.5$\n",
    "\n",
    "Since the ratio for $i = 0$ is positive, we choose $\\ell=0$."
   ]
  },
  {
   "cell_type": "code",
   "execution_count": 6,
   "metadata": {},
   "outputs": [
    {
     "name": "stdout",
     "output_type": "stream",
     "text": [
      "[[ 0.667  0.     1.     0.333 -0.667 -0.333  1.   ]\n",
      " [ 0.333  1.     0.     0.667 -0.333  0.333  1.   ]\n",
      " [-1.     0.     0.     0.     0.     0.    -4.   ]]\n"
     ]
    }
   ],
   "source": [
    "T2 = pivot(T1, 2, 0)\n",
    "print(np.round(T2, 3))"
   ]
  },
  {
   "cell_type": "markdown",
   "metadata": {},
   "source": [
    "The algorithm will stop when all variable at the objective function has negative coefficient. "
   ]
  },
  {
   "cell_type": "markdown",
   "metadata": {},
   "source": []
  }
 ],
 "metadata": {
  "kernelspec": {
   "display_name": "Python 3",
   "language": "python",
   "name": "python3"
  },
  "language_info": {
   "codemirror_mode": {
    "name": "ipython",
    "version": 3
   },
   "file_extension": ".py",
   "mimetype": "text/x-python",
   "name": "python",
   "nbconvert_exporter": "python",
   "pygments_lexer": "ipython3",
   "version": "3.7.9"
  }
 },
 "nbformat": 4,
 "nbformat_minor": 2
}
