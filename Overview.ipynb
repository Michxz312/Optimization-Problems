{
 "cells": [
  {
   "cell_type": "markdown",
   "metadata": {},
   "source": [
    "# Overview\n",
    "\n",
    "## Topics: \n",
    "- Classification of Optimization Problems\n",
    "- Linear Programming\n",
    "    * Linear Programming\n",
    "    * Simplex method\n",
    "    * L1 Optimization\n",
    "- Combinatorial Optimization\n",
    "    * Course Assignment Problem\n",
    "    * Graph Coloring and Scheduling\n",
    "    * Using Google OR-Tools\n",
    "- Quadratic Programming\n",
    "    * Personal portfolio optimization\n",
    "\n",
    "#### Reflection from Math 340 (Introduction to Linear Programming)\n",
    "Mathematical optimization is a method to solve minimization/maximization problems from a set of feasible solutions by constraints. Previously, I have encountered linear optimization problems with simplex method, duality theory, matrix games. Mathematical modelling is the process of representing real-world problems, involving formulating a problem, assesing the relevant factors and constraints, building a model, and evaluating how the model works. I am interested in agriculture, environment and economic problem:\n",
    "- Using optimization, how can distribution of resources be optimized to maximize crop yields sustainably?\n",
    "- In the city's limited space, where can we plant trees to make the most of the available areas and create a greener, more sustainable environment?\n",
    "- How can we reduce costs and improve efficiency in distributing and allocating goods across the supply chain? \n",
    "\n",
    "From this course, I would like to apply optimization technqieues to real-world problems, and become more proficient in python libraries by getting to know how the optimization method works step-by-step. "
   ]
  }
 ],
 "metadata": {
  "language_info": {
   "name": "python"
  }
 },
 "nbformat": 4,
 "nbformat_minor": 2
}
