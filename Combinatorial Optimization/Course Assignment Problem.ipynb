{
 "cells": [
  {
   "cell_type": "code",
   "execution_count": 2,
   "metadata": {},
   "outputs": [
    {
     "name": "stdout",
     "output_type": "stream",
     "text": [
      "(CVXPY) Apr 05 11:45:11 AM: Encountered unexpected exception importing solver GLOP:\n",
      "RuntimeError('Unrecognized new version of ortools (9.8.3296). Expected < 9.8.0. Please open a feature request on cvxpy to enable support for this version.')\n",
      "(CVXPY) Apr 05 11:45:11 AM: Encountered unexpected exception importing solver PDLP:\n",
      "RuntimeError('Unrecognized new version of ortools (9.8.3296). Expected < 9.8.0. Please open a feature request on cvxpy to enable support for this version.')\n"
     ]
    }
   ],
   "source": [
    "import numpy as np\n",
    "import random\n",
    "import cvxpy as cp\n",
    "import matplotlib.pyplot as plt"
   ]
  },
  {
   "cell_type": "markdown",
   "metadata": {},
   "source": [
    "The following is a summary of a research paper:\n",
    " \n",
    "Beveridge, Andrew, and Stan Wagon. “The Sorting Hat Goes to college.” Mathematics Magazine, vol. 87, no. 4, Oct. 2014, pp. 243–251, https://doi.org/10.4169/math.mag.87.4.243. "
   ]
  },
  {
   "cell_type": "markdown",
   "metadata": {},
   "source": [
    "## Problem \n",
    "\n",
    "Assign first-years students to their desired courses (about 500 students must be placed into about 35 first-year courses). Maximize overall student satisfaction such that each student is assigned into a course that they ranked. \n",
    "\n",
    "## Solution\n",
    "\n",
    "### Hungarian Algorithm (minimum weight perfect matching algorithm)\n",
    "\n",
    "Weighted bipartite graph - n vertices in one part correspond to n vertices in the other part\n",
    "\n",
    "- create a bipartite graph that enforced the constraints on class size and demographics\n",
    "- choose a weighting scheme that ensured trade-offs were consistent with the goals an priorities of the AP office\n",
    "\n",
    "The Hungarian algorithm works well but sometimes the constraints cannot be met, which is why the Integer Linear Programming method works better as it handles a wide variety of constraints.\n",
    "\n",
    "\n",
    "### Integer Programming problem"
   ]
  },
  {
   "cell_type": "markdown",
   "metadata": {},
   "source": [
    "**Parameters:**\n",
    "- students $S_i, 1 \\leq i \\leq n$\n",
    "- courses $C_j, 1 \\leq j \\leq m$\n",
    "- M, F, I are indices corresponding to male, female, and international students\n",
    "- preferences $P_i$\n",
    "- $X_j$ : set of students i having $C_j$ as one of their choices, where $j \\in P_i$\n",
    " \n",
    "\\* worst case $X_j = \\emptyset$\n",
    "\n",
    "**Decision Variables**\n",
    "- $x_{i,j}$ = 1 if for each pair $(S_i, C_j)$ where $j \\in P_i$, $S_i$ is assigned to $C_j$, and 0 otherwise\n",
    "- $\\sum_{j \\in P_i} x_{i,j}$ = 1 for each $i \\leq n$ and $x_{i,j} \\in \\{0,1\\}$\n",
    "\n",
    "**Objective Function**\n",
    "$$\\text{min } \\sum_{i=1}^n x_{i,j_{i,1}} + \\alpha x_{i,j_{i,2}} + \\alpha^2 x_{i,j_{i,3}}  + \\alpha^3 x_{i,j_{i,4}}$$ \n",
    "where $j_{i,1}, ..., j_{i,4}$ are student $S_i$'s four preferences and $\\alpha > 1$ \n",
    "\n",
    "* $\\alpha$ is a value chosen according to the trade-offs for swapping students between classes\n",
    "The weight of placing a student in a course increases as it is further from the first choice.\n",
    "\n",
    "**Constraints**\n",
    "1. Each class size should be from 10 to 16 students\n",
    "2. The demographics of each class should be roughly comparable to the entire student body (60% female and 11% international student)\n",
    "* sometimes the problem gives infeasible solutions, so the students are placed into an unranked course\n",
    "\n",
    "**Course size constraint**\n",
    "\n",
    "The sum of the number of students enrolled in each course $C_j$ ranges from L to U:\n",
    "- $L \\leq \\sum_{i \\in X_j} x_{i,j} \\leq U$ for each $j \\leq m$\n",
    "\n",
    "Typically, we have $(L, U) = (12, 16)$ so the course can have 12 to 16 students. However, it is common to have a course that allows more than 16 or less than 12. We introduce $q_{j,s}$ where s is the size of $C_j$ and $9 \\leq s \\leq 17$. Suppose we have $Q_{17}, Q_{11}, Q_{10}, Q_9$ that represents the maximum number of courses allowed with 17, 11, 10, and 9 respectively. Then, the ideal size of each $C_j$ for $Q_{17}, Q_{11}, Q_{10}, Q_9$ are:\n",
    "* $\\sum_j q_{j,17} \\leq Q_{17}$ \n",
    "* $\\sum_j q_{j,11} \\leq Q_{11}$ \n",
    "* $\\sum_j q_{j,10} \\leq Q_{10}$ \n",
    "* $\\sum_j q_{j,9} \\leq Q_{9}$ \n",
    "\n",
    "However, we need to make sure that each course only takes a unique maximum number of students ranging from 9 to 17:\n",
    "$$\\sum_{s=9}^{17} q_{j,s} = 1 \\quad \\forall j$$\n",
    "\n",
    "Therefore, we have the total number of students enrolled in $C_j$ be equal to the maximum number of students a course can have by multiplying s with $\\sum_{s=9}^{17} q_{j,s}$\n",
    "$$\\sum_{i \\in X_j} x_{i,j} = \\sum_{s=9}^{17} sq_{j,s} \\quad \\forall j$$ \n",
    "\n",
    "\n",
    "**Gender constraint**\n",
    "\n",
    "There are at least 4 male and 4 female in each course\n",
    "\n",
    "* $\\sum_{i \\in M \\cap X_j} x_{i,j} \\geq 4$\n",
    "* $\\sum_{i \\in F \\cap X_j} x_{i,j} \\geq 4$\n",
    "\n",
    "The same idea from the course size constraint can be used for the gender constraint to help loosened the constraint of having at least 4 male and female.\n",
    "\n",
    "The paper introduced a new variable $y_{m,j} = 1$ when $C_j$ has a value of m males, and 0 otherwise. So, we can make sure that $C_j$ has a maximum of m number of males:\n",
    "$$\\sum_{m=0}^{17} y_{m,j} = 1 \\quad \\forall j$$\n",
    "and thus, the total number of male students enrolled in $C_j$ can be equal to the maximum number of male students a course can have by multiplying m with $\\sum_{m=0}^{17} y_{m,j}$:\n",
    "$$\\sum_{i \\in M \\cap X_j} x_{i,j} = \\sum_{m=0}^{17} my_{m,j} \\quad \\forall j$$\n",
    "\n",
    "Similarly, we will have the same formula for the number of females in a course:\n",
    "$$\\sum_{i \\in F \\cap X_j} x_{i,j} = \\sum_{f=0}^{17} fy_{f,j} \\quad \\forall j$$\n",
    "\n",
    "**International constraint**\n",
    "\n",
    "Each course contains at most B international students\n",
    "\n",
    "$\\sum_{i \\in I \\cap X_j} x_{i,j} \\leq B \\quad \\forall j$\n",
    "\n",
    "\n",
    "\n"
   ]
  },
  {
   "cell_type": "markdown",
   "metadata": {},
   "source": [
    "## Building Solution"
   ]
  },
  {
   "cell_type": "markdown",
   "metadata": {},
   "source": [
    "**Writing the objective function**\n",
    "\n",
    "Trying to assign each students with their first choice of preference:"
   ]
  },
  {
   "cell_type": "code",
   "execution_count": 244,
   "metadata": {},
   "outputs": [
    {
     "name": "stdout",
     "output_type": "stream",
     "text": [
      "===============================================================================\n",
      "                                     CVXPY                                     \n",
      "                                     v1.4.2                                    \n",
      "===============================================================================\n",
      "(CVXPY) Apr 07 01:18:22 AM: Your problem has 20 variables, 3 constraints, and 0 parameters.\n",
      "(CVXPY) Apr 07 01:18:22 AM: It is compliant with the following grammars: DCP, DQCP\n",
      "(CVXPY) Apr 07 01:18:22 AM: (If you need to solve this problem multiple times, but with different data, consider using parameters.)\n",
      "(CVXPY) Apr 07 01:18:22 AM: CVXPY will first compile your problem; then, it will invoke a numerical solver to obtain a solution.\n",
      "(CVXPY) Apr 07 01:18:22 AM: Your problem is compiled with the CPP canonicalization backend.\n",
      "-------------------------------------------------------------------------------\n",
      "                                  Compilation                                  \n",
      "-------------------------------------------------------------------------------\n",
      "(CVXPY) Apr 07 01:18:22 AM: Compiling problem (target solver=SCIPY).\n",
      "(CVXPY) Apr 07 01:18:22 AM: Reduction chain: Dcp2Cone -> CvxAttr2Constr -> ConeMatrixStuffing -> SCIPY\n",
      "(CVXPY) Apr 07 01:18:22 AM: Applying reduction Dcp2Cone\n",
      "(CVXPY) Apr 07 01:18:22 AM: Applying reduction CvxAttr2Constr\n",
      "(CVXPY) Apr 07 01:18:22 AM: Applying reduction ConeMatrixStuffing\n",
      "(CVXPY) Apr 07 01:18:22 AM: Applying reduction SCIPY\n",
      "(CVXPY) Apr 07 01:18:22 AM: Finished problem compilation (took 4.526e-02 seconds).\n",
      "-------------------------------------------------------------------------------\n",
      "                                Numerical solver                               \n",
      "-------------------------------------------------------------------------------\n",
      "(CVXPY) Apr 07 01:18:22 AM: Invoking solver SCIPY  to obtain a solution.\n",
      "Solver terminated with message: Optimization terminated successfully. (HiGHS Status 7: Optimal)\n",
      "-------------------------------------------------------------------------------\n",
      "                                    Summary                                    \n",
      "-------------------------------------------------------------------------------\n",
      "(CVXPY) Apr 07 01:18:22 AM: Problem status: optimal\n",
      "(CVXPY) Apr 07 01:18:22 AM: Optimal value: 5.000e+00\n",
      "(CVXPY) Apr 07 01:18:22 AM: Compilation took 4.526e-02 seconds\n",
      "(CVXPY) Apr 07 01:18:22 AM: Solver (including time spent in interface) took 6.505e-03 seconds\n"
     ]
    },
    {
     "data": {
      "text/plain": [
       "array([[ 0.,  1., -0., -0.],\n",
       "       [ 1., -0., -0., -0.],\n",
       "       [-0., -0.,  1., -0.],\n",
       "       [ 1., -0., -0., -0.],\n",
       "       [-0., -0., -0.,  1.]])"
      ]
     },
     "execution_count": 244,
     "metadata": {},
     "output_type": "execute_result"
    }
   ],
   "source": [
    "### try obvious dataset where the student will be assigned to their first choice\n",
    "# [0,1,1,0,1,2,3] means student id 0, female, international student with preference of course 0,1,2,3 from first to last choice\n",
    "s = np.array([[0, 1, 1, 1, 0, 2, 3],\n",
    "               [1, 1, 0, 0, 1, 2, 3],\n",
    "               [2, 0, 1, 2, 1, 0, 3],\n",
    "                [3, 1, 1, 0, 1, 2, 3],\n",
    "                [4, 1, 0, 3, 2, 1, 0]])\n",
    "\n",
    "P = s[:,-4:] # preference P of student i\n",
    "\n",
    "# [0,5] means course id 0 with maximum 5 students in the class\n",
    "c = np.array([[0,5],[1,4],[2,3],[3,2]])\n",
    "\n",
    "a = 2\n",
    "n = len(s)\n",
    "m = len(c)\n",
    "x = cp.Variable((n, m), integer = True) # set a variable that can only have integer values\n",
    "\n",
    "# temporary constraints to check objectives\n",
    "constraints = [   \n",
    "    cp.sum(x, axis=1) == 1,  # Each student must be assigned to exactly one course\n",
    "    cp.sum(x, axis=0) <= c[:, 1],  # Each course can have at most its maximum number of students\n",
    "    x >= 0\n",
    "]\n",
    "\n",
    "# objective function\n",
    "# P[i,1] is getting the first column which is getting the first-ranked choice of each student\n",
    "objective = cp.Minimize(cp.sum([cp.sum(x[i, P[i,0]] \n",
    "                               + cp.multiply(a,x[i, P[i,1]]) \n",
    "                               + cp.multiply(a**2,x[i, P[i,2]]) \n",
    "                               + cp.multiply(a**3,x[i, P[i,3]]))\n",
    "                               for i in range(n)]))\n",
    "\n",
    "prob = cp.Problem(objective, constraints)\n",
    "prob.solve(verbose=True)\n",
    "x.value"
   ]
  },
  {
   "cell_type": "markdown",
   "metadata": {},
   "source": [
    "The solution indicates that student 1 is assigned to class index 1, student 2 is assigned to class index 0, student 3 is assigned to class index 2, and student 4 is assigned to class index 0. The first ranked preference of the student 1, 2, 3, and 4 are class index 1, 0, 2, 0. So, the solution provided by the CVXPY is correct. "
   ]
  },
  {
   "cell_type": "markdown",
   "metadata": {},
   "source": [
    "**Adding course constraint and editing the dataset**"
   ]
  },
  {
   "cell_type": "markdown",
   "metadata": {},
   "source": [
    "Since we are using smaller scale data, we can adjust the size of the course constraint to:\n",
    "$$\\sum_{s=1}^{4} q_{j,s} = 1 \\quad \\forall j$$\n",
    "$$\\sum_j q_{j,3} \\leq Q_{3}$$"
   ]
  },
  {
   "cell_type": "markdown",
   "metadata": {},
   "source": [
    "In the following dataset, there are more students than the course seats, so some courses should be allowed to increase class size. There are four courses, we let the first 8 students to be placed in their first choice. The other two students need more space in the class, so we let $Q_3 = 2$, where two of the course can increase the maximum number of students to 3."
   ]
  },
  {
   "cell_type": "code",
   "execution_count": 251,
   "metadata": {},
   "outputs": [],
   "source": [
    "s = np.array([[0, 1, 1, 0, 1, 2, 3],\n",
    "               [1, 1, 0, 0, 1, 2, 3],\n",
    "               [2, 0, 1, 1, 2, 0, 3],\n",
    "                [3, 1, 1, 1, 2, 0, 3],\n",
    "                [4, 1, 0, 2, 3, 1, 0],\n",
    "                [5, 1, 0, 2, 3, 1, 0],\n",
    "                [6, 1, 0, 3, 2, 1, 0],\n",
    "                [7, 1, 0, 3, 2, 1, 0],\n",
    "                [8, 1, 0, 3, 2, 1, 0],\n",
    "                [9, 1, 0, 3, 2, 1, 0]])\n",
    "P = s[:,-4:] # preference P of student i\n",
    "c = np.array([[0,2],[1,2],[2,2],[3,2]])\n",
    "n = len(s)\n",
    "m = len(c)\n",
    "x = cp.Variable((n, m), integer = True) # set a variable that can only have integer values"
   ]
  },
  {
   "cell_type": "code",
   "execution_count": 252,
   "metadata": {},
   "outputs": [],
   "source": [
    "# create new variable q that indicates the size of c_j\n",
    "q = cp.Variable((m, 4), integer = True)\n",
    "\n",
    "# create set X_j, list of students for course j based on preference\n",
    "Xj = []\n",
    "# for each course\n",
    "for j in range(m): \n",
    "    check_student = []\n",
    "    # check if the student has a preferece of that course \n",
    "    for i in range(9):\n",
    "        if j in P[i]:\n",
    "            Xj.append(check_student)"
   ]
  },
  {
   "cell_type": "markdown",
   "metadata": {},
   "source": [
    "$$\\sum_{i \\in X_j} x_{i,j} = \\sum_{s=1}^{4} sq_{j,s} \\quad \\forall j$$ "
   ]
  },
  {
   "cell_type": "code",
   "execution_count": 261,
   "metadata": {},
   "outputs": [],
   "source": [
    "course_constraint = []\n",
    "\n",
    "q_constraint = [cp.sum(q[j, :]) == 1 for j in range(m)]\n",
    "# for each j, allow max size to be 4 for only two classes\n",
    "Q_constraint = [cp.sum(q[:, 3]) <= 1] \n",
    "\n",
    "course_constraint += q_constraint + Q_constraint\n",
    "course_constraint += [cp.sum([x[i, j] for i in Xj[j]]) == cp.sum([cp.multiply(s,q [j, s]) for s in range(4)]) for j in range(m)]"
   ]
  },
  {
   "cell_type": "code",
   "execution_count": 262,
   "metadata": {},
   "outputs": [
    {
     "name": "stdout",
     "output_type": "stream",
     "text": [
      "===============================================================================\n",
      "                                     CVXPY                                     \n",
      "                                     v1.4.2                                    \n",
      "===============================================================================\n",
      "(CVXPY) Apr 07 01:25:47 AM: Your problem has 56 variables, 9 constraints, and 0 parameters.\n",
      "(CVXPY) Apr 07 01:25:47 AM: It is compliant with the following grammars: DCP, DQCP\n",
      "(CVXPY) Apr 07 01:25:47 AM: (If you need to solve this problem multiple times, but with different data, consider using parameters.)\n",
      "(CVXPY) Apr 07 01:25:47 AM: CVXPY will first compile your problem; then, it will invoke a numerical solver to obtain a solution.\n",
      "(CVXPY) Apr 07 01:25:47 AM: Your problem is compiled with the CPP canonicalization backend.\n",
      "-------------------------------------------------------------------------------\n",
      "                                  Compilation                                  \n",
      "-------------------------------------------------------------------------------\n",
      "(CVXPY) Apr 07 01:25:48 AM: Compiling problem (target solver=SCIPY).\n",
      "(CVXPY) Apr 07 01:25:48 AM: Reduction chain: Dcp2Cone -> CvxAttr2Constr -> ConeMatrixStuffing -> SCIPY\n",
      "(CVXPY) Apr 07 01:25:48 AM: Applying reduction Dcp2Cone\n",
      "(CVXPY) Apr 07 01:25:48 AM: Applying reduction CvxAttr2Constr\n",
      "(CVXPY) Apr 07 01:25:48 AM: Applying reduction ConeMatrixStuffing\n",
      "(CVXPY) Apr 07 01:25:48 AM: Applying reduction SCIPY\n",
      "(CVXPY) Apr 07 01:25:48 AM: Finished problem compilation (took 1.225e-01 seconds).\n",
      "-------------------------------------------------------------------------------\n",
      "                                Numerical solver                               \n",
      "-------------------------------------------------------------------------------\n",
      "(CVXPY) Apr 07 01:25:48 AM: Invoking solver SCIPY  to obtain a solution.\n"
     ]
    },
    {
     "name": "stdout",
     "output_type": "stream",
     "text": [
      "Solver terminated with message: The problem is unbounded or infeasible. (HiGHS Status 9: model_status is Primal infeasible or unbounded; primal_status is At lower/fixed bound)\n"
     ]
    },
    {
     "ename": "SolverError",
     "evalue": "Solver 'SCIPY' failed. Try another solver, or solve with verbose=True for more information.",
     "output_type": "error",
     "traceback": [
      "\u001b[1;31m---------------------------------------------------------------------------\u001b[0m",
      "\u001b[1;31mSolverError\u001b[0m                               Traceback (most recent call last)",
      "Cell \u001b[1;32mIn[262], line 7\u001b[0m\n\u001b[0;32m      1\u001b[0m objective \u001b[38;5;241m=\u001b[39m cp\u001b[38;5;241m.\u001b[39mMinimize(cp\u001b[38;5;241m.\u001b[39msum([cp\u001b[38;5;241m.\u001b[39msum(x[i, P[i,\u001b[38;5;241m0\u001b[39m]] \n\u001b[0;32m      2\u001b[0m                                \u001b[38;5;241m+\u001b[39m cp\u001b[38;5;241m.\u001b[39mmultiply(a,x[i, P[i,\u001b[38;5;241m1\u001b[39m]]) \n\u001b[0;32m      3\u001b[0m                                \u001b[38;5;241m+\u001b[39m cp\u001b[38;5;241m.\u001b[39mmultiply(a\u001b[38;5;241m*\u001b[39m\u001b[38;5;241m*\u001b[39m\u001b[38;5;241m2\u001b[39m,x[i, P[i,\u001b[38;5;241m2\u001b[39m]]) \n\u001b[0;32m      4\u001b[0m                                \u001b[38;5;241m+\u001b[39m cp\u001b[38;5;241m.\u001b[39mmultiply(a\u001b[38;5;241m*\u001b[39m\u001b[38;5;241m*\u001b[39m\u001b[38;5;241m3\u001b[39m,x[i, P[i,\u001b[38;5;241m3\u001b[39m]]))\n\u001b[0;32m      5\u001b[0m                                \u001b[38;5;28;01mfor\u001b[39;00m i \u001b[38;5;129;01min\u001b[39;00m \u001b[38;5;28mrange\u001b[39m(n)]))\n\u001b[0;32m      6\u001b[0m prob \u001b[38;5;241m=\u001b[39m cp\u001b[38;5;241m.\u001b[39mProblem(objective, course_constraint)\n\u001b[1;32m----> 7\u001b[0m prob\u001b[38;5;241m.\u001b[39msolve(verbose\u001b[38;5;241m=\u001b[39m\u001b[38;5;28;01mTrue\u001b[39;00m)\n\u001b[0;32m      8\u001b[0m x\u001b[38;5;241m.\u001b[39mvalue\n",
      "File \u001b[1;32mc:\\Users\\Owner\\miniconda3\\envs\\comet\\Lib\\site-packages\\cvxpy\\problems\\problem.py:503\u001b[0m, in \u001b[0;36mProblem.solve\u001b[1;34m(self, *args, **kwargs)\u001b[0m\n\u001b[0;32m    501\u001b[0m \u001b[38;5;28;01melse\u001b[39;00m:\n\u001b[0;32m    502\u001b[0m     solve_func \u001b[38;5;241m=\u001b[39m Problem\u001b[38;5;241m.\u001b[39m_solve\n\u001b[1;32m--> 503\u001b[0m \u001b[38;5;28;01mreturn\u001b[39;00m solve_func(\u001b[38;5;28mself\u001b[39m, \u001b[38;5;241m*\u001b[39margs, \u001b[38;5;241m*\u001b[39m\u001b[38;5;241m*\u001b[39mkwargs)\n",
      "File \u001b[1;32mc:\\Users\\Owner\\miniconda3\\envs\\comet\\Lib\\site-packages\\cvxpy\\problems\\problem.py:1086\u001b[0m, in \u001b[0;36mProblem._solve\u001b[1;34m(self, solver, warm_start, verbose, gp, qcp, requires_grad, enforce_dpp, ignore_dpp, canon_backend, **kwargs)\u001b[0m\n\u001b[0;32m   1084\u001b[0m end \u001b[38;5;241m=\u001b[39m time\u001b[38;5;241m.\u001b[39mtime()\n\u001b[0;32m   1085\u001b[0m \u001b[38;5;28mself\u001b[39m\u001b[38;5;241m.\u001b[39m_solve_time \u001b[38;5;241m=\u001b[39m end \u001b[38;5;241m-\u001b[39m start\n\u001b[1;32m-> 1086\u001b[0m \u001b[38;5;28mself\u001b[39m\u001b[38;5;241m.\u001b[39munpack_results(solution, solving_chain, inverse_data)\n\u001b[0;32m   1087\u001b[0m \u001b[38;5;28;01mif\u001b[39;00m verbose:\n\u001b[0;32m   1088\u001b[0m     \u001b[38;5;28mprint\u001b[39m(_FOOTER)\n",
      "File \u001b[1;32mc:\\Users\\Owner\\miniconda3\\envs\\comet\\Lib\\site-packages\\cvxpy\\problems\\problem.py:1411\u001b[0m, in \u001b[0;36mProblem.unpack_results\u001b[1;34m(self, solution, chain, inverse_data)\u001b[0m\n\u001b[0;32m   1409\u001b[0m     warnings\u001b[38;5;241m.\u001b[39mwarn(INF_OR_UNB_MESSAGE)\n\u001b[0;32m   1410\u001b[0m \u001b[38;5;28;01mif\u001b[39;00m solution\u001b[38;5;241m.\u001b[39mstatus \u001b[38;5;129;01min\u001b[39;00m s\u001b[38;5;241m.\u001b[39mERROR:\n\u001b[1;32m-> 1411\u001b[0m     \u001b[38;5;28;01mraise\u001b[39;00m error\u001b[38;5;241m.\u001b[39mSolverError(\n\u001b[0;32m   1412\u001b[0m             \u001b[38;5;124m\"\u001b[39m\u001b[38;5;124mSolver \u001b[39m\u001b[38;5;124m'\u001b[39m\u001b[38;5;132;01m%s\u001b[39;00m\u001b[38;5;124m'\u001b[39m\u001b[38;5;124m failed. \u001b[39m\u001b[38;5;124m\"\u001b[39m \u001b[38;5;241m%\u001b[39m chain\u001b[38;5;241m.\u001b[39msolver\u001b[38;5;241m.\u001b[39mname() \u001b[38;5;241m+\u001b[39m\n\u001b[0;32m   1413\u001b[0m             \u001b[38;5;124m\"\u001b[39m\u001b[38;5;124mTry another solver, or solve with verbose=True for more \u001b[39m\u001b[38;5;124m\"\u001b[39m\n\u001b[0;32m   1414\u001b[0m             \u001b[38;5;124m\"\u001b[39m\u001b[38;5;124minformation.\u001b[39m\u001b[38;5;124m\"\u001b[39m)\n\u001b[0;32m   1416\u001b[0m \u001b[38;5;28mself\u001b[39m\u001b[38;5;241m.\u001b[39munpack(solution)\n\u001b[0;32m   1417\u001b[0m \u001b[38;5;28mself\u001b[39m\u001b[38;5;241m.\u001b[39m_solver_stats \u001b[38;5;241m=\u001b[39m SolverStats\u001b[38;5;241m.\u001b[39mfrom_dict(\u001b[38;5;28mself\u001b[39m\u001b[38;5;241m.\u001b[39m_solution\u001b[38;5;241m.\u001b[39mattr,\n\u001b[0;32m   1418\u001b[0m                                  chain\u001b[38;5;241m.\u001b[39msolver\u001b[38;5;241m.\u001b[39mname())\n",
      "\u001b[1;31mSolverError\u001b[0m: Solver 'SCIPY' failed. Try another solver, or solve with verbose=True for more information."
     ]
    }
   ],
   "source": [
    "objective = cp.Minimize(cp.sum([cp.sum(x[i, P[i,0]] \n",
    "                               + cp.multiply(a,x[i, P[i,1]]) \n",
    "                               + cp.multiply(a**2,x[i, P[i,2]]) \n",
    "                               + cp.multiply(a**3,x[i, P[i,3]]))\n",
    "                               for i in range(n)]))\n",
    "prob = cp.Problem(objective, course_constraint)\n",
    "prob.solve(verbose=True)\n",
    "x.value"
   ]
  },
  {
   "cell_type": "markdown",
   "metadata": {},
   "source": [
    "### Defining the dataset for 544 students and 35 courses (in progress)\n",
    "\n",
    "we have to create a dummy set for 544 students and 35 courses. The students will need to be classfied into male, female and international students. We need a separate array to define prefere.nces of the students by creating an ordered list of courses. Each courses also need the limitation for the number of students. "
   ]
  },
  {
   "cell_type": "code",
   "execution_count": 179,
   "metadata": {},
   "outputs": [],
   "source": [
    "n = 544 # number of students\n",
    "m = 35 # number of courses"
   ]
  },
  {
   "cell_type": "markdown",
   "metadata": {},
   "source": [
    "**Create courses dataset**"
   ]
  },
  {
   "cell_type": "markdown",
   "metadata": {},
   "source": [
    "The course dataset will have 35 courses each with an id from 0 to 34 and a course limit ranging from 9 to 17. "
   ]
  },
  {
   "cell_type": "code",
   "execution_count": 174,
   "metadata": {},
   "outputs": [
    {
     "name": "stdout",
     "output_type": "stream",
     "text": [
      "35\n",
      "(0, {'max': 17})\n",
      "(1, {'max': 17})\n",
      "(2, {'max': 17})\n",
      "(3, {'max': 16})\n",
      "(4, {'max': 15})\n"
     ]
    }
   ],
   "source": [
    "# create an array to store course number and \n",
    "courses = {}\n",
    "\n",
    "for i in range(m): # iterate to fill m number of courses\n",
    "    course_id = i\n",
    "    # set random limit from 9 to 17 with more max_student = 16\n",
    "    prob = [0.02, 0.02, 0.02, 0.03, 0.03, 0.05, 0.13, 0.42, 0.28]\n",
    "    max_students = np.random.choice(range(9,18), p = prob) \n",
    "    # let i be the course id from 1 to 35\n",
    "    courses[i] = {'max': max_students}\n",
    "\n",
    "print(len(courses))\n",
    "\n",
    "\n",
    "for i in list(courses.items())[:5]:\n",
    "    print(i)"
   ]
  },
  {
   "cell_type": "markdown",
   "metadata": {},
   "source": [
    "The total number of seats should be more or equal to the total number of students."
   ]
  },
  {
   "cell_type": "code",
   "execution_count": 175,
   "metadata": {},
   "outputs": [
    {
     "name": "stdout",
     "output_type": "stream",
     "text": [
      "555\n"
     ]
    }
   ],
   "source": [
    "# check how many empty seats\n",
    "total_seats = 0\n",
    "for course in courses.values():\n",
    "    total_seats += course['max']\n",
    "\n",
    "print(total_seats)"
   ]
  },
  {
   "cell_type": "markdown",
   "metadata": {},
   "source": [
    "**Create student dataset**\n",
    "\n",
    "The student dataset should not be completely random because according to the paper, the Machester college has 60% female students and 11% international students."
   ]
  },
  {
   "cell_type": "markdown",
   "metadata": {},
   "source": [
    "- Let gender be 1 for female and 0 otherwise. \n",
    "- Let international be 1 for international students and 0 otherwise.\n",
    "- Let preferences be an ordered list of courses"
   ]
  },
  {
   "cell_type": "code",
   "execution_count": 180,
   "metadata": {},
   "outputs": [],
   "source": [
    "# create a dictionary to store data\n",
    "course_id = list(courses.keys())\n",
    "students = {}\n",
    "for i in range(n): # iterate to fill n students\n",
    "    rand_gender = random.random()\n",
    "    rand_international = random.random()\n",
    "    \n",
    "    # probability of having female student is 60%\n",
    "    gender = 1 if (rand_gender > 0.6) else 0\n",
    "    # probability of international student is 11%\n",
    "    international = 1 if(rand_international < 0.11) else 0\n",
    "\n",
    "    # create list of preference\n",
    "    preference = random.sample(course_id, 4)\n",
    "    # let i be the student id from 1 to 544\n",
    "    students[i] = {'gender': gender, 'international': international,\n",
    "                   'preference': preference}"
   ]
  },
  {
   "cell_type": "code",
   "execution_count": 181,
   "metadata": {},
   "outputs": [
    {
     "name": "stdout",
     "output_type": "stream",
     "text": [
      "(0, {'gender': 1, 'international': 0, 'preference': [6, 18, 15, 19]})\n",
      "(1, {'gender': 0, 'international': 0, 'preference': [10, 29, 27, 8]})\n",
      "(2, {'gender': 0, 'international': 0, 'preference': [25, 28, 30, 6]})\n",
      "(3, {'gender': 0, 'international': 1, 'preference': [3, 26, 33, 28]})\n",
      "(4, {'gender': 0, 'international': 0, 'preference': [27, 26, 34, 5]})\n"
     ]
    }
   ],
   "source": [
    "for i in list(students.items())[:5]:\n",
    "    print(i)"
   ]
  },
  {
   "cell_type": "code",
   "execution_count": 182,
   "metadata": {},
   "outputs": [],
   "source": [
    "students = np.array([[i, students[i][\"gender\"], students[i][\"international\"]] + students[i][\"preference\"] for i in range(n)])\n",
    "courses = np.array([[course_id, courses[course_id][\"max\"]] for course_id in range(m)])"
   ]
  },
  {
   "cell_type": "markdown",
   "metadata": {},
   "source": [
    "**Set the objective function**"
   ]
  },
  {
   "cell_type": "code",
   "execution_count": 183,
   "metadata": {},
   "outputs": [
    {
     "name": "stdout",
     "output_type": "stream",
     "text": [
      "===============================================================================\n",
      "                                     CVXPY                                     \n",
      "                                     v1.4.2                                    \n",
      "===============================================================================\n",
      "(CVXPY) Apr 06 01:43:38 AM: Your problem has 19040 variables, 3 constraints, and 0 parameters.\n",
      "(CVXPY) Apr 06 01:43:38 AM: It is compliant with the following grammars: DCP, DQCP\n",
      "(CVXPY) Apr 06 01:43:38 AM: (If you need to solve this problem multiple times, but with different data, consider using parameters.)\n",
      "(CVXPY) Apr 06 01:43:38 AM: CVXPY will first compile your problem; then, it will invoke a numerical solver to obtain a solution.\n",
      "(CVXPY) Apr 06 01:43:38 AM: Your problem is compiled with the CPP canonicalization backend.\n",
      "-------------------------------------------------------------------------------\n",
      "                                  Compilation                                  \n",
      "-------------------------------------------------------------------------------\n",
      "(CVXPY) Apr 06 01:43:38 AM: Compiling problem (target solver=SCIPY).\n",
      "(CVXPY) Apr 06 01:43:38 AM: Reduction chain: Dcp2Cone -> CvxAttr2Constr -> ConeMatrixStuffing -> SCIPY\n",
      "(CVXPY) Apr 06 01:43:38 AM: Applying reduction Dcp2Cone\n",
      "(CVXPY) Apr 06 01:43:39 AM: Applying reduction CvxAttr2Constr\n",
      "(CVXPY) Apr 06 01:43:39 AM: Applying reduction ConeMatrixStuffing\n",
      "(CVXPY) Apr 06 01:43:41 AM: Applying reduction SCIPY\n",
      "(CVXPY) Apr 06 01:43:41 AM: Finished problem compilation (took 2.947e+00 seconds).\n",
      "-------------------------------------------------------------------------------\n",
      "                                Numerical solver                               \n",
      "-------------------------------------------------------------------------------\n",
      "(CVXPY) Apr 06 01:43:41 AM: Invoking solver SCIPY  to obtain a solution.\n",
      "Solver terminated with message: Optimization terminated successfully. (HiGHS Status 7: Optimal)\n",
      "-------------------------------------------------------------------------------\n",
      "                                    Summary                                    \n",
      "-------------------------------------------------------------------------------\n",
      "(CVXPY) Apr 06 01:43:41 AM: Problem status: optimal\n",
      "(CVXPY) Apr 06 01:43:41 AM: Optimal value: 0.000e+00\n",
      "(CVXPY) Apr 06 01:43:41 AM: Compilation took 2.947e+00 seconds\n",
      "(CVXPY) Apr 06 01:43:41 AM: Solver (including time spent in interface) took 4.530e-01 seconds\n"
     ]
    },
    {
     "data": {
      "text/plain": [
       "array([[-0., -0., -0., ..., -0., -0., -0.],\n",
       "       [-0., -0., -0., ..., -0., -0., -0.],\n",
       "       [-0., -0., -0., ..., -0., -0.,  1.],\n",
       "       ...,\n",
       "       [-0., -0., -0., ..., -0., -0., -0.],\n",
       "       [-0., -0., -0., ..., -0., -0., -0.],\n",
       "       [-0., -0., -0., ..., -0., -0., -0.]])"
      ]
     },
     "execution_count": 183,
     "metadata": {},
     "output_type": "execute_result"
    }
   ],
   "source": [
    "x = cp.Variable((n, m), integer = True) # set a variable that can only have integer values\n",
    "\n",
    "P = students[:,3:7] # preference P of student i\n",
    "\n",
    "# temporary constraints to check objectives\n",
    "constraints = [   \n",
    "    cp.sum(x, axis=1) == 1,  # Each student must be assigned to exactly one course\n",
    "    cp.sum(x, axis=0) <= courses[:, 1],  # Each course can have at most its maximum number of students\n",
    "    x >= 0\n",
    "]\n",
    "\n",
    "# objective function\n",
    "# P[i,1] is getting the first column which is getting the first-ranked choice of each student\n",
    "objective = cp.Minimize(cp.sum([cp.sum(x[i, P[i,0]] \n",
    "                               + cp.multiply(a,x[i, P[i,1]]) \n",
    "                               + cp.multiply(a**2,x[i, P[i,2]]) \n",
    "                               + cp.multiply(a**3,x[i, P[i,3]]))\n",
    "                               for i in range(n)]))\n",
    "\n",
    "prob = cp.Problem(objective, constraints)\n",
    "prob.solve(verbose=True)\n",
    "x.value"
   ]
  },
  {
   "cell_type": "code",
   "execution_count": 184,
   "metadata": {},
   "outputs": [
    {
     "name": "stdout",
     "output_type": "stream",
     "text": [
      "True\n"
     ]
    }
   ],
   "source": [
    "check = True\n",
    "# in each row the sum should be equal to one since students are assigned to only one class\n",
    "for n in x.value:\n",
    "    if sum(n) == 1: check = True\n",
    "    else: False\n",
    "\n",
    "print(check)"
   ]
  },
  {
   "cell_type": "markdown",
   "metadata": {},
   "source": [
    "Since it's true, then the temporary constraint is fulfilled."
   ]
  },
  {
   "cell_type": "markdown",
   "metadata": {},
   "source": [
    "**Set course constraints**\n",
    "$$\\sum_{s=9}^{17} q_{j,s} = 1$$\n",
    "$$\\sum_{i \\in X_j} x_{i,j} = \\sum_{s=9}^{17} sq_{j,s}$$ "
   ]
  },
  {
   "cell_type": "code",
   "execution_count": null,
   "metadata": {},
   "outputs": [],
   "source": []
  },
  {
   "cell_type": "markdown",
   "metadata": {},
   "source": [
    "**Set gender constraints**\n",
    "\n",
    "$$\\sum_{m=0}^{17} y_{m,j} = 1$$\n",
    "$$\\sum_{f=0}^{17} y_{f,j} = 1$$\n",
    "$$\\sum_{i \\in M \\cap X_j} x_{i,j} = \\sum_{m=0}^{17} my_{m,j}$$\n",
    "$$\\sum_{i \\in F \\cap X_j} x_{i,j} = \\sum_{f=0}^{17} fy_{f,j}$$"
   ]
  },
  {
   "cell_type": "code",
   "execution_count": null,
   "metadata": {},
   "outputs": [],
   "source": []
  },
  {
   "cell_type": "markdown",
   "metadata": {},
   "source": [
    "**Set international students constraints**\n",
    "\n",
    "$$\\sum_{i \\in I \\cap X_j} x_{i,j} \\leq 8$$"
   ]
  },
  {
   "cell_type": "code",
   "execution_count": null,
   "metadata": {},
   "outputs": [],
   "source": []
  },
  {
   "cell_type": "markdown",
   "metadata": {},
   "source": [
    "**Solve**"
   ]
  },
  {
   "cell_type": "code",
   "execution_count": null,
   "metadata": {},
   "outputs": [],
   "source": []
  }
 ],
 "metadata": {
  "kernelspec": {
   "display_name": "comet",
   "language": "python",
   "name": "python3"
  },
  "language_info": {
   "codemirror_mode": {
    "name": "ipython",
    "version": 3
   },
   "file_extension": ".py",
   "mimetype": "text/x-python",
   "name": "python",
   "nbconvert_exporter": "python",
   "pygments_lexer": "ipython3",
   "version": "3.11.5"
  }
 },
 "nbformat": 4,
 "nbformat_minor": 2
}
