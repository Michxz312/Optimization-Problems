{
 "cells": [
  {
   "cell_type": "code",
   "execution_count": 1,
   "metadata": {},
   "outputs": [],
   "source": [
    "import numpy as np\n",
    "from scipy.optimize import linprog\n",
    "import matplotlib.pyplot as plt"
   ]
  },
  {
   "cell_type": "markdown",
   "metadata": {},
   "source": [
    "The following is a summary of a research paper: \n",
    "Beveridge, Andrew, and Stan Wagon. “The Sorting Hat Goes to college.” Mathematics Magazine, vol. 87, no. 4, Oct. 2014, pp. 243–251, https://doi.org/10.4169/math.mag.87.4.243. "
   ]
  },
  {
   "cell_type": "markdown",
   "metadata": {},
   "source": [
    "## Problem \n",
    "\n",
    "Assign first-years students to their desired courses (about 500 students must be placed into about 35 first-year courses). Maximize overall student satisfaction such that each student is assigned into a course that they ranked. \n",
    "\n",
    "## Solution\n",
    "\n",
    "### Hungarian Algorithm (minimum weight perfect matching algorithm)\n",
    "\n",
    "Weighted bipartite graph - n vertices in one part correspond to n vertices in the other part\n",
    "\n",
    "- create a bipartite graph that enforced the constraints on class size and demographics\n",
    "- choose a weighting scheme that ensured trade-offs were consistent with the goals an priorities of the AP office\n",
    "\n",
    "The Hungarian algorithm works well but sometimes the constraints cannot be met, which is why the Integer Linear Programming method works better as it handles a wide variety of constraints.\n",
    "\n",
    "\n",
    "### Integer Programming problem"
   ]
  },
  {
   "cell_type": "markdown",
   "metadata": {},
   "source": [
    "**parameters:**\n",
    "- students $S_i, 1 \\leq i \\leq n$\n",
    "- courses $C_j, 1 \\leq j \\leq m$\n",
    "- M, F, I are indices corresponding to male, female, and international students\n",
    "- preferences $P_i$\n",
    "- $X_j$ : set of students i having $C_j$ as one of their choices, where $j \\in P_i$ \n",
    "* worst case $X_j = \\emptyset$\n",
    "\n",
    "**Decision Variables**\n",
    "- $X_{i,j}$ = 1 if for each pair $(S_i, C_j)$ where $j \\in P_i$, $S_i$ is assigned to $C_j$, and 0 otherwise\n",
    "- $\\sum_{j \\in P_i}$ X_{i,j}$ = 1 for each $i \\leq n$ and $x_{i,j} \\in \\{0,1\\}$\n",
    "\n",
    "**Objective Function**\n",
    "$$\\text{min } \\sum_{i=1}^n x_{i,j_{i,1}} + \\alpha x_{i,j_{i,2}} + \\alpha^2 x_{i,j_{i,3}}  + \\alpha^3 x_{i,j_{i,4}}$$ \n",
    "where $j_{i,1}, ..., j_{i,4}$ are student $S_i$'s four choices and $\\alpha > 1$ \n",
    "\n",
    "* $\\alpha$ is a value chosen according to the trade-offs for swapping students between classes\n",
    "The weight of placing a student in a course increases as it is further from the first choice.\n",
    "\n",
    "**constraints**\n",
    "1. Each class size should be from 10 to 16 students\n",
    "2. The demographics of each class should be roughly comparable to the entire student body (60% female and 11% international student)\n",
    "* sometimes the problem gives infeasible solutions, so the students are placed into an unranked course\n",
    "\n",
    "**Course size constraint**\n",
    "- $L \\leq \\sum_{i \\in X_j} x_{i,j} \\leq U$ for each $j \\leq m$\n",
    "\n",
    "Typically, we have $(L, U) = (12, 16)$ so the course can have 12 to 16 students. However, it is common to have a course that allows more than 16 or less than 12. We introduce $q_{j,s}$ where s is the size of $C_j$ and $9 \\leq s \\leq 17$. Suppose we have $Q_{17}, Q_{11}, Q_{10}, Q_9$ that represents the maximum number of students allowed in each class 17, 11, 10, and 9 respectively. Then, the ideal size constraints are:\n",
    "* $\\sum_j q_{j,17} \\leq Q_{17}$ \n",
    "* $\\sum_j q_{j,11} \\leq Q_{11}$ \n",
    "* $\\sum_j q_{j,10} \\leq Q_{10}$ \n",
    "* $\\sum_j q_{j,9} \\leq Q_{9}$ \n",
    "and $$\\sum_{s=9}^{17} q_{j,s} = 1$$\n",
    "$$\\sum_{i \\in X_j} x_{i,j} = \\sum_{s=9}^{17} sq_{j,s}$$ \n",
    "\n",
    "\n",
    "**Gender constraint**\n",
    "\n",
    "There are at least 4 male and 4 female in each course\n",
    "\n",
    "* $\\sum{i \\in M \\cap X_j} x_{i,j} \\geq 4$\n",
    "* $\\sum{i \\in F \\cap X_j} x_{i,j} \\geq 4$\n",
    "\n",
    "**International constraint**\n",
    "\n",
    "Each course contains at most B international students\n",
    "\n",
    "$\\sum_{i \\in I \\cap X_j} x_{i,j} \\leq B$\n",
    "\n",
    "\n",
    "\n"
   ]
  },
  {
   "cell_type": "markdown",
   "metadata": {},
   "source": []
  },
  {
   "cell_type": "markdown",
   "metadata": {},
   "source": []
  }
 ],
 "metadata": {
  "kernelspec": {
   "display_name": "comet",
   "language": "python",
   "name": "python3"
  },
  "language_info": {
   "codemirror_mode": {
    "name": "ipython",
    "version": 3
   },
   "file_extension": ".py",
   "mimetype": "text/x-python",
   "name": "python",
   "nbconvert_exporter": "python",
   "pygments_lexer": "ipython3",
   "version": "3.11.5"
  }
 },
 "nbformat": 4,
 "nbformat_minor": 2
}
