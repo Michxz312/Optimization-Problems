{
 "cells": [
  {
   "cell_type": "code",
   "execution_count": 112,
   "metadata": {},
   "outputs": [],
   "source": [
    "import numpy as np\n",
    "import random\n",
    "import cvxpy as cp\n",
    "import matplotlib.pyplot as plt"
   ]
  },
  {
   "cell_type": "markdown",
   "metadata": {},
   "source": [
    "The following is a summary of a research paper:\n",
    " \n",
    "Beveridge, Andrew, and Stan Wagon. “The Sorting Hat Goes to college.” Mathematics Magazine, vol. 87, no. 4, Oct. 2014, pp. 243–251, https://doi.org/10.4169/math.mag.87.4.243. "
   ]
  },
  {
   "cell_type": "markdown",
   "metadata": {},
   "source": [
    "## Problem \n",
    "\n",
    "Assign first-years students to their desired courses (about 500 students must be placed into about 35 first-year courses). Maximize overall student satisfaction such that each student is assigned into a course that they ranked. \n",
    "\n",
    "## Solution\n",
    "\n",
    "### Hungarian Algorithm (minimum weight perfect matching algorithm)\n",
    "\n",
    "Weighted bipartite graph - n vertices in one part correspond to n vertices in the other part\n",
    "\n",
    "- create a bipartite graph that enforced the constraints on class size and demographics\n",
    "- choose a weighting scheme that ensured trade-offs were consistent with the goals an priorities of the AP office\n",
    "\n",
    "The Hungarian algorithm works well but sometimes the constraints cannot be met, which is why the Integer Linear Programming method works better as it handles a wide variety of constraints.\n",
    "\n",
    "\n",
    "### Integer Programming problem"
   ]
  },
  {
   "cell_type": "markdown",
   "metadata": {},
   "source": [
    "**Parameters:**\n",
    "- students $S_i, 1 \\leq i \\leq n$\n",
    "- courses $C_j, 1 \\leq j \\leq m$\n",
    "- M, F, I are indices corresponding to male, female, and international students\n",
    "- preferences $P_i$\n",
    "- $X_j$ : set of students i having $C_j$ as one of their choices, where $j \\in P_i$\n",
    " \n",
    "\\* worst case $X_j = \\emptyset$\n",
    "\n",
    "**Decision Variables**\n",
    "- $x_{i,j}$ = 1 if for each pair $(S_i, C_j)$ where $j \\in P_i$, $S_i$ is assigned to $C_j$, and 0 otherwise\n",
    "- $\\sum_{j \\in P_i} x_{i,j}$ = 1 for each $i \\leq n$ and $x_{i,j} \\in \\{0,1\\}$\n",
    "\n",
    "**Objective Function**\n",
    "$$\\text{min } \\sum_{i=1}^n x_{i,j_{i,1}} + \\alpha x_{i,j_{i,2}} + \\alpha^2 x_{i,j_{i,3}}  + \\alpha^3 x_{i,j_{i,4}}$$ \n",
    "where $j_{i,1}, ..., j_{i,4}$ are student $S_i$'s four choices and $\\alpha > 1$ \n",
    "\n",
    "* $\\alpha$ is a value chosen according to the trade-offs for swapping students between classes\n",
    "The weight of placing a student in a course increases as it is further from the first choice.\n",
    "\n",
    "**Constraints**\n",
    "1. Each class size should be from 10 to 16 students\n",
    "2. The demographics of each class should be roughly comparable to the entire student body (60% female and 11% international student)\n",
    "* sometimes the problem gives infeasible solutions, so the students are placed into an unranked course\n",
    "\n",
    "**Course size constraint**\n",
    "\n",
    "The sum of the number of students enrolled in each course $C_j$ ranges from L to U:\n",
    "- $L \\leq \\sum_{i \\in X_j} x_{i,j} \\leq U$ for each $j \\leq m$\n",
    "\n",
    "Typically, we have $(L, U) = (12, 16)$ so the course can have 12 to 16 students. However, it is common to have a course that allows more than 16 or less than 12. We introduce $q_{j,s}$ where s is the size of $C_j$ and $9 \\leq s \\leq 17$. Suppose we have $Q_{17}, Q_{11}, Q_{10}, Q_9$ that represents the maximum number of students allowed in each class 17, 11, 10, and 9 respectively. Then, the ideal size of each $C_j$ for $Q_{17}, Q_{11}, Q_{10}, Q_9$ are:\n",
    "* $\\sum_j q_{j,17} \\leq Q_{17}$ \n",
    "* $\\sum_j q_{j,11} \\leq Q_{11}$ \n",
    "* $\\sum_j q_{j,10} \\leq Q_{10}$ \n",
    "* $\\sum_j q_{j,9} \\leq Q_{9}$ \n",
    "\n",
    "However, we need to make sure that each course only takes a unique maximum number of students ranging from 9 to 17:\n",
    "$$\\sum_{s=9}^{17} q_{j,s} = 1$$\n",
    "\n",
    "Therefore, we have the total number of students enrolled in $C_j$ be equal to the maximum number of students a course can have by multiplying s with $\\sum_{s=9}^{17} q_{j,s}$\n",
    "$$\\sum_{i \\in X_j} x_{i,j} = \\sum_{s=9}^{17} sq_{j,s}$$ \n",
    "\n",
    "\n",
    "**Gender constraint**\n",
    "\n",
    "There are at least 4 male and 4 female in each course\n",
    "\n",
    "* $\\sum_{i \\in M \\cap X_j} x_{i,j} \\geq 4$\n",
    "* $\\sum_{i \\in F \\cap X_j} x_{i,j} \\geq 4$\n",
    "\n",
    "The same idea from the course size constraint can be used for the gender constraint to help loosened the constraint of having at least 4 male and female.\n",
    "\n",
    "The paper introduced a new variable $y_{m,j} = 1$ when $C_j$ has a value of m males, and 0 otherwise. So, we can make sure that $C_j$ has a maximum of m number of males:\n",
    "$$\\sum_{m=0}^{17} y_{m,j} = 1$$\n",
    "and thus, the total number of male students enrolled in $C_j$ can be equal to the maximum number of male students a course can have by multiplying m with $\\sum_{m=0}^{17} y_{m,j}$:\n",
    "$$\\sum_{i \\in M \\cap X_j} x_{i,j} = \\sum_{m=0}^{17} my_{m,j}$$\n",
    "\n",
    "Similarly, we will have the same formula for the number of females in a course:\n",
    "$$\\sum_{i \\in F \\cap X_j} x_{i,j} = \\sum_{f=0}^{17} fy_{f,j}$$\n",
    "\n",
    "**International constraint**\n",
    "\n",
    "Each course contains at most B international students\n",
    "\n",
    "$\\sum_{i \\in I \\cap X_j} x_{i,j} \\leq B$\n",
    "\n",
    "\n",
    "\n"
   ]
  },
  {
   "cell_type": "markdown",
   "metadata": {},
   "source": [
    "## Building Solution"
   ]
  },
  {
   "cell_type": "markdown",
   "metadata": {},
   "source": [
    "### Defining the dataset\n",
    "\n",
    "we have to create a dummy set for 544 students and 35 courses. The students will need to be classfied into male, female and international students. We need a separate array to define preferences of the students by creating an ordered list of courses. Each courses also need the limitation for the number of students. "
   ]
  },
  {
   "cell_type": "code",
   "execution_count": 205,
   "metadata": {},
   "outputs": [],
   "source": [
    "n = 10 # number of students\n",
    "m = 10 # number of courses"
   ]
  },
  {
   "cell_type": "markdown",
   "metadata": {},
   "source": [
    "**Create courses dataset**"
   ]
  },
  {
   "cell_type": "markdown",
   "metadata": {},
   "source": [
    "The course dataset will have 35 courses each with an id from 1 to 35 and a course limit ranging from 9 to 17. "
   ]
  },
  {
   "cell_type": "code",
   "execution_count": 206,
   "metadata": {},
   "outputs": [
    {
     "name": "stdout",
     "output_type": "stream",
     "text": [
      "10\n",
      "(1, {'max': 17})\n",
      "(2, {'max': 17})\n",
      "(3, {'max': 16})\n",
      "(4, {'max': 15})\n",
      "(5, {'max': 15})\n"
     ]
    }
   ],
   "source": [
    "# create a dictionary to store course number and \n",
    "courses = {}\n",
    "\n",
    "for i in range(1,m+1): # iterate to fill m number of courses\n",
    "    course_id = i\n",
    "    # set random limit from 9 to 17 with more max_student = 16\n",
    "    prob = [0.02, 0.02, 0.02, 0.03, 0.03, 0.05, 0.13, 0.42, 0.28]\n",
    "    max_students = np.random.choice(range(9,18), p = prob) \n",
    "    # let i be the course id from 1 to 35\n",
    "    courses[i] = {'max': max_students}\n",
    "\n",
    "print(len(courses))\n",
    "\n",
    "for i in list(courses.items())[:5]:\n",
    "    print(i)"
   ]
  },
  {
   "cell_type": "code",
   "execution_count": null,
   "metadata": {},
   "outputs": [],
   "source": []
  },
  {
   "cell_type": "markdown",
   "metadata": {},
   "source": [
    "The total number of seats should be more or equal to the total number of students."
   ]
  },
  {
   "cell_type": "code",
   "execution_count": 207,
   "metadata": {},
   "outputs": [
    {
     "name": "stdout",
     "output_type": "stream",
     "text": [
      "161\n"
     ]
    }
   ],
   "source": [
    "# check how many empty seats\n",
    "total_seats = 0\n",
    "for course in courses.values():\n",
    "    total_seats += course['max']\n",
    "\n",
    "print(total_seats)"
   ]
  },
  {
   "cell_type": "code",
   "execution_count": 208,
   "metadata": {},
   "outputs": [
    {
     "data": {
      "image/png": "[encoded data removed]",
      "text/plain": [
       "<Figure size 640x480 with 1 Axes>"
      ]
     },
     "metadata": {},
     "output_type": "display_data"
    }
   ],
   "source": [
    "# bar graph to show maximum number of seats per class\n",
    "course_id = [i for i in range(1,m+1)]\n",
    "max_list = [course['max'] for course in courses.values()]\n",
    "\n",
    "plt.bar(course_id, max_list)\n",
    "plt.ylim(8,18)\n",
    "plt.xlabel('course id')\n",
    "plt.ylabel('maximum number of students in a class')\n",
    "plt.show()"
   ]
  },
  {
   "cell_type": "markdown",
   "metadata": {},
   "source": [
    "**Create student dataset**\n",
    "\n",
    "The student dataset should not be completely random because according to the paper, the Machester college has 60% female students and 11% international students."
   ]
  },
  {
   "cell_type": "markdown",
   "metadata": {},
   "source": [
    "- Let gender be 1 for female and 0 otherwise. \n",
    "- Let international be 1 for international students and 0 otherwise.\n",
    "- Let preferences be an ordered list of courses"
   ]
  },
  {
   "cell_type": "code",
   "execution_count": 209,
   "metadata": {},
   "outputs": [],
   "source": [
    "# create a dictionary to store data\n",
    "course_id = list(courses.keys())\n",
    "students = {}\n",
    "for i in range(1,n+1): # iterate to fill n students\n",
    "    rand_gender = random.random()\n",
    "    rand_international = random.random()\n",
    "    \n",
    "    # probability of having female student is 60%\n",
    "    gender = 1 if (rand_gender > 0.6) else 0\n",
    "    # probability of international student is 11%\n",
    "    international = 1 if(rand_international < 0.11) else 0\n",
    "\n",
    "    # create list of preference\n",
    "    preference = random.sample(course_id, 4)\n",
    "    # let i be the student id from 1 to 544\n",
    "    students[i] = {'gender': gender, 'international': international,\n",
    "                   'preference': preference}"
   ]
  },
  {
   "cell_type": "code",
   "execution_count": 210,
   "metadata": {},
   "outputs": [
    {
     "name": "stdout",
     "output_type": "stream",
     "text": [
      "(1, {'gender': 1, 'international': 0, 'preference': [8, 3, 9, 2]})\n",
      "(2, {'gender': 0, 'international': 1, 'preference': [6, 10, 9, 4]})\n",
      "(3, {'gender': 1, 'international': 0, 'preference': [6, 5, 2, 8]})\n",
      "(4, {'gender': 0, 'international': 1, 'preference': [9, 1, 8, 2]})\n",
      "(5, {'gender': 0, 'international': 0, 'preference': [3, 6, 8, 7]})\n"
     ]
    }
   ],
   "source": [
    "for i in list(students.items())[:5]:\n",
    "    print(i)"
   ]
  },
  {
   "cell_type": "markdown",
   "metadata": {},
   "source": [
    "This would indicate that the student with id 1 is a male, non-international student and their first-ranked course is id 3 followed by course id 17, 35, then 2."
   ]
  },
  {
   "cell_type": "markdown",
   "metadata": {},
   "source": [
    "**Set the objective function**\n",
    "\n",
    "$$\\text{min } \\sum_{i=1}^n x_{i,j_{i,1}} + \\alpha x_{i,j_{i,2}} + \\alpha^2 x_{i,j_{i,3}}  + \\alpha^3 x_{i,j_{i,4}}$$ \n",
    "where $j_{i,1}, ..., j_{i,4}$ are student $S_i$'s four choices and $\\alpha > 1$ "
   ]
  },
  {
   "cell_type": "code",
   "execution_count": 211,
   "metadata": {},
   "outputs": [],
   "source": [
    "# let alpha = 2\n",
    "a = 2\n",
    "\n",
    "# set decision variable\n",
    "x = cp.Variable((n, m), integer = True)\n",
    "\n",
    "# set objective function\n",
    "objective = 0\n",
    "for i in range(1, n+1):\n",
    "    for j in range(4):\n",
    "        # for each students with id i, get the course id in the preference\n",
    "        k = students[i]['preference'][j]\n",
    "        # x is using index base 0\n",
    "        objective += cp.multiply((a**j), x[i-1, k-1])\n",
    "\n",
    "objective = cp.Minimize(objective)"
   ]
  },
  {
   "cell_type": "markdown",
   "metadata": {},
   "source": [
    "**Set course constraints**\n",
    "$$\\sum_{s=9}^{17} q_{j,s} = 1$$\n",
    "$$\\sum_{i \\in X_j} x_{i,j} = \\sum_{s=9}^{17} sq_{j,s}$$ "
   ]
  },
  {
   "cell_type": "code",
   "execution_count": 212,
   "metadata": {},
   "outputs": [],
   "source": [
    "course_constraint = []\n",
    "\n",
    "# create variable q and let it have a size of m by the range of course size (18-9) \n",
    "size = 9\n",
    "q = cp.Variable((m, size), integer = True)\n",
    "# constraint for checking each course only have one maximum size\n",
    "course_constraint += [cp.sum(q[j,:]) == 1 for j in range(m)]\n",
    "# sum of student i for each class j should be equal to the maximum number of the class\n",
    "course_constraint += [cp.sum(x[:, j]) == cp.sum([s * q[j, s] for s in range(9)]) for j in range(m)]"
   ]
  },
  {
   "cell_type": "markdown",
   "metadata": {},
   "source": [
    "**Set gender constraints**\n",
    "\n",
    "$$\\sum_{m=0}^{17} y_{m,j} = 1$$\n",
    "$$\\sum_{f=0}^{17} y_{f,j} = 1$$\n",
    "$$\\sum_{i \\in M \\cap X_j} x_{i,j} = \\sum_{m=0}^{17} my_{m,j}$$\n",
    "$$\\sum_{i \\in F \\cap X_j} x_{i,j} = \\sum_{f=0}^{17} fy_{f,j}$$"
   ]
  },
  {
   "cell_type": "code",
   "execution_count": 213,
   "metadata": {},
   "outputs": [],
   "source": [
    "gender_constraint = []\n",
    "# create new variable for y_{m,j}\n",
    "ym = cp.Variable((17, m), integer = True)\n",
    "# for each course j, there should be only 1 maximum m number of males\n",
    "gender_constraint += [cp.sum(ym[:,j]) == 1 for j in range(m)]\n",
    "# create new variable for y_{f,j}\n",
    "yf = cp.Variable((17, m), integer = True)\n",
    "# for each course j, there should be only 1 maximum f number of females\n",
    "gender_constraint += [cp.sum(yf[:,j]) == 1 for j in range(m)]\n",
    "\n",
    "# for each course j, the number of males also in preference of student i will be equal to the maximum number of males\n",
    "male_constraint = [cp.sum([x[i, j-1] for i in range(n) if students[i+1]['gender'] == 0\n",
    "                                    and j in students[i+1]['preference']]) \n",
    "                                    == cp.sum([m * ym[m, j-1] for m in range(9)])\n",
    "                                    for j in range(1, m+1)]\n",
    "\n",
    "# for each course j, the number of females also in preference of student i will be equal to the maximum number of females\n",
    "female_constraint = [cp.sum([x[i, j-1] for i in range(n) if students[i+1]['gender'] == 1\n",
    "                                    and j in students[i+1]['preference']]) \n",
    "                                    == cp.sum([m * yf[m, j-1] for m in range(9)])\n",
    "                                    for j in range(1, m+1)]\n",
    "\n",
    "gender_constraint += male_constraint + female_constraint"
   ]
  },
  {
   "cell_type": "markdown",
   "metadata": {},
   "source": [
    "**Set international students constraints**\n",
    "\n",
    "$$\\sum_{i \\in I \\cap X_j} x_{i,j} \\leq 8$$"
   ]
  },
  {
   "cell_type": "code",
   "execution_count": 214,
   "metadata": {},
   "outputs": [],
   "source": [
    "international_constraint = [cp.sum([x[i, j-1] for i in range(n) if students[i+1]['international'] == 1\n",
    "                                    and j in students[i+1]['preference']]) <= 8 for j in range(1, m+1)]"
   ]
  },
  {
   "cell_type": "markdown",
   "metadata": {},
   "source": [
    "**Solve**"
   ]
  },
  {
   "cell_type": "code",
   "execution_count": 215,
   "metadata": {},
   "outputs": [
    {
     "name": "stdout",
     "output_type": "stream",
     "text": [
      "===============================================================================\n",
      "                                     CVXPY                                     \n",
      "                                     v1.4.2                                    \n",
      "===============================================================================\n",
      "(CVXPY) Apr 02 11:13:16 PM: Your problem has 530 variables, 70 constraints, and 0 parameters.\n",
      "(CVXPY) Apr 02 11:13:16 PM: It is compliant with the following grammars: DCP, DQCP\n",
      "(CVXPY) Apr 02 11:13:16 PM: (If you need to solve this problem multiple times, but with different data, consider using parameters.)\n",
      "(CVXPY) Apr 02 11:13:16 PM: CVXPY will first compile your problem; then, it will invoke a numerical solver to obtain a solution.\n",
      "(CVXPY) Apr 02 11:13:16 PM: Your problem is compiled with the CPP canonicalization backend.\n",
      "-------------------------------------------------------------------------------\n",
      "                                  Compilation                                  \n",
      "-------------------------------------------------------------------------------\n",
      "(CVXPY) Apr 02 11:13:16 PM: Compiling problem (target solver=SCIPY).\n",
      "(CVXPY) Apr 02 11:13:16 PM: Reduction chain: Dcp2Cone -> CvxAttr2Constr -> ConeMatrixStuffing -> SCIPY\n",
      "(CVXPY) Apr 02 11:13:16 PM: Applying reduction Dcp2Cone\n",
      "(CVXPY) Apr 02 11:13:16 PM: Applying reduction CvxAttr2Constr\n",
      "(CVXPY) Apr 02 11:13:16 PM: Applying reduction ConeMatrixStuffing\n",
      "(CVXPY) Apr 02 11:13:16 PM: Applying reduction SCIPY\n",
      "(CVXPY) Apr 02 11:13:17 PM: Finished problem compilation (took 2.285e-01 seconds).\n",
      "-------------------------------------------------------------------------------\n",
      "                                Numerical solver                               \n",
      "-------------------------------------------------------------------------------\n",
      "(CVXPY) Apr 02 11:13:17 PM: Invoking solver SCIPY  to obtain a solution.\n",
      "Solver terminated with message: The problem is unbounded or infeasible. (HiGHS Status 9: model_status is Primal infeasible or unbounded; primal_status is At lower/fixed bound)\n"
     ]
    },
    {
     "ename": "SolverError",
     "evalue": "Solver 'SCIPY' failed. Try another solver, or solve with verbose=True for more information.",
     "output_type": "error",
     "traceback": [
      "\u001b[1;31m---------------------------------------------------------------------------\u001b[0m",
      "\u001b[1;31mSolverError\u001b[0m                               Traceback (most recent call last)",
      "Cell \u001b[1;32mIn[215], line 3\u001b[0m\n\u001b[0;32m      1\u001b[0m constraints \u001b[38;5;241m=\u001b[39m course_constraint \u001b[38;5;241m+\u001b[39m gender_constraint \u001b[38;5;241m+\u001b[39m international_constraint\n\u001b[0;32m      2\u001b[0m problem \u001b[38;5;241m=\u001b[39m cp\u001b[38;5;241m.\u001b[39mProblem(objective, constraints)\n\u001b[1;32m----> 3\u001b[0m problem\u001b[38;5;241m.\u001b[39msolve(verbose\u001b[38;5;241m=\u001b[39m\u001b[38;5;28;01mTrue\u001b[39;00m)\n",
      "File \u001b[1;32mc:\\Users\\Owner\\miniconda3\\envs\\comet\\Lib\\site-packages\\cvxpy\\problems\\problem.py:503\u001b[0m, in \u001b[0;36mProblem.solve\u001b[1;34m(self, *args, **kwargs)\u001b[0m\n\u001b[0;32m    501\u001b[0m \u001b[38;5;28;01melse\u001b[39;00m:\n\u001b[0;32m    502\u001b[0m     solve_func \u001b[38;5;241m=\u001b[39m Problem\u001b[38;5;241m.\u001b[39m_solve\n\u001b[1;32m--> 503\u001b[0m \u001b[38;5;28;01mreturn\u001b[39;00m solve_func(\u001b[38;5;28mself\u001b[39m, \u001b[38;5;241m*\u001b[39margs, \u001b[38;5;241m*\u001b[39m\u001b[38;5;241m*\u001b[39mkwargs)\n",
      "File \u001b[1;32mc:\\Users\\Owner\\miniconda3\\envs\\comet\\Lib\\site-packages\\cvxpy\\problems\\problem.py:1086\u001b[0m, in \u001b[0;36mProblem._solve\u001b[1;34m(self, solver, warm_start, verbose, gp, qcp, requires_grad, enforce_dpp, ignore_dpp, canon_backend, **kwargs)\u001b[0m\n\u001b[0;32m   1084\u001b[0m end \u001b[38;5;241m=\u001b[39m time\u001b[38;5;241m.\u001b[39mtime()\n\u001b[0;32m   1085\u001b[0m \u001b[38;5;28mself\u001b[39m\u001b[38;5;241m.\u001b[39m_solve_time \u001b[38;5;241m=\u001b[39m end \u001b[38;5;241m-\u001b[39m start\n\u001b[1;32m-> 1086\u001b[0m \u001b[38;5;28mself\u001b[39m\u001b[38;5;241m.\u001b[39munpack_results(solution, solving_chain, inverse_data)\n\u001b[0;32m   1087\u001b[0m \u001b[38;5;28;01mif\u001b[39;00m verbose:\n\u001b[0;32m   1088\u001b[0m     \u001b[38;5;28mprint\u001b[39m(_FOOTER)\n",
      "File \u001b[1;32mc:\\Users\\Owner\\miniconda3\\envs\\comet\\Lib\\site-packages\\cvxpy\\problems\\problem.py:1411\u001b[0m, in \u001b[0;36mProblem.unpack_results\u001b[1;34m(self, solution, chain, inverse_data)\u001b[0m\n\u001b[0;32m   1409\u001b[0m     warnings\u001b[38;5;241m.\u001b[39mwarn(INF_OR_UNB_MESSAGE)\n\u001b[0;32m   1410\u001b[0m \u001b[38;5;28;01mif\u001b[39;00m solution\u001b[38;5;241m.\u001b[39mstatus \u001b[38;5;129;01min\u001b[39;00m s\u001b[38;5;241m.\u001b[39mERROR:\n\u001b[1;32m-> 1411\u001b[0m     \u001b[38;5;28;01mraise\u001b[39;00m error\u001b[38;5;241m.\u001b[39mSolverError(\n\u001b[0;32m   1412\u001b[0m             \u001b[38;5;124m\"\u001b[39m\u001b[38;5;124mSolver \u001b[39m\u001b[38;5;124m'\u001b[39m\u001b[38;5;132;01m%s\u001b[39;00m\u001b[38;5;124m'\u001b[39m\u001b[38;5;124m failed. \u001b[39m\u001b[38;5;124m\"\u001b[39m \u001b[38;5;241m%\u001b[39m chain\u001b[38;5;241m.\u001b[39msolver\u001b[38;5;241m.\u001b[39mname() \u001b[38;5;241m+\u001b[39m\n\u001b[0;32m   1413\u001b[0m             \u001b[38;5;124m\"\u001b[39m\u001b[38;5;124mTry another solver, or solve with verbose=True for more \u001b[39m\u001b[38;5;124m\"\u001b[39m\n\u001b[0;32m   1414\u001b[0m             \u001b[38;5;124m\"\u001b[39m\u001b[38;5;124minformation.\u001b[39m\u001b[38;5;124m\"\u001b[39m)\n\u001b[0;32m   1416\u001b[0m \u001b[38;5;28mself\u001b[39m\u001b[38;5;241m.\u001b[39munpack(solution)\n\u001b[0;32m   1417\u001b[0m \u001b[38;5;28mself\u001b[39m\u001b[38;5;241m.\u001b[39m_solver_stats \u001b[38;5;241m=\u001b[39m SolverStats\u001b[38;5;241m.\u001b[39mfrom_dict(\u001b[38;5;28mself\u001b[39m\u001b[38;5;241m.\u001b[39m_solution\u001b[38;5;241m.\u001b[39mattr,\n\u001b[0;32m   1418\u001b[0m                                  chain\u001b[38;5;241m.\u001b[39msolver\u001b[38;5;241m.\u001b[39mname())\n",
      "\u001b[1;31mSolverError\u001b[0m: Solver 'SCIPY' failed. Try another solver, or solve with verbose=True for more information."
     ]
    }
   ],
   "source": [
    "constraints = course_constraint + gender_constraint + international_constraint\n",
    "problem = cp.Problem(objective, constraints)\n",
    "problem.solve(verbose=True)"
   ]
  },
  {
   "cell_type": "code",
   "execution_count": null,
   "metadata": {},
   "outputs": [],
   "source": [
    " "
   ]
  }
 ],
 "metadata": {
  "kernelspec": {
   "display_name": "comet",
   "language": "python",
   "name": "python3"
  },
  "language_info": {
   "codemirror_mode": {
    "name": "ipython",
    "version": 3
   },
   "file_extension": ".py",
   "mimetype": "text/x-python",
   "name": "python",
   "nbconvert_exporter": "python",
   "pygments_lexer": "ipython3",
   "version": "3.11.5"
  }
 },
 "nbformat": 4,
 "nbformat_minor": 2
}
