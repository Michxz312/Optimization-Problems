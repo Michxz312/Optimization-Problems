{
 "cells": [
  {
   "cell_type": "code",
   "execution_count": 2,
   "metadata": {},
   "outputs": [],
   "source": [
    "import numpy as np\n",
    "import random\n",
    "import cvxpy as cp\n",
    "import pandas as pd\n",
    "import matplotlib.pyplot as plt"
   ]
  },
  {
   "cell_type": "markdown",
   "metadata": {},
   "source": [
    "The following is a summary of a research paper:\n",
    " \n",
    "Beveridge, Andrew, and Stan Wagon. “The Sorting Hat Goes to college.” Mathematics Magazine, vol. 87, no. 4, Oct. 2014, pp. 243–251, https://doi.org/10.4169/math.mag.87.4.243. "
   ]
  },
  {
   "cell_type": "markdown",
   "metadata": {},
   "source": [
    "## Problem \n",
    "\n",
    "Assign first-years students to their desired courses (about 500 students must be placed into about 35 first-year courses). Maximize overall student satisfaction such that each student is assigned into a course that they ranked. \n",
    "\n",
    "## Solution\n",
    "\n",
    "### Integer Programming problem"
   ]
  },
  {
   "cell_type": "markdown",
   "metadata": {},
   "source": [
    "**Parameters:**\n",
    "- students $S_i, 1 \\leq i \\leq n$\n",
    "- courses $C_j, 1 \\leq j \\leq m$\n",
    "- M, F, I are indices corresponding to male, female, and international students\n",
    "- preferences $P_i$\n",
    "- $X_j$ : set of students i having $C_j$ as one of their choices, where $j \\in P_i$\n",
    " \n",
    "\\* worst case $X_j = \\emptyset$, where there are no students who have a preference of course j.\n",
    "\n"
   ]
  },
  {
   "cell_type": "markdown",
   "metadata": {},
   "source": [
    "**Decision Variables**\n",
    "\n",
    "$x_{i,j}$ = 1 if for each pair $(S_i, C_j)$ where $j \\in P_i$, $S_i$ is assigned to $C_j$, and 0 otherwise\n",
    "\n",
    "where $x_{i,j} \\in \\{0,1\\}$"
   ]
  },
  {
   "cell_type": "markdown",
   "metadata": {},
   "source": [
    "**Objective Function**\n",
    "$$\\text{min } \\sum_{i=1}^n x_{i,j_{i,1}} + \\alpha x_{i,j_{i,2}} + \\alpha^2 x_{i,j_{i,3}}  + \\alpha^3 x_{i,j_{i,4}}$$ \n",
    "where $j_{i,1}, ..., j_{i,4}$ are student $S_i$'s four preferences and $\\alpha > 1$ \n",
    "\n",
    "* $\\alpha$ is a value chosen according to the trade-offs for swapping students between classes\n",
    "The weight of placing a student in a course increases as it is further from the first choice.\n"
   ]
  },
  {
   "cell_type": "markdown",
   "metadata": {},
   "source": [
    "**Student constraint**\n",
    "\n",
    "$\\sum_{j \\in P_i} x_{i,j}$ = 1 for each $i \\leq n$"
   ]
  },
  {
   "cell_type": "markdown",
   "metadata": {},
   "source": [
    "**Course size constraint**\n",
    "\n",
    "The sum of the number of students enrolled in each course $C_j$ ranges from L to U:\n",
    "- $L \\leq \\sum_{i \\in X_j} x_{i,j} \\leq U$ for each $j \\leq m$\n",
    "\n",
    "Typically, we have $(L, U) = (12, 16)$ so the course can have 12 to 16 students. However, it is common to have a course that allows more than 16 or less than 12. We introduce $q_{j,s}$ where s is the size of $C_j$ and $9 \\leq s \\leq 17$. Suppose we have $Q_{17}, Q_{11}, Q_{10}, Q_9$ that represents the maximum number of courses allowed with 17, 11, 10, and 9 respectively. Then, the ideal size of each $C_j$ for $Q_{17}, Q_{11}, Q_{10}, Q_9$ are:\n",
    "* $\\sum_j q_{j,17} \\leq Q_{17}$ \n",
    "* $\\sum_j q_{j,11} \\leq Q_{11}$ \n",
    "* $\\sum_j q_{j,10} \\leq Q_{10}$ \n",
    "* $\\sum_j q_{j,9} \\leq Q_{9}$ \n",
    "\n",
    "However, we need to make sure that each course only takes a unique maximum number of students ranging from 9 to 17:\n",
    "$$\\sum_{s=9}^{17} q_{j,s} = 1 \\quad \\forall j$$\n",
    "\n",
    "Therefore, we have the total number of students enrolled in $C_j$ be equal to the maximum number of students a course can have by multiplying s with $\\sum_{s=9}^{17} q_{j,s}$\n",
    "$$\\sum_{i \\in X_j} x_{i,j} = \\sum_{s=9}^{17} sq_{j,s} \\quad \\forall j$$ \n"
   ]
  },
  {
   "cell_type": "markdown",
   "metadata": {},
   "source": [
    "**Gender constraint**\n",
    "\n",
    "There are at least 4 male and 4 female in each course\n",
    "\n",
    "* $\\sum_{i \\in M \\cap X_j} x_{i,j} \\geq 4$\n",
    "* $\\sum_{i \\in F \\cap X_j} x_{i,j} \\geq 4$\n",
    "\n",
    "The same idea from the course size constraint can be used for the gender constraint to help loosened the constraint of having at least 4 male and female.\n",
    "\n",
    "The paper introduced a new variable $y_{m,j} = 1$ when $C_j$ has a value of m males, and 0 otherwise. So, we can make sure that $C_j$ has a maximum of m number of males:\n",
    "$$\\sum_{m=0}^{17} y_{m,j} = 1 \\quad \\forall j$$\n",
    "and thus, the total number of male students enrolled in $C_j$ can be equal to the maximum number of male students a course can have by multiplying m with $\\sum_{m=0}^{17} y_{m,j}$:\n",
    "$$\\sum_{i \\in M \\cap X_j} x_{i,j} = \\sum_{m=0}^{17} my_{m,j} \\quad \\forall j$$\n",
    "\n",
    "Similarly, we will have the same formula for the number of females in a course:\n",
    "$$\\sum_{i \\in F \\cap X_j} x_{i,j} = \\sum_{f=0}^{17} fy_{f,j} \\quad \\forall j$$"
   ]
  },
  {
   "cell_type": "markdown",
   "metadata": {},
   "source": [
    "**International constraint**\n",
    "\n",
    "Each course contains at most B international students\n",
    "\n",
    "$\\sum_{i \\in I \\cap X_j} x_{i,j} \\leq B \\quad \\forall j$\n",
    "\n"
   ]
  },
  {
   "cell_type": "markdown",
   "metadata": {},
   "source": [
    "## Building Solution"
   ]
  },
  {
   "cell_type": "markdown",
   "metadata": {},
   "source": [
    "#### Writing the objective function\n",
    "\n",
    "Trying to assign each students with their first choice of preference:"
   ]
  },
  {
   "cell_type": "code",
   "execution_count": 3,
   "metadata": {},
   "outputs": [
    {
     "name": "stdout",
     "output_type": "stream",
     "text": [
      "10.0\n"
     ]
    }
   ],
   "source": [
    "### try obvious dataset where the student will be assigned to their first choice\n",
    "# [0,1,1,0,1,2,3] means student id 0, female, international student with preference of course 0,1,2,3 from first to last choice\n",
    "s = np.array([[0, 1, 1, 0, 1, 2, 4],\n",
    "               [1, 1, 0, 0, 1, 2, 4],\n",
    "               [2, 0, 1, 1, 0, 2, 3],\n",
    "               [3, 1, 1, 1, 0, 2, 3],\n",
    "                [4, 1, 0, 2, 1, 0, 3],\n",
    "                [5, 1, 1, 2, 1, 0, 3],\n",
    "                [6, 1, 1, 3, 1, 2, 4],\n",
    "                [7, 1, 1, 3, 1, 2, 4],\n",
    "                [8, 1, 1, 4, 1, 2, 0],\n",
    "                [9, 1, 1, 4, 1, 2, 0]])\n",
    "\n",
    "P = s[:,-4:] # preference P of student i\n",
    "\n",
    "# [0,5] means course id 0 with maximum 2 students in the class\n",
    "c = np.array([[0,2],[1,2],[2,2],[3,2],[4,2]])\n",
    "\n",
    "a = 2\n",
    "n = len(s)\n",
    "m = len(c)\n",
    "x = cp.Variable((n, m), integer = True) # set a variable that can only have integer values\n",
    "\n",
    "# temporary constraints to check objectives\n",
    "constraints = []\n",
    "\n",
    "# each student gets exactly one course j in preference of student i\n",
    "for i in range(n):\n",
    "    for j in range(m):\n",
    "        constraints += [cp.sum([x[i, j] for j in P[i, :]]) == 1]\n",
    "\n",
    "# each course cannot exceed the maximum capacity of students\n",
    "for j in range(m):\n",
    "    constraints += [cp.sum(x[:, j]) <= c[:,1]]\n",
    "\n",
    "constraints += [x >= 0]\n",
    "\n",
    "\n",
    "# objective function\n",
    "# P[i,1] is getting the first column which is getting the first-ranked choice of each student\n",
    "objective = cp.Minimize(cp.sum([cp.sum([x[i, P[i,0]]  + a*x[i, P[i,1]] + a**2*x[i,P[i,2]] + a**3*x[i,P[i,3]]for i in range(n)])]))\n",
    "\n",
    "prob = cp.Problem(objective, constraints)\n",
    "print(prob.solve())"
   ]
  },
  {
   "cell_type": "code",
   "execution_count": 4,
   "metadata": {},
   "outputs": [
    {
     "name": "stdout",
     "output_type": "stream",
     "text": [
      "Student 0 is assigned to 0\n",
      "Student 1 is assigned to 0\n",
      "Student 2 is assigned to 1\n",
      "Student 3 is assigned to 1\n",
      "Student 4 is assigned to 2\n",
      "Student 5 is assigned to 2\n",
      "Student 6 is assigned to 3\n",
      "Student 7 is assigned to 3\n",
      "Student 8 is assigned to 4\n",
      "Student 9 is assigned to 4\n"
     ]
    }
   ],
   "source": [
    "# show the result\n",
    "for i in range(n):\n",
    "    for j in range(m):\n",
    "        if x.value[i][j] == 1:\n",
    "            print(\"Student\", i, \"is assigned to\", j)"
   ]
  },
  {
   "cell_type": "markdown",
   "metadata": {},
   "source": [
    "### Defining the dataset for 150 students and 12 courses (in progress)\n",
    "\n",
    "we have to create a dummy set for 150 students and 12 courses. The students will need to be classfied into male, female and international students. We need a separate array to define preferences of the students by creating an ordered list of courses. Each courses also need the limitation for the number of students. "
   ]
  },
  {
   "cell_type": "code",
   "execution_count": 126,
   "metadata": {},
   "outputs": [],
   "source": [
    "n = 140 # number of students\n",
    "m = 12 # number of courses"
   ]
  },
  {
   "cell_type": "markdown",
   "metadata": {},
   "source": [
    "#### Create Dataset:"
   ]
  },
  {
   "cell_type": "markdown",
   "metadata": {},
   "source": [
    "**Create courses dataset**"
   ]
  },
  {
   "cell_type": "markdown",
   "metadata": {},
   "source": [
    "The course dataset will have 10 courses each with an id from 0 to 11 and a course limit ranging from 7 to 11. "
   ]
  },
  {
   "cell_type": "code",
   "execution_count": 127,
   "metadata": {},
   "outputs": [
    {
     "name": "stdout",
     "output_type": "stream",
     "text": [
      "(0, {'max': 7})\n",
      "(1, {'max': 11})\n",
      "(2, {'max': 11})\n",
      "(3, {'max': 11})\n",
      "(4, {'max': 11})\n"
     ]
    }
   ],
   "source": [
    "# create an array to store course number and \n",
    "courses = {}\n",
    "\n",
    "for i in range(m): # iterate to fill m number of courses\n",
    "    course_id = i\n",
    "    # set random limit from 5 to 8 with more max_student = 16\n",
    "    prob = [0.02, 0.03, 0.05, 0.1, 0.8]\n",
    "    max_students = np.random.choice(range(7, 12), p = prob) \n",
    "    # let i be the course id from 1 to 35\n",
    "    courses[i] = {'max': max_students}\n",
    "\n",
    "for i in list(courses.items())[:5]:\n",
    "    print(i)\n",
    "\n",
    "courses = np.array([[course_id, courses[course_id][\"max\"]] for course_id in range(m)])"
   ]
  },
  {
   "cell_type": "markdown",
   "metadata": {},
   "source": [
    "**Create student dataset**\n",
    "\n",
    "The student dataset should not be completely random because according to the paper, the Machester college has 60% female students and 11% international students."
   ]
  },
  {
   "cell_type": "markdown",
   "metadata": {},
   "source": [
    "- Let gender be 1 for female and 0 otherwise. \n",
    "- Let international be 1 for international students and 0 otherwise.\n",
    "- Let preferences be an ordered list of courses"
   ]
  },
  {
   "cell_type": "code",
   "execution_count": 128,
   "metadata": {},
   "outputs": [
    {
     "name": "stdout",
     "output_type": "stream",
     "text": [
      "(0, {'gender': 1, 'international': 1, 'preference': [5, 1, 6, 2]})\n",
      "(1, {'gender': 0, 'international': 0, 'preference': [6, 3, 11, 8]})\n",
      "(2, {'gender': 0, 'international': 0, 'preference': [10, 6, 9, 11]})\n",
      "(3, {'gender': 0, 'international': 0, 'preference': [5, 8, 4, 2]})\n",
      "(4, {'gender': 0, 'international': 0, 'preference': [6, 1, 11, 5]})\n"
     ]
    }
   ],
   "source": [
    "# create a dictionary to store data\n",
    "course_id = range(0, m)\n",
    "students = {}\n",
    "for i in range(n): # iterate to fill n students\n",
    "    rand_gender = random.random()\n",
    "    rand_international = random.random()\n",
    "    \n",
    "    # probability of having female student is 60%\n",
    "    gender = 1 if (rand_gender > 0.6) else 0\n",
    "    # probability of international student is 11%\n",
    "    international = 1 if(rand_international < 0.11) else 0\n",
    "\n",
    "    # create list of preference\n",
    "    preference = random.sample(course_id, 4)\n",
    "    # let i be the student id from 1 to 544\n",
    "    students[i] = {'gender': gender, 'international': international,\n",
    "                   'preference': preference}\n",
    "\n",
    "for i in list(students.items())[:5]:\n",
    "    print(i)\n",
    "\n",
    "students = np.array([[i, students[i][\"gender\"], students[i][\"international\"]] + students[i][\"preference\"] for i in range(n)])\n",
    "P = students[:, -4:]"
   ]
  },
  {
   "cell_type": "markdown",
   "metadata": {},
   "source": [
    "#### Apply the objective function and  student constraint"
   ]
  },
  {
   "cell_type": "code",
   "execution_count": 129,
   "metadata": {},
   "outputs": [
    {
     "data": {
      "text/plain": [
       "140.0"
      ]
     },
     "execution_count": 129,
     "metadata": {},
     "output_type": "execute_result"
    }
   ],
   "source": [
    "a = 2\n",
    "n = len(students)\n",
    "m = len(courses)\n",
    "x = cp.Variable((n, m), integer = True) # set a variable that can only have integer values\n",
    "\n",
    "# temporary constraints to check objectives\n",
    "constraints = []\n",
    "\n",
    "# each student gets exactly one course j in preference of student i\n",
    "for i in range(n):\n",
    "    for j in range(m):\n",
    "        constraints += [cp.sum([x[i, j] for j in P[i, :]]) == 1]\n",
    "\n",
    "# temporary course size constraint\n",
    "for j in range(m):\n",
    "    constraints += [cp.sum(x[:, j]) <= 15]\n",
    "\n",
    "constraints += [x >= 0]\n",
    "\n",
    "\n",
    "# objective function\n",
    "# P[i,1] is getting the first column which is getting the first-ranked choice of each student\n",
    "objective = cp.Minimize(cp.sum([cp.sum([x[i, P[i, 0]]  + a*x[i, P[i, 1]] + a**2*x[i,P[i, 2]] + a**3*x[i,P[i, 3]]for i in range(n)])]))\n",
    "\n",
    "prob = cp.Problem(objective, constraints)\n",
    "prob.solve()"
   ]
  },
  {
   "cell_type": "code",
   "execution_count": 130,
   "metadata": {},
   "outputs": [
    {
     "data": {
      "image/png": "[encoded data removed]",
      "text/plain": [
       "<Figure size 500x300 with 1 Axes>"
      ]
     },
     "metadata": {},
     "output_type": "display_data"
    }
   ],
   "source": [
    "# Count the number of students assigned to each preference rank\n",
    "preferences_count = [0, 0, 0, 0]\n",
    "for i in range(n):\n",
    "    for j in range(4):\n",
    "        if x[i, P[i, j]].value > 0:\n",
    "            preferences_count[j] += 1\n",
    "\n",
    "# Plotting the bar graph\n",
    "plt.figure(figsize=(5, 3))\n",
    "plt.bar(['1st', '2nd', '3rd', '4th'], preferences_count)\n",
    "plt.xlabel('Preference')\n",
    "plt.ylabel('Number of Students')\n",
    "plt.show()"
   ]
  },
  {
   "cell_type": "markdown",
   "metadata": {},
   "source": [
    "#### Set Course Constraints"
   ]
  },
  {
   "cell_type": "markdown",
   "metadata": {},
   "source": [
    "Since we are using smaller scale data, we can adjust the size of the course constraint to:\n",
    "$$\\sum_{s = 6}^{14} q_{j,s} = 1 \\quad \\forall j$$\n",
    "There can be at most $Q_{13}$ course that can have a maximum size of 14:\n",
    "$$\\sum_j q_{j, 14} \\leq Q_{13}$$ \n",
    "There can be at most $Q_{12}$ course that can have a maximum size of 13:\n",
    "$$\\sum_j q_{j, 13} \\leq Q_{12}$$\n",
    "There can be at most $Q_{6}$ course that can have a maximum size of 6:\n",
    "$$\\sum_j q_{j, 6} \\leq Q_{6}$$\n",
    "\n",
    "$$\\sum_{i \\in X_j} x_{i,j} = \\sum_{s=6}^{14} sq_{j,s} \\quad \\forall j$$ "
   ]
  },
  {
   "cell_type": "code",
   "execution_count": 131,
   "metadata": {},
   "outputs": [
    {
     "name": "stdout",
     "output_type": "stream",
     "text": [
      "[[5, 6, 7, 10, 12, 13, 19, 24, 25, 28, 29, 34, 35, 39, 41, 43, 47, 49, 51, 61, 83, 86, 91, 94, 101, 102, 103, 104, 105, 107, 108, 109, 110, 113, 115, 116, 128, 130], [0, 4, 5, 9, 12, 16, 17, 19, 23, 25, 26, 28, 32, 43, 44, 45, 52, 53, 54, 59, 60, 61, 62, 63, 65, 70, 71, 72, 75, 79, 80, 82, 85, 86, 89, 96, 100, 107, 117, 119, 121, 122, 124, 134, 138], [0, 3, 9, 19, 20, 21, 23, 24, 25, 26, 27, 31, 34, 35, 36, 37, 39, 41, 42, 51, 52, 55, 62, 63, 64, 66, 70, 73, 74, 76, 78, 79, 80, 84, 87, 88, 92, 103, 106, 109, 115, 118, 119, 120, 121, 127, 130, 133], [1, 5, 6, 10, 13, 16, 19, 22, 25, 30, 32, 33, 38, 40, 41, 43, 45, 52, 58, 61, 62, 64, 67, 69, 72, 81, 85, 88, 93, 95, 96, 98, 99, 101, 104, 108, 113, 114, 128, 132, 135, 136, 138], [3, 6, 11, 14, 18, 20, 23, 27, 30, 33, 34, 35, 38, 39, 40, 47, 49, 50, 54, 57, 58, 59, 61, 63, 66, 67, 68, 73, 76, 82, 83, 90, 91, 92, 94, 96, 98, 104, 109, 114, 117, 118, 121, 122, 123, 128, 129, 132, 134], [0, 3, 4, 5, 8, 16, 17, 18, 21, 31, 42, 47, 49, 51, 55, 56, 57, 69, 71, 73, 74, 75, 77, 79, 81, 83, 86, 91, 93, 98, 99, 102, 105, 110, 111, 112, 114, 118, 120, 124, 125, 126, 130, 131, 132, 137, 139], [0, 1, 2, 4, 6, 7, 9, 10, 14, 20, 21, 26, 29, 31, 32, 37, 44, 46, 53, 59, 60, 62, 66, 67, 71, 75, 77, 79, 80, 81, 82, 84, 85, 87, 93, 94, 95, 99, 116, 118, 120, 121, 124, 126, 129, 131, 132, 133, 139], [11, 14, 15, 22, 27, 29, 35, 44, 45, 46, 48, 56, 64, 68, 69, 70, 72, 74, 76, 81, 83, 84, 87, 89, 90, 92, 97, 101, 102, 105, 106, 107, 111, 112, 113, 114, 116, 117, 129, 131, 134, 136, 137], [1, 3, 7, 8, 9, 11, 14, 15, 17, 22, 24, 26, 28, 34, 36, 37, 38, 40, 41, 43, 46, 48, 50, 51, 52, 53, 57, 60, 63, 70, 73, 76, 77, 78, 82, 85, 88, 89, 90, 95, 96, 103, 107, 110, 111, 112, 116, 123, 125, 127, 131, 135, 136, 137, 138, 139], [2, 8, 10, 12, 13, 15, 17, 18, 20, 22, 27, 28, 29, 30, 31, 37, 38, 39, 48, 50, 53, 54, 55, 60, 65, 68, 69, 78, 84, 89, 92, 97, 100, 108, 111, 112, 117, 119, 122, 123, 127, 133, 135, 137], [2, 7, 11, 12, 13, 16, 18, 23, 30, 33, 36, 42, 44, 45, 47, 48, 49, 50, 55, 56, 57, 58, 64, 65, 66, 68, 72, 74, 77, 78, 87, 88, 93, 94, 95, 97, 100, 101, 102, 103, 106, 108, 115, 119, 120, 122, 123, 124, 125, 126, 127, 128, 134, 136], [1, 2, 4, 8, 15, 21, 24, 32, 33, 36, 40, 42, 46, 54, 56, 58, 59, 65, 67, 71, 75, 80, 86, 90, 91, 97, 98, 99, 100, 104, 105, 106, 109, 110, 113, 115, 125, 126, 129, 130, 133, 135, 138, 139]]\n"
     ]
    }
   ],
   "source": [
    "# create set X_j, list of students for course j based on preference\n",
    "Xj = []\n",
    "# for each course\n",
    "for j in range(m): \n",
    "    check_student = []\n",
    "    # check if the student has a preferece of that course \n",
    "    for i in range(n):\n",
    "        if j in P[i]:\n",
    "            # if j is one the four choice of student i, add to list of student\n",
    "            check_student.append(i)\n",
    "    # for each j, add list of student\n",
    "    Xj.append(check_student)\n",
    "print(Xj)"
   ]
  },
  {
   "cell_type": "code",
   "execution_count": 139,
   "metadata": {},
   "outputs": [
    {
     "name": "stdout",
     "output_type": "stream",
     "text": [
      "===============================================================================\n",
      "                                     CVXPY                                     \n",
      "                                     v1.4.2                                    \n",
      "===============================================================================\n",
      "(CVXPY) Apr 12 01:30:33 AM: Your problem has 1788 variables, 1710 constraints, and 0 parameters.\n",
      "(CVXPY) Apr 12 01:30:33 AM: It is compliant with the following grammars: DCP, DQCP\n",
      "(CVXPY) Apr 12 01:30:33 AM: (If you need to solve this problem multiple times, but with different data, consider using parameters.)\n",
      "(CVXPY) Apr 12 01:30:33 AM: CVXPY will first compile your problem; then, it will invoke a numerical solver to obtain a solution.\n",
      "(CVXPY) Apr 12 01:30:33 AM: Your problem is compiled with the CPP canonicalization backend.\n",
      "-------------------------------------------------------------------------------\n",
      "                                  Compilation                                  \n",
      "-------------------------------------------------------------------------------\n",
      "(CVXPY) Apr 12 01:30:34 AM: Compiling problem (target solver=SCIPY).\n",
      "(CVXPY) Apr 12 01:30:34 AM: Reduction chain: Dcp2Cone -> CvxAttr2Constr -> ConeMatrixStuffing -> SCIPY\n",
      "(CVXPY) Apr 12 01:30:34 AM: Applying reduction Dcp2Cone\n",
      "(CVXPY) Apr 12 01:30:34 AM: Applying reduction CvxAttr2Constr\n",
      "(CVXPY) Apr 12 01:30:34 AM: Applying reduction ConeMatrixStuffing\n",
      "(CVXPY) Apr 12 01:30:35 AM: Applying reduction SCIPY\n",
      "(CVXPY) Apr 12 01:30:35 AM: Finished problem compilation (took 1.957e+00 seconds).\n",
      "-------------------------------------------------------------------------------\n",
      "                                Numerical solver                               \n",
      "-------------------------------------------------------------------------------\n",
      "(CVXPY) Apr 12 01:30:35 AM: Invoking solver SCIPY  to obtain a solution.\n",
      "Solver terminated with message: Optimization terminated successfully. (HiGHS Status 7: Optimal)\n",
      "-------------------------------------------------------------------------------\n",
      "                                    Summary                                    \n",
      "-------------------------------------------------------------------------------\n",
      "(CVXPY) Apr 12 01:30:35 AM: Problem status: optimal\n",
      "(CVXPY) Apr 12 01:30:35 AM: Optimal value: 1.400e+02\n",
      "(CVXPY) Apr 12 01:30:35 AM: Compilation took 1.957e+00 seconds\n",
      "(CVXPY) Apr 12 01:30:35 AM: Solver (including time spent in interface) took 5.086e-02 seconds\n"
     ]
    },
    {
     "data": {
      "text/plain": [
       "140.0"
      ]
     },
     "execution_count": 139,
     "metadata": {},
     "output_type": "execute_result"
    }
   ],
   "source": [
    "a = 2\n",
    "x = cp.Variable((n, m), integer = True) # set a variable that can only have integer values\n",
    "objective = cp.Minimize(cp.sum([cp.sum([x[i, P[i, 0]]  + a*x[i, P[i, 1]] + a**2*x[i,P[i, 2]] + a**3*x[i,P[i, 3]]for i in range(n)])]))\n",
    "\n",
    "course_constraint = []\n",
    "\n",
    "# each student gets exactly one course for j in preference of student i\n",
    "for i in range(n):\n",
    "    for j in range(m):\n",
    "        course_constraint += [cp.sum([x[i, j] for j in P[i, :]]) == 1]\n",
    "course_constraint += [x >= 0]\n",
    "\n",
    "## new constraint\n",
    "\n",
    "# create new variable q that indicates the size of c_j\n",
    "q = cp.Variable((m, 9), integer = True)\n",
    "\n",
    "for j in range(m):\n",
    "#    course_constraint += [cp.sum(x[:, j]) >= 9] # lower bound \n",
    "#    course_constraint += [cp.sum(x[:, j]) <= 11] # upper bound\n",
    "    course_constraint += [cp.sum(q[j, :]) == 1] \n",
    "\n",
    "course_constraint += [cp.sum(q[:, 0]) <= 5]\n",
    "course_constraint += [cp.sum(q[:, 5]) <= 3]\n",
    "course_constraint += [cp.sum(q[:, 6]) <= 4]\n",
    "course_constraint += [cp.sum(q[:, 7]) <= 1]\n",
    "course_constraint += [cp.sum(q[:, 8]) <= 9]\n",
    "\n",
    "for j in range(m):\n",
    "    assigned_students = cp.sum([x[i, j] for i in Xj[j]])\n",
    "    max_students = cp.sum([s * q[j, s - 6] for s in range(6, 15)])\n",
    "    course_constraint += [assigned_students == max_students]\n",
    "\n",
    "prob = cp.Problem(objective, course_constraint)\n",
    "prob.solve(verbose=True)"
   ]
  },
  {
   "cell_type": "code",
   "execution_count": 140,
   "metadata": {},
   "outputs": [
    {
     "name": "stdout",
     "output_type": "stream",
     "text": [
      "[11. 12. 12. 12. 10. 14. 13. 13. 15.  8. 12.  8.]\n"
     ]
    }
   ],
   "source": [
    "count = np.zeros(12)\n",
    "\n",
    "for i in range(n):\n",
    "    for j in range(m):\n",
    "        if x[i, j].value == 1:\n",
    "            count[j] += 1\n",
    "\n",
    "print(count)"
   ]
  },
  {
   "cell_type": "code",
   "execution_count": 90,
   "metadata": {},
   "outputs": [
    {
     "data": {
      "image/png": "[encoded data removed]",
      "text/plain": [
       "<Figure size 500x300 with 1 Axes>"
      ]
     },
     "metadata": {},
     "output_type": "display_data"
    }
   ],
   "source": [
    "# Count the number of students assigned to each preference rank\n",
    "preferences_count = np.zeros(4)\n",
    "for i in range(n):\n",
    "    for j in range(4):\n",
    "        if x[i, P[i, j]].value == 1:\n",
    "            preferences_count[j] += 1\n",
    "\n",
    "# Plotting the bar graph\n",
    "plt.figure(figsize=(5, 3))\n",
    "plt.bar(['1st', '2nd', '3rd', '4th'], preferences_count)\n",
    "plt.xlabel('Preference')\n",
    "plt.ylabel('Number of Students')\n",
    "plt.show()"
   ]
  },
  {
   "cell_type": "markdown",
   "metadata": {},
   "source": [
    "Without the course constraint, there would be some students who will be placed to their second-ranked choice. Expanding the course size and allowing to be able to decrease the course size will minimize the dissatisfaction of students."
   ]
  },
  {
   "cell_type": "markdown",
   "metadata": {},
   "source": [
    "#### Set Gender Constraints"
   ]
  },
  {
   "cell_type": "markdown",
   "metadata": {},
   "source": [
    "Plot graph for the demographics of students of each course"
   ]
  },
  {
   "cell_type": "code",
   "execution_count": 363,
   "metadata": {},
   "outputs": [
    {
     "data": {
      "image/png": "[encoded data removed]",
      "text/plain": [
       "<Figure size 1000x400 with 1 Axes>"
      ]
     },
     "metadata": {},
     "output_type": "display_data"
    }
   ],
   "source": [
    "df = pd.DataFrame(0, index = np.arange(m), columns = ['Course ID', 'Male', 'International', 'Female'])\n",
    "\n",
    "for j in range(m):\n",
    "    for i in range(n):\n",
    "        df.at[j, 'Course ID'] = j\n",
    "        # if student i get assigned to course j\n",
    "        if x[i, j].value == 1:\n",
    "            # add to dataframe if student i is an international student\n",
    "            if students[i][2] == 1:\n",
    "                df.at[j, 'International'] += 1\n",
    "            else:\n",
    "                if students[i][1] == 1:\n",
    "                    df.at[j, 'Female'] += 1\n",
    "                else:\n",
    "                    df.at[j, 'Male'] += 1\n",
    "# plot stacked bar chart \n",
    "\n",
    "df.plot(x = 'Course ID', kind = 'bar', stacked = True, title = 'Demographic of students', figsize = (10, 4))\n",
    "plt.show()"
   ]
  },
  {
   "cell_type": "markdown",
   "metadata": {},
   "source": [
    "**Gender constraint**\n",
    "\n",
    "There are at least 4 male and 4 female in each course\n",
    "\n",
    "* $\\sum_{i \\in M \\cap X_j} x_{i,j} \\geq 4$\n",
    "* $\\sum_{i \\in F \\cap X_j} x_{i,j} \\geq 4$\n",
    "\n",
    "The same idea from the course size constraint can be used for the gender constraint to help loosened the constraint of having at least 4 male and female.\n",
    "\n",
    "The paper introduced a new variable $y_{m,j} = 1$ when $C_j$ has a value of m males, and 0 otherwise. So, we can make sure that $C_j$ has a maximum of m number of males:\n",
    "$$\\sum_{m=0}^{17} y_{m,j} = 1 \\quad \\forall j$$\n",
    "and thus, the total number of male students enrolled in $C_j$ can be equal to the maximum number of male students a course can have by multiplying m with $\\sum_{m=0}^{17} y_{m,j}$:\n",
    "$$\\sum_{i \\in M \\cap X_j} x_{i,j} = \\sum_{m=0}^{17} my_{m,j} \\quad \\forall j$$\n",
    "\n",
    "Similarly, we will have the same formula for the number of females in a course:\n",
    "$$\\sum_{i \\in F \\cap X_j} x_{i,j} = \\sum_{f=0}^{17} fy_{f,j} \\quad \\forall j$$"
   ]
  },
  {
   "cell_type": "markdown",
   "metadata": {},
   "source": [
    "Since the scale is smaller, we will expect at least 2 male and 2 female in each course. \n",
    "* $\\sum_{i \\in M \\cap X_j} x_{i,j} \\geq 4$\n",
    "* $\\sum_{i \\in F \\cap X_j} x_{i,j} \\geq 4$"
   ]
  },
  {
   "cell_type": "markdown",
   "metadata": {},
   "source": [
    "\n",
    "$$\\sum_{m=0}^{6} y_{m,j} = 1$$\n",
    "$$\\sum_{f=0}^{6} y_{f,j} = 1$$\n",
    "$$\\sum_{i \\in M \\cap X_j} x_{i,j} = \\sum_{m=0}^{17} my_{m,j}$$\n",
    "$$\\sum_{i \\in F \\cap X_j} x_{i,j} = \\sum_{f=0}^{17} fy_{f,j}$$"
   ]
  },
  {
   "cell_type": "code",
   "execution_count": null,
   "metadata": {},
   "outputs": [],
   "source": [
    "gender_constraint = []\n",
    "# create new variable y that indicates the \n",
    "m = range(6, 14)\n",
    "q = cp.Variable((m, len(s)), integer = True)"
   ]
  },
  {
   "cell_type": "code",
   "execution_count": null,
   "metadata": {},
   "outputs": [],
   "source": [
    "# create new variable q that indicates the size of c_j\n",
    "s = range(6, 14)\n",
    "q = cp.Variable((m, len(s)), integer = True)\n",
    "constraint = []\n",
    "course_constraint = []\n",
    "q_constraint = [cp.sum(q[j, :]) == 1 for j in range(m)]\n",
    "Q_constraint = [cp.sum(q[:, 0]) <= 1] \n",
    "Q_constraint1 = [cp.sum(q[:, 6]) <= 1] \n",
    "Q_constraint2 = [cp.sum(q[:, 7]) <= 1] \n",
    "course_constraint += q_constraint + Q_constraint + Q_constraint1 + Q_constraint2\n",
    "course_constraint += [cp.sum([x[i, j] for i in Xj[j]]) == cp.sum([cp.multiply(s, q [j, s]) for s in range(2)]) for j in range(m)]\n",
    "objective = cp.Minimize(cp.sum([cp.sum([x[i, P[i,0]]  + a*x[i, P[i,1]] + a**2*x[i,P[i,2]] + a**3*x[i,P[i,3]]for i in range(n)])]))\n",
    "\n",
    "for i in range(n):\n",
    "    for j in range(m):\n",
    "        constraint += [cp.sum([x[i, j] for j in P[i, :]]) == 1]\n",
    "constraint += [x >= 0]\n",
    "\n",
    "constraint += course_constraint + gender_constraint\n",
    "\n",
    "prob = cp.Problem(objective, constraint)\n",
    "prob.solve(verbose=True)"
   ]
  },
  {
   "cell_type": "markdown",
   "metadata": {},
   "source": [
    "#### Set international students constraints"
   ]
  },
  {
   "cell_type": "markdown",
   "metadata": {},
   "source": [
    "$$\\sum_{i \\in I \\cap X_j} x_{i,j} \\leq 8$$"
   ]
  },
  {
   "cell_type": "code",
   "execution_count": null,
   "metadata": {},
   "outputs": [],
   "source": []
  },
  {
   "cell_type": "markdown",
   "metadata": {},
   "source": [
    "#### Create Functions"
   ]
  },
  {
   "cell_type": "markdown",
   "metadata": {},
   "source": [
    "**Solve**"
   ]
  },
  {
   "cell_type": "code",
   "execution_count": null,
   "metadata": {},
   "outputs": [],
   "source": []
  }
 ],
 "metadata": {
  "kernelspec": {
   "display_name": "comet",
   "language": "python",
   "name": "python3"
  },
  "language_info": {
   "codemirror_mode": {
    "name": "ipython",
    "version": 3
   },
   "file_extension": ".py",
   "mimetype": "text/x-python",
   "name": "python",
   "nbconvert_exporter": "python",
   "pygments_lexer": "ipython3",
   "version": "3.11.5"
  }
 },
 "nbformat": 4,
 "nbformat_minor": 2
}
