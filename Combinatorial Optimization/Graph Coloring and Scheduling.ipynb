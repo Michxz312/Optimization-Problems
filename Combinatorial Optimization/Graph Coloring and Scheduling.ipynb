{
 "cells": [
  {
   "cell_type": "code",
   "execution_count": 7,
   "metadata": {},
   "outputs": [],
   "source": [
    "import networkx as nx\n",
    "import matplotlib.pyplot as plt\n",
    "import matplotlib.colors as mpl"
   ]
  },
  {
   "cell_type": "markdown",
   "metadata": {},
   "source": [
    "### Graph Coloring Problem "
   ]
  },
  {
   "cell_type": "markdown",
   "metadata": {},
   "source": [
    "#### Key words:\n",
    "\n",
    "Vertex Coloring: Assigning colors to the vertices of a graph such that no two vertices sharing the same edge have the same color. \n",
    "\n",
    "K-coloring: using at most k colors to assign colors to the vertices of a graph\n",
    "\n",
    "Chromatic coloring: the minimum number of colors necessary for vertex coloring of graph\n",
    "\n",
    "Source: https://en.wikipedia.org/wiki/Graph_coloring"
   ]
  },
  {
   "cell_type": "markdown",
   "metadata": {},
   "source": [
    "### 1. State the problem\n",
    "\n",
    "Suppose there is a Vertex $V_i$ and Color $C_i$. Assign a color to a vertex such that no vertex adjacent to each other have the same color."
   ]
  },
  {
   "cell_type": "markdown",
   "metadata": {},
   "source": [
    "### 2. Define the parameters and variables\n",
    "\n",
    "**Parameters:**\n",
    "\n",
    "* $V_{i}$ = vertex i\n",
    "* $C_{k}$ = color k\n",
    "* $E_{i,j}$ = The edge is connected to vertex i to vertex j\n",
    "\n",
    "**Decision Variables:**\n",
    "* Let $V_{i,k}$ = 1 if it's assigned to a color k, and 0 otherwise\n",
    "\n",
    "**Objective:**\n",
    "\n",
    "\n",
    "Fill all vertex i with color k that satisfies the constraints"
   ]
  },
  {
   "cell_type": "markdown",
   "metadata": {},
   "source": [
    "### 3. State the assumptions and constraints\n",
    "\n",
    "**Assumptions**\n",
    "\n",
    "**Constraints**\n",
    "\n",
    "* The vertex should only be assigned to one color\n",
    "\n",
    "\n",
    "- If a vertex is connected to a maximum of n number of edges, then the minimum color available should be n+1."
   ]
  },
  {
   "cell_type": "markdown",
   "metadata": {},
   "source": [
    "### 4. Build the solutions"
   ]
  },
  {
   "cell_type": "code",
   "execution_count": null,
   "metadata": {},
   "outputs": [],
   "source": []
  },
  {
   "cell_type": "code",
   "execution_count": null,
   "metadata": {},
   "outputs": [],
   "source": []
  }
 ],
 "metadata": {
  "kernelspec": {
   "display_name": "comet",
   "language": "python",
   "name": "python3"
  },
  "language_info": {
   "codemirror_mode": {
    "name": "ipython",
    "version": 3
   },
   "file_extension": ".py",
   "mimetype": "text/x-python",
   "name": "python",
   "nbconvert_exporter": "python",
   "pygments_lexer": "ipython3",
   "version": "3.11.5"
  }
 },
 "nbformat": 4,
 "nbformat_minor": 2
}
