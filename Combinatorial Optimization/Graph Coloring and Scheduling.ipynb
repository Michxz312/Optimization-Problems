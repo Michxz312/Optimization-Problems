{
 "cells": [
  {
   "cell_type": "code",
   "execution_count": 7,
   "metadata": {},
   "outputs": [],
   "source": [
    "import networkx as nx\n",
    "import matplotlib.pyplot as plt\n",
    "import matplotlib.colors as mpl"
   ]
  },
  {
   "cell_type": "markdown",
   "metadata": {},
   "source": [
    "### Graph Coloring Problem "
   ]
  },
  {
   "cell_type": "markdown",
   "metadata": {},
   "source": [
    "#### Key words:\n",
    "\n",
    "Vertex Coloring: Assigning colors to the vertices of a graph such that no two vertices sharing the same edge have the same color. \n",
    "\n",
    "K-coloring: using at most k colors to assign colors to the vertices of a graph\n",
    "\n",
    "Chromatic coloring: the minimum number of colors necessary for vertex coloring of graph\n",
    "\n",
    "#### Polynomial time:\n",
    "\n",
    "- We can easily decide if a graph can be assigned to 2 colors by checking if the graph can be divided into two sets (bipartite graph). \n",
    "- This is computable in linear time\n",
    "\n",
    "However, the running time is $\\mathcal{O} (2^n)$ if a graph have n vertices with k colors. In the set partitioning problem, we are finding the total ways that the elements can be divided into subsets. For each element, we decide whether to include it or not, so the worst case is 2^n possible combinations. From the different ways of dividing the sets, there might be a set with a number of subset equal to k. \n",
    "\n",
    "- this is almost the brute force method because we are finding the number of sets that can be formed by the graph and then assigning the color.\n",
    "\n",
    "#### Greedy coloring:\n",
    "\n",
    "- Similar to greedy algorithm, it considers the graph in an order and assigns each vertex the first color that satisfies the constraints. \n",
    "- This can be found in linear time, but it might not use the minimum number of colors possible because it depends on the order of the graph\n",
    "\n",
    "Source: https://en.wikipedia.org/wiki/Graph_coloring"
   ]
  },
  {
   "cell_type": "markdown",
   "metadata": {},
   "source": [
    "### Changing the graph coloring problem into scheduling problem\n",
    "\n",
    "It seems that the graph coloring problem is more suitable for the assigning problem because we are assigning k colors to n number of vertices. However, we can turn this into a scheduling problem if we consider the graph in a certain order, treat the vertices like flight legs and the routes as colors. The edges will be treated as a constraint to check if two pairs of vertices have the same color. \n",
    "\n",
    "Since the amount of neighbors determine the minimum number of colors, then we can sort the graph in order of the most neighbors to the least neighbors when implementing the greedy algorithm."
   ]
  },
  {
   "cell_type": "markdown",
   "metadata": {},
   "source": [
    "#### 1. State the problem\n",
    "\n",
    "Suppose there is a graph G with edges $E_{ij}$ and vertex $V_i$. We have k colors denoted by $C_k$. Considering that the vertices have an order starting from the most neighbour to the least neighbour, schedule th least number of k colors such that the edges connected to vertex i and vertex j are not the same color. "
   ]
  },
  {
   "cell_type": "markdown",
   "metadata": {},
   "source": [
    "#### 2. Define the parameters and variables\n",
    "\n",
    "**Parameters:**\n",
    "* n = number of vertices\n",
    "* m = number of edges\n",
    "* k = number of colors\n",
    "* $V_{i}$ = vertex i\n",
    "* $C_{k}$ = color k\n",
    "* $E_{i,j}$ = The edge is connected to vertex i to vertex j\n",
    "\n",
    "**Decision Variables:**\n",
    "* Let $v_{i,k}$ = 1 if it's assigned to a color k, and 0 otherwise\n",
    "* Let $E_{i,j}$ = 1 if vertex i is assigned to vertex j, and 0 otherwise\n",
    "\n",
    "**Objective:**\n",
    "Minimize the total number of colors assigned to the vertices\n",
    "$$\\text{min} \\quad C_k$$"
   ]
  },
  {
   "cell_type": "markdown",
   "metadata": {},
   "source": [
    "#### 3. State the assumptions and constraints\n",
    "\n",
    "**Assumptions**\n",
    "- If a vertex is connected to a maximum of n number of edges, then the minimum color available should be n+1\n",
    "\n",
    "**Constraints**\n",
    "\n",
    "* The vertex should only be assigned to one color\n",
    "$$\\sum_{i=1}^n V_{i,k} = 1$$\n",
    "* The vertices connected by an edge cannot have the same color\n",
    "$$\\sum_{k=1}^k E_{i,j} = 1$$"
   ]
  },
  {
   "cell_type": "markdown",
   "metadata": {},
   "source": [
    "#### 4. Build the solutions"
   ]
  },
  {
   "cell_type": "code",
   "execution_count": null,
   "metadata": {},
   "outputs": [],
   "source": []
  },
  {
   "cell_type": "code",
   "execution_count": null,
   "metadata": {},
   "outputs": [],
   "source": []
  },
  {
   "cell_type": "markdown",
   "metadata": {},
   "source": [
    "#### 5. Evaluation"
   ]
  },
  {
   "cell_type": "markdown",
   "metadata": {},
   "source": [
    "apply to exam scheduling problem"
   ]
  }
 ],
 "metadata": {
  "kernelspec": {
   "display_name": "comet",
   "language": "python",
   "name": "python3"
  },
  "language_info": {
   "codemirror_mode": {
    "name": "ipython",
    "version": 3
   },
   "file_extension": ".py",
   "mimetype": "text/x-python",
   "name": "python",
   "nbconvert_exporter": "python",
   "pygments_lexer": "ipython3",
   "version": "3.11.5"
  }
 },
 "nbformat": 4,
 "nbformat_minor": 2
}
