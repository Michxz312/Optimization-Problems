{
 "cells": [
  {
   "cell_type": "code",
   "execution_count": 13,
   "metadata": {},
   "outputs": [],
   "source": [
    "import numpy as np\n",
    "import matplotlib.pyplot as plt\n",
    "# import google or-tools for solving comvinatorial optimization problem\n",
    "from ortools.linear_solver import pywraplp\n",
    "from ortools.sat.python import cp_model"
   ]
  },
  {
   "cell_type": "markdown",
   "metadata": {},
   "source": [
    "## Solving Combinatorial Optimization using Google OR-Tools"
   ]
  },
  {
   "cell_type": "markdown",
   "metadata": {},
   "source": [
    "### Google OR-Tools example: Travelling Salesman Problem"
   ]
  },
  {
   "cell_type": "markdown",
   "metadata": {},
   "source": [
    "The travelling salesman problem is a popular routing problem that can be solve by combinatorial optimization. Suppose a salesman is trying to go to n number of cities and the distance to travel from each city ot the other is denoted by $d_{ij}$. The goal is to find the minimum distance for the salesman to go to all cities.\n",
    "\n",
    "**Parameters:**\n",
    "- number of cities: n \n",
    "- $c_{ij}$ : distance from city i to city j\n",
    "\n",
    "**Decision variables:**\n",
    "- $x_{ij} = 1$ if the salesman travels from city i to city j\n",
    "\n",
    "**Dummy variable**\n",
    "- $u_{i}$ : keeps the sequence of city i visited\n",
    "\n",
    "**Formulation:**\n",
    "\n",
    "Objective function:\n",
    "\n",
    "we minimize the distance that the salesman have to go\n",
    "$$\\text{min} \\sum_{i = 1}^n \\sum_{j \\neq i, j = 1}^n c_{ij}x_{ij}$$\n",
    "\n",
    "subject to:\n",
    "\n",
    "Each city needs to be visited: \n",
    "$$\\sum_{i = 1, i \\neq j} x_{ij} = 1 \\quad j = 1, \\dots, n$$ \n",
    "$$\\sum_{j = 1, j \\neq i} x_{ij} = 1 \\quad i = 1, \\dots, n$$\n",
    "\n",
    "The cities need to be visited exactly once so there should not be a loop that visits a subset of cities without visiting all cities exactly once. This means $u_i < u_j$, so $u_j \\geq u_i + 1$ if $x_{ij} = 1$, so city i is visited first before city j.\n",
    "\n",
    "$$u_i - u_j + 1 \\leq (n-1)(1-x_{ij}) \\quad 2 \\leq i \\neq j \\leq n$$\n",
    "When $x_{ij} = 0$, the salesman doesn't visit city i to city j, so $u_i - u_j + 1 \\leq (n-1)$, which implies that the biggest difference, if city i is visited before city j, is at most n-1. Since we need $u_i < u_j$, then $u_j$ is visited n-1 cities after $u_i$.\n",
    "\n",
    "Since the starting point is 1, then the order of city i start from 2 to n, the number of cities.\n",
    "$$2 \\leq u_i \\leq n$$\n",
    "\n",
    "(Wikipedia, \"Travelling Salesman Problem\")\n",
    "The following data set is taken from GeeksforGeeks (\"Traveling Salesman Problem (TSP) Implementation\"):"
   ]
  },
  {
   "cell_type": "code",
   "execution_count": 53,
   "metadata": {},
   "outputs": [],
   "source": [
    "dist_matrix = [[0, 10, 15, 20], \n",
    "               [10, 0, 35, 25], \n",
    "               [15, 35, 0, 30], \n",
    "               [20, 25, 30, 0]]\n",
    "\n",
    "n = len(dist_matrix)"
   ]
  },
  {
   "cell_type": "markdown",
   "metadata": {},
   "source": [
    "The first row of dist_matrix contains the distance of city 1 to other cities. For example, the distance from city 1 to city 1 is 0. The distance from city 1 to city 2 is 10, and so on... The second row contains the distance of city 2 to other cities. The third row contains the distance of city 3 to other cities. The fourth row contains the distance of city 4 to other cities. "
   ]
  },
  {
   "cell_type": "markdown",
   "metadata": {},
   "source": [
    "The code example for TSP problem using Google OR-Tools is adapted from Google Developers (\"Assignment Problem Example\")"
   ]
  },
  {
   "cell_type": "code",
   "execution_count": 95,
   "metadata": {},
   "outputs": [
    {
     "name": "stdout",
     "output_type": "stream",
     "text": [
      "Minimum distance: 80.0\n"
     ]
    }
   ],
   "source": [
    "# Solving MIP problem requires using SCIP\n",
    "solver = pywraplp.Solver.CreateSolver('SCIP')\n",
    "x = {}\n",
    "# all variables are index-0\n",
    "for i in range(n):\n",
    "    for j in range(n):\n",
    "        # x[i, j] can only have 0 and 1 value\n",
    "        # x[i, j] will be 1 if salesman goes from city i to city j, and 0 otherwise\n",
    "        x[i, j] = solver.IntVar(0, 1, \"\")\n",
    "\n",
    "# define the objective function\n",
    "objective = []\n",
    "for i in range(n):\n",
    "    for j in range(n):\n",
    "        if j != i:\n",
    "            objective.append(dist_matrix[i][j]*x[i, j])\n",
    "solver.Minimize(solver.Sum(objective))\n",
    "\n",
    "# Each city is visited at least once\n",
    "for j in range(n):\n",
    "    solver.Add(solver.Sum(x[i, j] for i in range(n) if i != j) == 1)\n",
    "for i in range(n):\n",
    "    solver.Add(solver.Sum(x[i, j] for j in range(n) if j != i) == 1)\n",
    "\n",
    "# create new decision variables\n",
    "u = {}\n",
    "for i in range(1, n):\n",
    "    u[i] = solver.IntVar(0, 1, \"\")\n",
    "\n",
    "# no subloops\n",
    "# 2 <= i <= n\n",
    "for i in range(1, n):\n",
    "     # 2 <= j <= n\n",
    "     for j in range(1, n):\n",
    "        if j != i and i != 1 and j != 1:\n",
    "            solver.Add(u[i] - u[j] + 1 <= (n - 1)*(1 - x[i, j]))\n",
    "            \n",
    "status = solver.Solve()\n",
    "# get the minimum distance that the salesman will travel\n",
    "print(\"Minimum distance:\", solver.Objective().Value())"
   ]
  },
  {
   "cell_type": "code",
   "execution_count": 96,
   "metadata": {},
   "outputs": [
    {
     "name": "stdout",
     "output_type": "stream",
     "text": [
      "[(1, 3), (2, 4), (3, 1), (4, 2)]\n"
     ]
    }
   ],
   "source": [
    "route = []\n",
    "for i in range(n):\n",
    "    for j in range(n):\n",
    "        if i != j and x[i, j].solution_value() == 1:\n",
    "            route.append((i + 1, j + 1))\n",
    "\n",
    "print(route)"
   ]
  },
  {
   "cell_type": "markdown",
   "metadata": {},
   "source": [
    "Thus, from the pairings, we can see that the route is city 1-3-4-2-1, which gives the minimum cost 15 + 30 + 25 + 10 = 80. It gives a different route than the website article of traveling salesman problem tsp implementation, but it still gives the same minimum cost."
   ]
  },
  {
   "cell_type": "markdown",
   "metadata": {},
   "source": [
    "### Google OR-Tools example: Packing problem "
   ]
  },
  {
   "cell_type": "markdown",
   "metadata": {},
   "source": [
    "The knapsack problem is similar to the assignment problem, but we are trying to put as much valuable items as possible to a bag. The problem is not being able to fit everything, so we have to assign which items are more valuable to put into the bag. \n",
    "\n",
    "**parameters:**\n",
    "- number of items: n\n",
    "- $v_i$ : value of each item i\n",
    "- $w_i$ : the weight of each item i\n",
    "- c: maximum capacity of the bag\n",
    "\n",
    "**decision variables:**\n",
    "- $x_i = 1$ if we put item i into the bag, and 0 otherwise\n",
    "\n",
    "**Formulation:**\n",
    "\n",
    "Objective function:\n",
    "\n",
    "maximize the total value of the items that goes into the bag\n",
    "$$ \\sum_{i = 1}^n v_i x_i$$\n",
    "subject to:\n",
    "$$ \\sum_{i = 1}^n w_i x_i \\leq c$$\n",
    "The sum of all items placed into the bag should be less than the maximum capacity of the bag.\n",
    "\n",
    "(Wikipedia, \"Knapsack Problem\")\n",
    "\n",
    "Let there be n = 100 number of items. First, we create the dataset for 100 items. Both values and weights will be randomly generated and the maximum capacity of the bag is 200. "
   ]
  },
  {
   "cell_type": "code",
   "execution_count": 3,
   "metadata": {},
   "outputs": [],
   "source": [
    "values = [np.random.randint(1, 100) for i in range(100)]\n",
    "weights = [np.random.randint(1, 100) for i in range(100)]\n",
    "c = 200"
   ]
  },
  {
   "cell_type": "code",
   "execution_count": 4,
   "metadata": {},
   "outputs": [],
   "source": [
    "# create models, variables, and constraints\n",
    "model = cp_model.CpModel()\n",
    "\n",
    "# create decision variable\n",
    "# creates a 0-1 variable \n",
    "# x[i] = 1 if item i is in the bag\n",
    "x = [model.NewBoolVar(f'x-{i}') for i in range(100)]\n",
    "\n",
    "# define the objective function\n",
    "# Maximize the total value of the items in the bag\n",
    "objective = []\n",
    "for i in range(100):\n",
    "    objective.append(values[i] *  x[i])\n",
    "model.Maximize(sum(objective))\n",
    "\n",
    "# Define the constraitns\n",
    "# The total weight of items into the bag shouldn't exceed its capacity\n",
    "total_weights =[]\n",
    "for i in range(100):\n",
    "    total_weights.append(weights[i] * x[i])\n",
    "model.Add(sum(total_weights) <= c)\n",
    "\n",
    "# solve the model and evaluating solutions\n",
    "solver = cp_model.CpSolver()\n",
    "status = solver.Solve(model)"
   ]
  },
  {
   "cell_type": "code",
   "execution_count": 5,
   "metadata": {},
   "outputs": [
    {
     "name": "stdout",
     "output_type": "stream",
     "text": [
      "Item : 1 Value : 27\n",
      "Item : 2 Value : 57\n",
      "Item : 12 Value : 25\n",
      "Item : 31 Value : 24\n",
      "Item : 34 Value : 60\n",
      "Item : 47 Value : 78\n",
      "Item : 48 Value : 48\n",
      "Item : 49 Value : 88\n",
      "Item : 56 Value : 77\n",
      "Item : 64 Value : 85\n",
      "Item : 69 Value : 73\n",
      "Item : 70 Value : 90\n",
      "Item : 76 Value : 67\n",
      "Item : 98 Value : 82\n",
      "Total weight:  200\n",
      "Total value:  881\n"
     ]
    }
   ],
   "source": [
    "# Print results\n",
    "items_in_bag = []\n",
    "# get the items in the bag from the solution of the solver\n",
    "for i in range(100):\n",
    "    if solver.Value(x[i]):\n",
    "        items_in_bag.append(i)\n",
    "        print('Item :', i, 'Value :', values[i])\n",
    "# for all items in bag, get the total weight\n",
    "total_weights = sum(weights[i] for i in items_in_bag)\n",
    "# for all items in bag, get the total value\n",
    "total_value = sum(values[i] for i in items_in_bag)\n",
    "print('Total weight: ', total_weights)\n",
    "print('Total value: ', total_value)"
   ]
  },
  {
   "cell_type": "markdown",
   "metadata": {},
   "source": [
    "### References\n",
    "\n",
    "* “Travelling Salesman Problem.” Wikipedia, Wikimedia Foundation, 3 Mar. 2024, en.wikipedia.org/wiki/Travelling_salesman_problem. (MTZ formulation)\n",
    "* Singh, Nishant. “Traveling Salesman Problem (TSP) Implementation.” GeeksforGeeks, 11 Nov. 2017, www.geeksforgeeks.org/traveling-salesman-problem-tsp-implementation/\n",
    "* “Solving an Assignment Problem | OR-Tools.” Google Developers, developers.google.com/optimization/assignment/assignment_example\n",
    "* “Knapsack Problem.” Wikipedia, 5 Sept. 2020, en.wikipedia.org/wiki/Knapsack_problem"
   ]
  }
 ],
 "metadata": {
  "kernelspec": {
   "display_name": "comet",
   "language": "python",
   "name": "python3"
  },
  "language_info": {
   "codemirror_mode": {
    "name": "ipython",
    "version": 3
   },
   "file_extension": ".py",
   "mimetype": "text/x-python",
   "name": "python",
   "nbconvert_exporter": "python",
   "pygments_lexer": "ipython3",
   "version": "3.11.5"
  }
 },
 "nbformat": 4,
 "nbformat_minor": 2
}
