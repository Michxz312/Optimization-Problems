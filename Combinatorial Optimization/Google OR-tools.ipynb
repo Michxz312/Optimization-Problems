{
 "cells": [
  {
   "cell_type": "code",
   "execution_count": 2,
   "metadata": {},
   "outputs": [],
   "source": [
    "import numpy as np\n",
    "# import google or-tools for solving comvinatorial optimization problem\n",
    "import collections\n",
    "from ortools.constraint_solver import routing_enums_pb2\n",
    "from ortools.constraint_solver import pywrapcp\n",
    "from ortools.sat.python import cp_model"
   ]
  },
  {
   "cell_type": "markdown",
   "metadata": {},
   "source": [
    "## Solving Combinatorial Optimization using Google OR-Tools"
   ]
  },
  {
   "cell_type": "markdown",
   "metadata": {},
   "source": [
    "### Google OR-Tools example: Travelling Salesman Problem"
   ]
  },
  {
   "cell_type": "markdown",
   "metadata": {},
   "source": [
    "The travelling salesman problem is a popular routing problem that can be solve by combinatorial optimization. Suppose a salesman is trying to go to n number of cities and the distance to travel from each city ot the other is denoted by $d_{ij}$. The goal is to find the minimum distance for the salesman to go to all cities. "
   ]
  },
  {
   "cell_type": "markdown",
   "metadata": {},
   "source": [
    "**Parameters:**\n",
    "- number of cities: n \n",
    "- $d_{ij}$ : distance from city i to city j\n",
    "\n",
    "**Decision variables:**\n",
    "- $x_{ij} = 1$ if vehicle travels from node i to node j\n",
    "\n",
    "**Dummy variable**\n",
    "- $u_{i}$ : keeps the sequence of city i visited\n",
    "\n",
    "**Formulation:**\n",
    "\n",
    "Objective function:\n",
    "\n",
    "we minimize the distance that the salesman have to go\n",
    "$$\\text{min} \\sum_{i \\in V} \\sum_{j \\in V} c_{ij}x_{ij}$$\n",
    "\n",
    "subject to:\n",
    "\n",
    "Each city needs to be visited: \n",
    "$$\\sum_{i = 1}^n \\sum_{i = 1, i \\neq j} x_{ij} = 1 \\quad j = 1, \\dots, n$$ \n",
    "$$\\sum_{j = 1}^n \\sum_{j = 1, j \\neq i} x_{ij} = 1 \\quad i = 1, \\dots, n$$\n",
    "\n",
    "The cities need to be visited exactly once so there should not be a loop that visits a subset of cities without visiting all cities exactly once. This means $u_i < u_j$, so $u_j \\geq u_i + 1$ if $x_{ij} = 1$, so city i is visited first before city j.\n",
    "\n",
    "$$u_i - u_j + 1 \\leq (n-1)(1-x_{ij}) \\quad 2 \\leq i \\neq j \\leq n$$\n",
    "When $x_{ij} = 0$, the salesman doesn't visit city i to city j, so $u_i - u_j + 1 \\leq (n-1)$, which implies that the biggest difference, if city i is visited before city j, is at most n-1. Since we need $u_i < u_j$, then $u_j$ is visited n-1 cities after $u_i$.\n",
    "\n",
    "Since the starting point is 1, then the order of city i start from 2 to n, the number of cities.\n",
    "$$2 \\leq u_i \\leq n$$\n",
    "\n",
    "\n",
    "source: https://en.wikipedia.org/wiki/Travelling_salesman_problem (MTZ formulation)"
   ]
  },
  {
   "cell_type": "markdown",
   "metadata": {},
   "source": [
    "The original CP solver is the foundation of the routing library."
   ]
  },
  {
   "cell_type": "code",
   "execution_count": null,
   "metadata": {},
   "outputs": [],
   "source": []
  },
  {
   "cell_type": "code",
   "execution_count": null,
   "metadata": {},
   "outputs": [],
   "source": []
  },
  {
   "cell_type": "markdown",
   "metadata": {},
   "source": [
    "### Google OR-Tools example: Scheduling Problem"
   ]
  },
  {
   "cell_type": "markdown",
   "metadata": {},
   "source": [
    "The equipment scheduling problem is taken from Vanderbei (P. 389-390). Suppose there are n number of routes and m number of legs, a flight departing and arriving at some location. The goal is to find the minimum cost from the collection of potential routes. "
   ]
  },
  {
   "cell_type": "markdown",
   "metadata": {},
   "source": [
    "**parameters:**\n",
    "- $c_j$ : cost of using route j\n",
    "- $a_{ij} = 1$ of leg i is part of route j, and 0 otherwise\n",
    "\n",
    "**decision variables:**\n",
    "- $x_j = 1$ if route j is selected, and 0 otherwise\n",
    "\n",
    "**Formulation:**\n",
    "\n",
    "Objective function:\n",
    "\n",
    "minimize the cost of the total route \n",
    "$$\\text{min } \\sum_{j = 1}^n c_j x_j$$\n",
    "\n",
    "subject to:\n",
    "$$\\sum_{j = 1}^n a_{ij}x_j = 1 \\quad i = 1, 2, \\dots, m$$\n",
    "$$x_j \\in \\{0,1\\} j = 1, 2, \\dots, n$$\n"
   ]
  },
  {
   "cell_type": "markdown",
   "metadata": {},
   "source": [
    "Let there be 10 routes, and 15 leg."
   ]
  },
  {
   "cell_type": "code",
   "execution_count": 60,
   "metadata": {},
   "outputs": [
    {
     "name": "stdout",
     "output_type": "stream",
     "text": [
      "[17, 91, 39, 57, 16, 83, 58, 42, 62, 16]\n",
      "[[1, 0, 1, 1, 0, 1, 0, 0, 0, 1], [0, 0, 1, 0, 0, 0, 0, 1, 1, 1], [0, 0, 1, 1, 0, 1, 1, 1, 0, 0], [1, 0, 0, 0, 0, 1, 0, 1, 0, 0], [1, 1, 1, 0, 1, 0, 1, 1, 1, 0], [1, 0, 0, 0, 1, 1, 1, 0, 0, 0], [1, 0, 1, 0, 0, 0, 1, 1, 1, 0], [0, 1, 1, 0, 1, 1, 1, 1, 0, 0], [0, 0, 1, 1, 1, 1, 1, 1, 0, 1], [1, 1, 1, 0, 0, 0, 1, 0, 0, 1]]\n"
     ]
    }
   ],
   "source": [
    "n = 10\n",
    "m = 10\n",
    "\n",
    "c = [np.random.randint(1, 100) for j in range(n)] # cost of each route j\n",
    "print(c)\n",
    "\n",
    "a = [[np.random.randint(0, 2) for _ in range(n)] for _ in range(m)]\n",
    "print(a)"
   ]
  },
  {
   "cell_type": "code",
   "execution_count": 63,
   "metadata": {},
   "outputs": [],
   "source": [
    "# create models, variables, and constraints\n",
    "model = cp_model.CpModel()\n",
    "\n",
    "# create decision variables\n",
    "x = [model.NewBoolVar(f'x-{j}') for j in range(m)]\n",
    "\n",
    "# define the objective function\n",
    "# minimzing the total sum of cost of route j\n",
    "objective = []\n",
    "for j in range(n):\n",
    "    objective.append(c[j] * x[j])\n",
    "model.Minimize(sum(objective))\n",
    "\n",
    "# constraint: \n",
    "# the sum of each leg given that it is part of the route is 1\n",
    "# so, there can only be one route per leg\n",
    "for i in range(m):\n",
    "    model.Add(sum(a[i][j] * x[j] for j in range(n)) == 1)\n",
    "\n",
    "# solve the model and evaluating solutions\n",
    "solver = cp_model.CpSolver()\n",
    "status = solver.Solve(model)"
   ]
  },
  {
   "cell_type": "markdown",
   "metadata": {},
   "source": [
    "### Google OR-Tools example: Packing problem "
   ]
  },
  {
   "cell_type": "markdown",
   "metadata": {},
   "source": [
    "The knapsack problem is similar to the assignment problem, but we are trying to put as much valuable items as possible to a bag. The problem is not being able to fit everything, so we have to assign which item is more valuable to put into the bag. "
   ]
  },
  {
   "cell_type": "markdown",
   "metadata": {},
   "source": [
    "**parameters:**\n",
    "- number of items: n\n",
    "- $v_i$ : value of each item i\n",
    "- $w_i$ : the weight of each item i\n",
    "- c: maximum capacity of the bag\n",
    "\n",
    "**decision variables:**\n",
    "- $x_i = 1$ if we put item i into the bag, and 0 otherwise\n",
    "\n",
    "**Formulation:**\n",
    "\n",
    "Objective function:\n",
    "\n",
    "maximize the total value of the items that goes into the bag\n",
    "$$ \\sum_{i = 1}^n v_i x_i$$\n",
    "subject to:\n",
    "$$ \\sum_{i = 1}^n w_i x_i \\leq c$$\n",
    "The sum of all item placed into the bag should be less than the maximum capacity of the bag.\n",
    "\n",
    "\n",
    "source: https://en.wikipedia.org/wiki/Knapsack_problem"
   ]
  },
  {
   "cell_type": "markdown",
   "metadata": {},
   "source": [
    "Let there be n = 100 number of items. First, we create the dataset for 100 items. Both values and weights will be randomly generated and the maximum capacity of the bag is 200. "
   ]
  },
  {
   "cell_type": "code",
   "execution_count": 3,
   "metadata": {},
   "outputs": [],
   "source": [
    "values = [np.random.randint(1, 100) for i in range(100)]\n",
    "weights = [np.random.randint(1, 100) for i in range(100)]\n",
    "c = 200"
   ]
  },
  {
   "cell_type": "code",
   "execution_count": 4,
   "metadata": {},
   "outputs": [],
   "source": [
    "# create models, variables, and constraints\n",
    "model = cp_model.CpModel()\n",
    "\n",
    "# create decision variable\n",
    "# creates a 0-1 variable \n",
    "# x[i] = 1 if item i is in the bag\n",
    "x = [model.NewBoolVar(f'x-{i}') for i in range(100)]\n",
    "\n",
    "# define the objective function\n",
    "# Maximize the total value of the items in the bag\n",
    "objective = []\n",
    "for i in range(100):\n",
    "    objective.append(values[i] *  x[i])\n",
    "model.Maximize(sum(objective))\n",
    "\n",
    "# Define the constraitns\n",
    "# The total weight of items into the bag shouldn't exceed its capacity\n",
    "total_weights =[]\n",
    "for i in range(100):\n",
    "    total_weights.append(weights[i] * x[i])\n",
    "model.Add(sum(total_weights) <= c)\n",
    "\n",
    "# solve the model and evaluating solutions\n",
    "solver = cp_model.CpSolver()\n",
    "status = solver.Solve(model)"
   ]
  },
  {
   "cell_type": "code",
   "execution_count": 5,
   "metadata": {},
   "outputs": [
    {
     "name": "stdout",
     "output_type": "stream",
     "text": [
      "Item : 1 Value : 27\n",
      "Item : 2 Value : 57\n",
      "Item : 12 Value : 25\n",
      "Item : 31 Value : 24\n",
      "Item : 34 Value : 60\n",
      "Item : 47 Value : 78\n",
      "Item : 48 Value : 48\n",
      "Item : 49 Value : 88\n",
      "Item : 56 Value : 77\n",
      "Item : 64 Value : 85\n",
      "Item : 69 Value : 73\n",
      "Item : 70 Value : 90\n",
      "Item : 76 Value : 67\n",
      "Item : 98 Value : 82\n",
      "Total weight:  200\n",
      "Total value:  881\n"
     ]
    }
   ],
   "source": [
    "# Print results\n",
    "items_in_bag = []\n",
    "# get the items in the bag from the solution of the solver\n",
    "for i in range(100):\n",
    "    if solver.Value(x[i]):\n",
    "        items_in_bag.append(i)\n",
    "        print('Item :', i, 'Value :', values[i])\n",
    "# for all items in bag, get the total weight\n",
    "total_weights = sum(weights[i] for i in items_in_bag)\n",
    "# for all items in bag, get the total value\n",
    "total_value = sum(values[i] for i in items_in_bag)\n",
    "print('Total weight: ', total_weights)\n",
    "print('Total value: ', total_value)"
   ]
  }
 ],
 "metadata": {
  "kernelspec": {
   "display_name": "comet",
   "language": "python",
   "name": "python3"
  },
  "language_info": {
   "codemirror_mode": {
    "name": "ipython",
    "version": 3
   },
   "file_extension": ".py",
   "mimetype": "text/x-python",
   "name": "python",
   "nbconvert_exporter": "python",
   "pygments_lexer": "ipython3",
   "version": "3.7.9"
  }
 },
 "nbformat": 4,
 "nbformat_minor": 2
}
